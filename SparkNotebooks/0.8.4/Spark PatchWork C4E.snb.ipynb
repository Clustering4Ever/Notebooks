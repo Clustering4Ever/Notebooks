{
  "metadata" : {
    "id" : "a7e06d53-0cd6-4b3a-8c94-af2f1363e5db",
    "name" : "Spark PatchWork C4E",
    "user_save_timestamp" : "2018-04-04T17:17:57.904Z",
    "auto_save_timestamp" : "1970-01-01T01:00:00.000Z",
    "language_info" : {
      "name" : "scala",
      "file_extension" : "scala",
      "codemirror_mode" : "text/x-scala"
    },
    "trusted" : true,
    "sparkNotebook" : null,
    "customLocalRepo" : null,
    "customRepos" : [
      "clustering4ever % default % http://dl.bintray.com/clustering4ever/C4E % maven"
    ],
    "customDeps" : [
      "org.clustering4ever % clustering4ever_2.11 % 0.8.4",
      "com.github.haifengl:smile-scala_2.11:1.5.0"
    ],
    "customImports" : null,
    "customArgs" : null,
    "customSparkConf" : {
      "spark.driver.memory" : "50g",
      "spark.master" : "local[*]"
    },
    "customVars" : null
  },
  "cells" : [
    {
      "metadata" : {
        "id" : "56E473B68DE547C884E92C173F0C2CC7"
      },
      "cell_type" : "markdown",
      "source" : "# [Clustering4Ever](https://github.com/Clustering4Ever/Clustering4Ever) on [SparkNotebook](http://spark-notebook.io/) by [LIPN](https://lipn.univ-paris13.fr/) [A3](https://lipn.univ-paris13.fr/accueil/equipe/a3/) team"
    },
    {
      "metadata" : {
        "id" : "9BE3CBFDDB324D29914085C97E53D087"
      },
      "cell_type" : "markdown",
      "source" : "# Scala _K_-Means"
    },
    {
      "metadata" : {
        "trusted" : true,
        "input_collapsed" : false,
        "collapsed" : false,
        "id" : "2723CA508CC84A868DB0D63A7DB41C03"
      },
      "cell_type" : "code",
      "source" : [
        "import smile.plot._\n",
        "import scala.io.Source\n",
        "import scala.collection.{immutable, mutable, parallel}\n",
        "import org.clustering4ever.clustering.patchwork.PatchWork\n",
        "import org.clustering4ever.scala.indic.ExternalIndexes\n",
        "import org.clustering4ever.scala.indic.NmiNormalizationNature._"
      ],
      "outputs" : [
        {
          "name" : "stdout",
          "output_type" : "stream",
          "text" : "<console>:71: error: object indexes is not a member of package org.clustering4ever.scala\n       import org.clustering4ever.scala.indexes.ExternalIndexes\n                                        ^\n<console>:72: error: object indexes is not a member of package org.clustering4ever.scala\n       import org.clustering4ever.scala.indexes.NmiNormalizationNature._\n                                        ^\n"
        }
      ]
    },
    {
      "metadata" : {
        "id" : "C001456FD09A4F8697712D9D1DF3EB17"
      },
      "cell_type" : "markdown",
      "source" : "## Download dataset Aggregation"
    },
    {
      "metadata" : {
        "trusted" : true,
        "input_collapsed" : false,
        "output_stream_collapsed" : true,
        "collapsed" : false,
        "id" : "ADF3A07D58F74656A91E11A1FF13920B"
      },
      "cell_type" : "code",
      "source" : [
        ":sh wget -P /tmp/ http://www.clustering4ever.org/Datasets/Aggregation/aggregation.csv\n",
        ":sh wget -P /tmp/ http://www.clustering4ever.org/Datasets/Aggregation/labels"
      ],
      "outputs" : [
        {
          "name" : "stdout",
          "output_type" : "stream",
          "text" : "--2018-11-15 22:06:36--  http://www.clustering4ever.org/Datasets/Aggregation/aggregation.csv\nResolving www.clustering4ever.org (www.clustering4ever.org)... 62.210.16.62\nConnecting to www.clustering4ever.org (www.clustering4ever.org)|62.210.16.62|:80... connected.\nHTTP request sent, awaiting response... 200 OK\nLength: 8063 (7.9K) [text/csv]\nSaving to: ‘/tmp/aggregation.csv.5’\n\n     0K .......                                               100% 81.5M=0s\n\n2018-11-15 22:06:36 (81.5 MB/s) - ‘/tmp/aggregation.csv.5’ saved [8063/8063]\n\n:sh: Scheme missing.\n--2018-11-15 22:06:36--  http://wget/\nResolving wget (wget)... failed: Name or service not known.\nwget: unable to resolve host address ‘wget’\n--2018-11-15 22:06:36--  http://www.clustering4ever.org/Datasets/Aggregation/labels\nReusing existing connection to www.clustering4ever.org:80.\nHTTP request sent, awaiting response... 200 OK\nLength: 1576 (1.5K)\nSaving to: ‘/tmp/labels.6’\n\n     0K .                                                     100%  213M=0s\n\n2018-11-15 22:06:36 (213 MB/s) - ‘/tmp/labels.6’ saved [1576/1576]\n\nFINISHED --2018-11-15 22:06:36--\nTotal wall clock time: 0.05s\nDownloaded: 2 files, 9.4K in 0s (90.6 MB/s)\njava.lang.RuntimeException: Nonzero exit value: 4\n  at scala.sys.package$.error(package.scala:27)\n  at scala.sys.process.ProcessBuilderImpl$AbstractBuilder.slurp(ProcessBuilderImpl.scala:132)\n  at scala.sys.process.ProcessBuilderImpl$AbstractBuilder.$bang$bang(ProcessBuilderImpl.scala:103)\n  ... 67 elided\n"
        }
      ]
    },
    {
      "metadata" : {
        "id" : "4BEB170294834C8B92F180754CF0F42F"
      },
      "cell_type" : "markdown",
      "source" : "## Import data as ParArray[ArrayBuffer[Double]]"
    },
    {
      "metadata" : {
        "trusted" : true,
        "input_collapsed" : false,
        "output_stream_collapsed" : true,
        "collapsed" : false,
        "id" : "063B66723A63401CBC2F0A23BE2C2E18"
      },
      "cell_type" : "code",
      "source" : [
        "val datasetSize = 100000\n",
        "val dim = 2\n",
        "val path = \"/tmp/aggregation.csv\"\n",
        "val useAggregationDS = true\n",
        "\n",
        "val groundTruePath = \"/tmp/labels\"\n",
        "\n",
        "val rdd = sc.parallelize(Source.fromFile(path).getLines.map( x => mutable.ArrayBuffer(x.split(\",\").map(_.toDouble):_*) ).toSeq).cache\n",
        "val rddArray = rdd.map(_.toArray).cache"
      ],
      "outputs" : [
        {
          "name" : "stdout",
          "output_type" : "stream",
          "text" : "datasetSize: Int = 100000\ndim: Int = 2\npath: String = /tmp/aggregation.csv\nuseAggregationDS: Boolean = true\ngroundTruePath: String = /tmp/labels\nrdd: org.apache.spark.rdd.RDD[scala.collection.mutable.ArrayBuffer[Double]] = ParallelCollectionRDD[0] at parallelize at <console>:89\nrddArray: org.apache.spark.rdd.RDD[Array[Double]] = MapPartitionsRDD[1] at map at <console>:90\n"
        },
        {
          "metadata" : { },
          "data" : {
            "text/html" : ""
          },
          "output_type" : "execute_result",
          "execution_count" : 3,
          "time" : "Took: 1.313s, at 2018-11-15 22:06"
        }
      ]
    },
    {
      "metadata" : {
        "id" : "DB906BE4458347E98566175F44A41B25"
      },
      "cell_type" : "markdown",
      "source" : "## Parameters "
    },
    {
      "metadata" : {
        "trusted" : true,
        "input_collapsed" : false,
        "output_stream_collapsed" : true,
        "collapsed" : false,
        "id" : "7B7F65B92A1849639D25B8260E8FC13D"
      },
      "cell_type" : "code",
      "source" : [
        "val epsilon = Array(1.5, 1.5)\n",
        "val minPts = 1\n",
        "val minCellInCluster = 20\n",
        "val ratio = 0.0"
      ],
      "outputs" : [
        {
          "name" : "stdout",
          "output_type" : "stream",
          "text" : "epsilon: Array[Double] = Array(1.5, 1.5)\nminPts: Int = 1\nminCellInCluster: Int = 20\nratio: Double = 0.0\n"
        },
        {
          "metadata" : { },
          "data" : {
            "text/html" : ""
          },
          "output_type" : "execute_result",
          "execution_count" : 4,
          "time" : "Took: 0.734s, at 2018-11-15 22:06"
        }
      ]
    },
    {
      "metadata" : {
        "id" : "351DECE0EB4B4DAE8395D89284DABB26"
      },
      "cell_type" : "markdown",
      "source" : "## Run and measure the algorithm time"
    },
    {
      "metadata" : {
        "trusted" : true,
        "input_collapsed" : false,
        "output_stream_collapsed" : true,
        "collapsed" : false,
        "id" : "E0B0CE109550473CB05B52300F210055"
      },
      "cell_type" : "code",
      "source" : [
        "val t1 = System.nanoTime\n",
        "val model = new PatchWork(epsilon, minPts, ratio, minCellInCluster).run(rddArray)\n",
        "val t2 = System.nanoTime\n",
        "\n",
        "(t2 - t1) / 1000000000D"
      ],
      "outputs" : [
        {
          "name" : "stdout",
          "output_type" : "stream",
          "text" : "t1: Long = 3408619110636\nmodel: org.clustering4ever.spark.clustering.patchwork.PatchWorkModel = org.clustering4ever.spark.clustering.patchwork.PatchWorkModel@5ad1875\nt2: Long = 3410150804314\nres6: Double = 1.531693678\n"
        },
        {
          "metadata" : { },
          "data" : {
            "text/html" : "1.531693678"
          },
          "output_type" : "execute_result",
          "execution_count" : 5,
          "time" : "Took: 2.479s, at 2018-11-15 22:06"
        }
      ]
    },
    {
      "metadata" : {
        "id" : "6A954C0583E94F068A5132A6C0F21E7B"
      },
      "cell_type" : "markdown",
      "source" : "## Different ways to apply model to datasets"
    },
    {
      "metadata" : {
        "trusted" : true,
        "input_collapsed" : false,
        "collapsed" : false,
        "id" : "0D623084528448368CE5DD7203E951C7"
      },
      "cell_type" : "code",
      "source" : [
        "val clusterized1 = rddArray.map( v => (model.predict(v).getID, v) ).collect"
      ],
      "outputs" : [
        {
          "name" : "stdout",
          "output_type" : "stream",
          "text" : "clusterized1: Array[(Int, Array[Double])] = Array((1,Array(15.55, 28.65)), (1,Array(14.9, 27.55)), (1,Array(14.45, 28.35)), (1,Array(14.15, 28.8)), (1,Array(13.75, 28.05)), (1,Array(13.35, 28.45)), (1,Array(13.0, 29.15)), (1,Array(13.45, 27.5)), (1,Array(13.6, 26.5)), (1,Array(12.8, 27.35)), (1,Array(12.4, 27.85)), (1,Array(12.3, 28.4)), (1,Array(12.2, 28.65)), (1,Array(13.4, 25.1)), (1,Array(12.95, 25.95)), (1,Array(12.9, 26.5)), (1,Array(11.85, 27.0)), (1,Array(11.35, 28.0)), (1,Array(11.15, 28.7)), (1,Array(11.25, 27.4)), (1,Array(10.75, 27.7)), (1,Array(10.5, 28.35)), (1,Array(9.65, 28.45)), (1,Array(10.25, 27.25)), (1,Array(10.75, 26.55)), (1,Array(11.7, 26.35)), (1,Array(11.6, 25.9)), (1,Array(11.9, 25.05)), (1,Array(12.6, 24.05)), (1,Array(11.9, 24.5)), (1,Array(11.1, 25.2)), (1,..."
        },
        {
          "metadata" : { },
          "data" : {
            "text/html" : ""
          },
          "output_type" : "execute_result",
          "execution_count" : 6,
          "time" : "Took: 0.833s, at 2018-11-15 22:06"
        }
      ]
    },
    {
      "metadata" : {
        "id" : "AC0E30557C3B40758B75BEC5F1BE16BC"
      },
      "cell_type" : "markdown",
      "source" : "## Plot clustering results"
    },
    {
      "metadata" : {
        "trusted" : true,
        "input_collapsed" : false,
        "output_stream_collapsed" : true,
        "collapsed" : false,
        "id" : "91CDE8F5A41D411883B74E3086181EDE"
      },
      "cell_type" : "code",
      "source" : [
        "val rawData = clusterized1.map(_._2.toArray).toArray\n",
        "val labels = clusterized1.map(_._1).toArray\n",
        "plot(rawData, labels, '*', Palette.COLORS)"
      ],
      "outputs" : [
        {
          "name" : "stdout",
          "output_type" : "stream",
          "text" : "rawData: Array[Array[Double]] = Array(Array(15.55, 28.65), Array(14.9, 27.55), Array(14.45, 28.35), Array(14.15, 28.8), Array(13.75, 28.05), Array(13.35, 28.45), Array(13.0, 29.15), Array(13.45, 27.5), Array(13.6, 26.5), Array(12.8, 27.35), Array(12.4, 27.85), Array(12.3, 28.4), Array(12.2, 28.65), Array(13.4, 25.1), Array(12.95, 25.95), Array(12.9, 26.5), Array(11.85, 27.0), Array(11.35, 28.0), Array(11.15, 28.7), Array(11.25, 27.4), Array(10.75, 27.7), Array(10.5, 28.35), Array(9.65, 28.45), Array(10.25, 27.25), Array(10.75, 26.55), Array(11.7, 26.35), Array(11.6, 25.9), Array(11.9, 25.05), Array(12.6, 24.05), Array(11.9, 24.5), Array(11.1, 25.2), Array(10.55, 25.15), Array(10.05, 25.95), Array(9.35, 26.6), Array(9.3, 27.25), Array(9.2, 27.8), Array(7.5, 28.25), Array(8.55, 27.45), Ar..."
        },
        {
          "metadata" : { },
          "data" : {
            "text/html" : "Window(javax.swing.JFrame[frame0,460,37,1000x1000,layout=java.awt.BorderLayout,title=Smile Plot 1,resizable,normal,defaultCloseOperation=DISPOSE_ON_CLOSE,rootPane=javax.swing.JRootPane[,0,37,1000x963,layout=javax.swing.JRootPane$RootLayout,alignmentX=0.0,alignmentY=0.0,border=,flags=16777675,maximumSize=,minimumSize=,preferredSize=],rootPaneCheckingEnabled=true],smile.plot.PlotCanvas[,0,0,1000x963,layout=java.awt.BorderLayout,alignmentX=0.0,alignmentY=0.0,border=,flags=11,maximumSize=,minimumSize=,preferredSize=])"
          },
          "output_type" : "execute_result",
          "execution_count" : 7,
          "time" : "Took: 1.266s, at 2018-11-15 22:06"
        }
      ]
    }
  ],
  "nbformat" : 4
}