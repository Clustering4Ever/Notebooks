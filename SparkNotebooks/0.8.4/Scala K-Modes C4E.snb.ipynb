{
  "metadata" : {
    "id" : "0231e0eb-10f7-4474-b003-10f507627bf7",
    "name" : "Scala K-Modes C4E",
    "user_save_timestamp" : "1970-01-01T01:00:00.000Z",
    "auto_save_timestamp" : "1970-01-01T01:00:00.000Z",
    "language_info" : {
      "name" : "scala",
      "file_extension" : "scala",
      "codemirror_mode" : "text/x-scala"
    },
    "trusted" : true,
    "sparkNotebook" : null,
    "customLocalRepo" : null,
    "customRepos" : [
      "clustering4ever % default % http://dl.bintray.com/clustering4ever/C4E % maven"
    ],
    "customDeps" : [
      "com.github.haifengl:smile-scala_2.11:1.5.0",
      "org.apache.sanselan % sanselan % 0.97-incubator",
      "org.clustering4ever % clustering4ever_2.11 % 0.8.4"
    ],
    "customImports" : null,
    "customArgs" : null,
    "customSparkConf" : null,
    "customVars" : null
  },
  "cells" : [
    {
      "metadata" : {
        "id" : "7D3630EE3422445087CE8DDA73ECCFC5"
      },
      "cell_type" : "markdown",
      "source" : "# [Clustering4Ever](https://github.com/Clustering4Ever/Clustering4Ever) on [SparkNotebook](http://spark-notebook.io/) by [LIPN](https://lipn.univ-paris13.fr/) [A3](https://lipn.univ-paris13.fr/accueil/equipe/a3/) team"
    },
    {
      "metadata" : {
        "id" : "9BE3CBFDDB324D29914085C97E53D087"
      },
      "cell_type" : "markdown",
      "source" : "# Scala _K_-Modes"
    },
    {
      "metadata" : {
        "trusted" : true,
        "input_collapsed" : false,
        "collapsed" : false,
        "id" : "2723CA508CC84A868DB0D63A7DB41C03"
      },
      "cell_type" : "code",
      "source" : [
        "import scala.collection.mutable\n",
        "import smile.plot._\n",
        "import org.clustering4ever.clustering.kcenters.scala.KModes\n",
        "import org.clustering4ever.math.distances.binary.Hamming\n",
        "import org.clustering4ever.clusterizables.EasyClusterizable\n",
        "import org.clustering4ever.vectors.BinaryVector\n",
        "import scala.io.Source\n",
        "import smile.feature.Standardizer\n",
        "import smile.data.NumericAttribute\n",
        "import smile.data.Attribute.Type._\n",
        "import smile.plot._\n",
        "import smile.projection._\n",
        "import smile.manifold._\n",
        "import java.awt.Color\n",
        "import org.clustering4ever.vectorizables.Vectorizable"
      ],
      "outputs" : [
        {
          "name" : "stdout",
          "output_type" : "stream",
          "text" : "import scala.collection.mutable\nimport smile.plot._\nimport org.clustering4ever.clustering.kcenters.scala.KModes\nimport org.clustering4ever.math.distances.binary.Hamming\nimport org.clustering4ever.clusterizables.EasyClusterizable\nimport org.clustering4ever.vectors.BinaryVector\nimport scala.io.Source\nimport smile.feature.Standardizer\nimport smile.data.NumericAttribute\nimport smile.data.Attribute.Type._\nimport smile.plot._\nimport smile.projection._\nimport smile.manifold._\nimport java.awt.Color\nimport org.clustering4ever.vectorizables.Vectorizable\n"
        },
        {
          "metadata" : { },
          "data" : {
            "text/html" : ""
          },
          "output_type" : "execute_result",
          "execution_count" : 9,
          "time" : "Took: 0.750s, at 2019-01-26 21:29"
        }
      ]
    },
    {
      "metadata" : {
        "id" : "4F491750B428478880CDE2D355C8F6AB"
      },
      "cell_type" : "markdown",
      "source" : "## Download dataset Digits"
    },
    {
      "metadata" : {
        "trusted" : true,
        "input_collapsed" : false,
        "collapsed" : false,
        "id" : "82D63794E5FC4BAB88918A51F289EC92"
      },
      "cell_type" : "code",
      "source" : [
        ":sh wget -P /tmp/ http://www.clustering4ever.org/Datasets/Digits/digits.csv\n",
        ":sh wget -P /tmp/ http://www.clustering4ever.org/Datasets/Digits/labels"
      ],
      "outputs" : [
        {
          "name" : "stdout",
          "output_type" : "stream",
          "text" : "--2019-01-26 21:29:16--  http://www.clustering4ever.org/Datasets/Digits/digits.csv\nResolving www.clustering4ever.org (www.clustering4ever.org)... 62.210.16.62\nConnecting to www.clustering4ever.org (www.clustering4ever.org)|62.210.16.62|:80... connected.\nHTTP request sent, awaiting response... 200 OK\nLength: 959999 (937K) [text/csv]\nSaving to: ‘/tmp/digits.csv’\n\n     0K .......... .......... .......... .......... ..........  5%  719K 1s\n    50K .......... .......... .......... .......... .......... 10% 1.50M 1s\n   100K .......... .......... .......... .......... .......... 16% 1.62M 1s\n   150K .......... .......... .......... .......... .......... 21%  899K 1s\n   200K .......... .......... .......... .......... .......... 26%  959K 1s\n   250K .......... .......... .......... .......... .......... 32% 1.15M 1s\n   300K .......... .......... .......... .......... .......... 37%  669K 1s\n   350K .......... .......... .......... .......... .......... 42%  786K 1s\n   400K .......... .......... .......... .......... .......... 48% 1.73M 0s\n   450K .......... .......... .......... .......... .......... 53% 1.61M 0s\n   500K .......... .......... .......... .......... .......... 58%  998K 0s\n   550K .......... .......... .......... .......... .......... 64% 1.25M 0s\n   600K .......... .......... .......... .......... .......... 69% 1.14M 0s\n   650K .......... .......... .......... .......... .......... 74% 2.23M 0s\n   700K .......... .......... .......... .......... .......... 80%  802K 0s\n   750K .......... .......... .......... .......... .......... 85%  627K 0s\n   800K .......... .......... .......... .......... .......... 90% 5.02M 0s\n   850K .......... .......... .......... .......... .......... 96% 1.93M 0s\n   900K .......... .......... .......... .......              100% 5.29M=0.8s\n\n2019-01-26 21:29:22 (1.12 MB/s) - ‘/tmp/digits.csv’ saved [959999/959999]\n\n:sh: Scheme missing.\n--2019-01-26 21:29:22--  http://wget/\nResolving wget (wget)... failed: Name or service not known.\nwget: unable to resolve host address ‘wget’\n--2019-01-26 21:29:22--  http://www.clustering4ever.org/Datasets/Digits/labels\nReusing existing connection to www.clustering4ever.org:80.\nHTTP request sent, awaiting response... 200 OK\nLength: 4200 (4.1K)\nSaving to: ‘/tmp/labels.1’\n\n     0K ....                                                  100%  812K=0.005s\n\n2019-01-26 21:29:22 (812 KB/s) - ‘/tmp/labels.1’ saved [4200/4200]\n\nFINISHED --2019-01-26 21:29:22--\nTotal wall clock time: 6.0s\nDownloaded: 2 files, 942K in 0.8s (1.12 MB/s)\njava.lang.RuntimeException: Nonzero exit value: 4\n  at scala.sys.package$.error(package.scala:27)\n  at scala.sys.process.ProcessBuilderImpl$AbstractBuilder.slurp(ProcessBuilderImpl.scala:132)\n  at scala.sys.process.ProcessBuilderImpl$AbstractBuilder.$bang$bang(ProcessBuilderImpl.scala:103)\n  ... 73 elided\n"
        }
      ]
    },
    {
      "metadata" : {
        "id" : "4BEB170294834C8B92F180754CF0F42F"
      },
      "cell_type" : "markdown",
      "source" : "## Import and format data"
    },
    {
      "metadata" : {
        "trusted" : true,
        "input_collapsed" : false,
        "collapsed" : false,
        "id" : "E6D9891BFAFC4D088E895915B4048356"
      },
      "cell_type" : "code",
      "source" : [
        "val datasetSize = 50000\n",
        "val dim = 10\n",
        "val path = \"/tmp/digits.csv\"\n",
        "val useDigitsDS = true\n",
        "\n",
        "val rawData = if( useDigitsDS ) Source.fromFile(path).getLines.map( x => mutable.ArrayBuffer(x.split(\",\").map(_.toInt):_*) ).toBuffer\n",
        "  else mutable.ArrayBuffer.fill(datasetSize)(mutable.ArrayBuffer.fill(dim)(scala.util.Random.nextInt(2)))\n",
        "\n",
        "val parData = rawData.zipWithIndex.par.map{ case (v, id) => EasyClusterizable(id.toLong, BinaryVector(v)) }\n",
        "\n",
        "val groundTrueLabels = \"/tmp/labels\""
      ],
      "outputs" : [
        {
          "name" : "stdout",
          "output_type" : "stream",
          "text" : "datasetSize: Int = 50000\ndim: Int = 10\npath: String = /tmp/digits.csv\nuseDigitsDS: Boolean = true\nrawData: scala.collection.mutable.Buffer[scala.collection.mutable.ArrayBuffer[Int]] = ArrayBuffer(ArrayBuffer(0, 1, 1, 1, 1, 1, 1, 1, 1, 1, 1, 1, 0, 0, 0, 1, 1, 1, 1, 1, 1, 1, 1, 1, 1, 1, 1, 1, 0, 0, 1, 1, 1, 1, 1, 0, 0, 0, 1, 1, 1, 1, 1, 1, 0, 1, 1, 1, 1, 0, 0, 0, 0, 0, 1, 1, 1, 1, 1, 0, 1, 1, 1, 1, 0, 0, 0, 0, 0, 1, 1, 1, 1, 1, 0, 1, 1, 1, 1, 0, 0, 0, 0, 0, 1, 1, 1, 1, 1, 0, 1, 1, 1, 1, 0, 0, 0, 0, 0, 0, 1, 1, 1, 1, 1, 1, 1, 1, 1, 0, 0, 0, 0, 0, 0, 1, 1, 1, 1, 1, 1, 1, 1, 1, 0, 0, 0, 0, 0, 0, 1, 1, 1, 1, 1, 1, 1, 1, 1, 0, 0, 0, 0, 0, 0, 1, 1, 1, 1, 1, 1, 1, 1, 1, 0, 0, 0, 0, 0, 1, 1, 1, 1, 1, 1, 1, 1, 1, 1, 0, 0, 0, 0, 0, 1, 1, 1, 1, 1, 0, 1, 1, 1, 1, 0, 0, 0, 0, 0, 1, 1, 1, 1, 1, 0, 1, 1..."
        },
        {
          "metadata" : { },
          "data" : {
            "text/html" : ""
          },
          "output_type" : "execute_result",
          "execution_count" : 11,
          "time" : "Took: 1.940s, at 2019-01-26 21:30"
        }
      ]
    },
    {
      "metadata" : {
        "id" : "DB906BE4458347E98566175F44A41B25"
      },
      "cell_type" : "markdown",
      "source" : "## Parameters "
    },
    {
      "metadata" : {
        "trusted" : true,
        "input_collapsed" : false,
        "collapsed" : false,
        "id" : "7B7F65B92A1849639D25B8260E8FC13D"
      },
      "cell_type" : "code",
      "source" : [
        "val k = 10\n",
        "val iterMax = 100\n",
        "val epsilon = 0.1\n",
        "val metric1 = new Hamming[mutable.ArrayBuffer[Int]]"
      ],
      "outputs" : [
        {
          "name" : "stdout",
          "output_type" : "stream",
          "text" : "k: Int = 10\niterMax: Int = 100\nepsilon: Double = 0.1\nmetric1: org.clustering4ever.math.distances.binary.Hamming[scala.collection.mutable.ArrayBuffer[Int]] = Hamming(4)\n"
        },
        {
          "metadata" : { },
          "data" : {
            "text/html" : ""
          },
          "output_type" : "execute_result",
          "execution_count" : 12,
          "time" : "Took: 0.808s, at 2019-01-26 21:30"
        }
      ]
    },
    {
      "metadata" : {
        "id" : "351DECE0EB4B4DAE8395D89284DABB26"
      },
      "cell_type" : "markdown",
      "source" : "## Run the algorithm"
    },
    {
      "metadata" : {
        "trusted" : true,
        "input_collapsed" : false,
        "collapsed" : false,
        "id" : "09AE170CE4D7478784149E3296F578F1"
      },
      "cell_type" : "code",
      "source" : [
        "val t1 = System.nanoTime\n",
        "\n",
        "val model = KModes.run(parData, k, metric1, iterMax, epsilon)\n",
        "\n",
        "val t2 = System.nanoTime\n",
        "\n",
        "(t2 - t1) / 1000000000D"
      ],
      "outputs" : [
        {
          "name" : "stdout",
          "output_type" : "stream",
          "text" : "t1: Long = 30681153306003\nmodel: org.clustering4ever.clustering.kcenters.scala.KModesModel[Long,org.clustering4ever.vectors.BinaryVector[scala.collection.mutable.ArrayBuffer[Int]],scala.collection.mutable.ArrayBuffer[Int],org.clustering4ever.clusterizables.EasyClusterizable,org.clustering4ever.math.distances.binary.Hamming,scala.collection.parallel.mutable.ParSeq] = KModesModel(Map(0 -> BinaryVector(ArrayBuffer(0, 1, 1, 1, 1, 1, 1, 1, 1, 1, 1, 1, 1, 0, 0, 1, 1, 1, 1, 1, 1, 1, 1, 1, 1, 1, 1, 1, 1, 0, 0, 1, 1, 1, 1, 1, 1, 1, 1, 1, 1, 1, 1, 0, 0, 0, 0, 0, 0, 0, 1, 1, 1, 1, 1, 1, 1, 0, 0, 0, 0, 0, 0, 0, 1, 1, 1, 1, 1, 1, 1, 1, 0, 0, 0, 0, 0, 0, 1, 1, 1, 1, 1, 1, 1, 1, 1, 1, 0, 0, 0, 0, 0, 1, 1, 1, 1, 1, 1, 1, 1, 1, 1, 1, 0, 0, 0, 0, 1, 1, 1, 1, 1, 1, 1, 1, 1, 1, 1, 0, 0, 0, 0, 0, 0, 0, 0, 0..."
        },
        {
          "metadata" : { },
          "data" : {
            "text/html" : "0.395713055"
          },
          "output_type" : "execute_result",
          "execution_count" : 15,
          "time" : "Took: 1.392s, at 2019-01-26 21:31"
        }
      ]
    },
    {
      "metadata" : {
        "id" : "83C30B8CA5AF42118D68D3900B512E98"
      },
      "cell_type" : "markdown",
      "source" : "## Different ways to apply model to datasets"
    },
    {
      "metadata" : {
        "trusted" : true,
        "input_collapsed" : false,
        "collapsed" : false,
        "id" : "88DA1A3AF91841618BE8E016A4030DE6"
      },
      "cell_type" : "code",
      "source" : [
        "val clusterized11 = rawData.map( v => (model.centerPredict(v), v) )\n",
        "val clusterized12 = model.centerPredict(rawData)\n",
        "\n",
        "val clusterized21 = parData.map( cz => (model.centerPredict(cz.v), cz) )\n",
        "val clusterized22 = model.centerPredict(parData)"
      ],
      "outputs" : [
        {
          "name" : "stdout",
          "output_type" : "stream",
          "text" : "clusterized11: scala.collection.mutable.Buffer[(model.ClusterID, scala.collection.mutable.ArrayBuffer[Int])] = ArrayBuffer((1,ArrayBuffer(0, 1, 1, 1, 1, 1, 1, 1, 1, 1, 1, 1, 0, 0, 0, 1, 1, 1, 1, 1, 1, 1, 1, 1, 1, 1, 1, 1, 0, 0, 1, 1, 1, 1, 1, 0, 0, 0, 1, 1, 1, 1, 1, 1, 0, 1, 1, 1, 1, 0, 0, 0, 0, 0, 1, 1, 1, 1, 1, 0, 1, 1, 1, 1, 0, 0, 0, 0, 0, 1, 1, 1, 1, 1, 0, 1, 1, 1, 1, 0, 0, 0, 0, 0, 1, 1, 1, 1, 1, 0, 1, 1, 1, 1, 0, 0, 0, 0, 0, 0, 1, 1, 1, 1, 1, 1, 1, 1, 1, 0, 0, 0, 0, 0, 0, 1, 1, 1, 1, 1, 1, 1, 1, 1, 0, 0, 0, 0, 0, 0, 1, 1, 1, 1, 1, 1, 1, 1, 1, 0, 0, 0, 0, 0, 0, 1, 1, 1, 1, 1, 1, 1, 1, 1, 0, 0, 0, 0, 0, 1, 1, 1, 1, 1, 1, 1, 1, 1, 1, 0, 0, 0, 0, 0, 1, 1, 1, 1, 1, 0, 1, 1, 1, 1, 0, 0, 0, 0, 0, 1, 1, 1, 1, 1, 0, 1, 1, 1, 1, 1, 1, 0, 0, 1, 1, 1, 1, 1, 0, 0, 1, 1, 1, 1, 1, 1, 1, 1, 1, 1,..."
        },
        {
          "metadata" : { },
          "data" : {
            "text/html" : ""
          },
          "output_type" : "execute_result",
          "execution_count" : 18,
          "time" : "Took: 1.717s, at 2019-01-26 21:31"
        }
      ]
    },
    {
      "metadata" : {
        "id" : "75D83A1152AE494A8943132E772C517F"
      },
      "cell_type" : "markdown",
      "source" : "### Transform binary data into a grid to visualize it. Here a 15 x 16 grid for digits data"
    },
    {
      "metadata" : {
        "trusted" : true,
        "input_collapsed" : false,
        "collapsed" : false,
        "id" : "9DD362D187534AC58D796A2476EFA040"
      },
      "cell_type" : "code",
      "source" : [
        "val centroids = model.centers.toArray\n",
        "val formatedCentroids = centroids.map(_._2.vector.map(_.toDouble).grouped(15).map(_.toArray).toArray)"
      ],
      "outputs" : [
        {
          "name" : "stdout",
          "output_type" : "stream",
          "text" : "centroids: Array[(Int, org.clustering4ever.vectors.BinaryVector[scala.collection.mutable.ArrayBuffer[Int]])] = Array((0,BinaryVector(ArrayBuffer(0, 1, 1, 1, 1, 1, 1, 1, 1, 1, 1, 1, 1, 0, 0, 1, 1, 1, 1, 1, 1, 1, 1, 1, 1, 1, 1, 1, 1, 0, 0, 1, 1, 1, 1, 1, 1, 1, 1, 1, 1, 1, 1, 0, 0, 0, 0, 0, 0, 0, 1, 1, 1, 1, 1, 1, 1, 0, 0, 0, 0, 0, 0, 0, 1, 1, 1, 1, 1, 1, 1, 1, 0, 0, 0, 0, 0, 0, 1, 1, 1, 1, 1, 1, 1, 1, 1, 1, 0, 0, 0, 0, 0, 1, 1, 1, 1, 1, 1, 1, 1, 1, 1, 1, 0, 0, 0, 0, 1, 1, 1, 1, 1, 1, 1, 1, 1, 1, 1, 0, 0, 0, 0, 0, 0, 0, 0, 0, 0, 1, 1, 1, 1, 1, 1, 0, 0, 0, 0, 0, 0, 0, 0, 0, 0, 1, 1, 1, 1, 1, 0, 0, 0, 0, 0, 0, 0, 0, 0, 1, 1, 1, 1, 1, 1, 0, 0, 0, 0, 0, 0, 0, 0, 0, 1, 1, 1, 1, 1, 1, 0, 0, 0, 0, 0, 0, 0, 0, 0, 1, 1, 1, 1, 1, 0, 0, 1, 1, 1, 1, 1, 1, 1, 1, 1, 1, 1, 1, 1, 0, 0, 1, 1, 1, 1, 1, 1, 1..."
        },
        {
          "metadata" : { },
          "data" : {
            "text/html" : ""
          },
          "output_type" : "execute_result",
          "execution_count" : 20,
          "time" : "Took: 0.872s, at 2019-01-26 21:32"
        }
      ]
    },
    {
      "metadata" : {
        "id" : "5550C9C24D804A41969553DB880FA709"
      },
      "cell_type" : "markdown",
      "source" : "### Visualize centroids"
    },
    {
      "metadata" : {
        "trusted" : true,
        "input_collapsed" : false,
        "collapsed" : false,
        "id" : "C0BE5A643DED41CB89B4004FFEF51F3F"
      },
      "cell_type" : "code",
      "source" : [
        "formatedCentroids.foreach( centroid => hexmap(centroid, Array(Palette.BLACK, Palette.LIGHT_GRAY)))"
      ],
      "outputs" : [
        {
          "metadata" : { },
          "data" : {
            "text/html" : ""
          },
          "output_type" : "execute_result",
          "execution_count" : 21,
          "time" : "Took: 9.049s, at 2019-01-26 21:32"
        }
      ]
    },
    {
      "metadata" : {
        "id" : "4D1745D0A92E46C9A9D17FE199E2B3D7"
      },
      "cell_type" : "markdown",
      "source" : "<p align=\"center\">\n<img src =\"http://www.clustering4ever.org/SparkNotebooksPictures/digits-centers-1.png\" width=\"300\" />\n<img src =\"http://www.clustering4ever.org/SparkNotebooksPictures/digits-centers-2.png\" width=\"300\" />\n<img src =\"http://www.clustering4ever.org/SparkNotebooksPictures/digits-centers-3.png\" width=\"300\" />\n<img src =\"http://www.clustering4ever.org/SparkNotebooksPictures/digits-centers-4.png\" width=\"160\" />\n</p>"
    },
    {
      "metadata" : {
        "id" : "44CE1D500444471AA391D7A8CDA4C01F"
      },
      "cell_type" : "markdown",
      "source" : "## Standardize data and apply a PCA on it"
    },
    {
      "metadata" : {
        "trusted" : true,
        "input_collapsed" : false,
        "collapsed" : false,
        "id" : "D9F740AA5DC14DAA85D06F16F35272D3"
      },
      "cell_type" : "code",
      "source" : [
        "val types = for( i <- (0 until parData.head.v.vector.size).toArray ) yield new NumericAttribute(i.toString)\n",
        "\n",
        "val standardize = new Standardizer\n",
        "\n",
        "val dataAsDouble = parData.map(_.v.vector.map(_.toDouble))\n",
        "\n",
        "standardize.learn(types.toArray, dataAsDouble.map(_.toArray).toArray)\n",
        "\n",
        "val standardizedData = clusterized22.map( cz => (cz.clusterIDs.last, cz.v.vector.map(_.toDouble).toArray) )"
      ],
      "outputs" : [
        {
          "name" : "stdout",
          "output_type" : "stream",
          "text" : "types: Array[smile.data.NumericAttribute] = Array(NUMERIC[0], NUMERIC[1], NUMERIC[2], NUMERIC[3], NUMERIC[4], NUMERIC[5], NUMERIC[6], NUMERIC[7], NUMERIC[8], NUMERIC[9], NUMERIC[10], NUMERIC[11], NUMERIC[12], NUMERIC[13], NUMERIC[14], NUMERIC[15], NUMERIC[16], NUMERIC[17], NUMERIC[18], NUMERIC[19], NUMERIC[20], NUMERIC[21], NUMERIC[22], NUMERIC[23], NUMERIC[24], NUMERIC[25], NUMERIC[26], NUMERIC[27], NUMERIC[28], NUMERIC[29], NUMERIC[30], NUMERIC[31], NUMERIC[32], NUMERIC[33], NUMERIC[34], NUMERIC[35], NUMERIC[36], NUMERIC[37], NUMERIC[38], NUMERIC[39], NUMERIC[40], NUMERIC[41], NUMERIC[42], NUMERIC[43], NUMERIC[44], NUMERIC[45], NUMERIC[46], NUMERIC[47], NUMERIC[48], NUMERIC[49], NUMERIC[50], NUMERIC[51], NUMERIC[52], NUMERIC[53], NUMERIC[54], NUMERIC[55], NUMERIC[56], NUMERIC[57], NUM..."
        },
        {
          "metadata" : { },
          "data" : {
            "text/html" : ""
          },
          "output_type" : "execute_result",
          "execution_count" : 25,
          "time" : "Took: 1.217s, at 2019-01-26 21:33"
        }
      ]
    },
    {
      "metadata" : {
        "trusted" : true,
        "input_collapsed" : false,
        "collapsed" : false,
        "id" : "A072ED82DAEF4354894B1ACA8B0CCC44"
      },
      "cell_type" : "code",
      "source" : [
        "val readyToPca = standardizedData.map(_._2).toArray\n",
        "\n",
        "val pcaModel = pca(readyToPca)\n",
        "\n",
        "pcaModel.setProjection(3)\n",
        "\n",
        "val pcaizedData = standardizedData.map{ case (clusterID, v) => (clusterID, pcaModel.project(v)) }"
      ],
      "outputs" : [
        {
          "name" : "stdout",
          "output_type" : "stream",
          "text" : "readyToPca: Array[Array[Double]] = Array(Array(0.0, 1.0, 1.0, 1.0, 1.0, 1.0, 1.0, 1.0, 1.0, 1.0, 1.0, 1.0, 0.0, 0.0, 0.0, 1.0, 1.0, 1.0, 1.0, 1.0, 1.0, 1.0, 1.0, 1.0, 1.0, 1.0, 1.0, 1.0, 0.0, 0.0, 1.0, 1.0, 1.0, 1.0, 1.0, 0.0, 0.0, 0.0, 1.0, 1.0, 1.0, 1.0, 1.0, 1.0, 0.0, 1.0, 1.0, 1.0, 1.0, 0.0, 0.0, 0.0, 0.0, 0.0, 1.0, 1.0, 1.0, 1.0, 1.0, 0.0, 1.0, 1.0, 1.0, 1.0, 0.0, 0.0, 0.0, 0.0, 0.0, 1.0, 1.0, 1.0, 1.0, 1.0, 0.0, 1.0, 1.0, 1.0, 1.0, 0.0, 0.0, 0.0, 0.0, 0.0, 1.0, 1.0, 1.0, 1.0, 1.0, 0.0, 1.0, 1.0, 1.0, 1.0, 0.0, 0.0, 0.0, 0.0, 0.0, 0.0, 1.0, 1.0, 1.0, 1.0, 1.0, 1.0, 1.0, 1.0, 1.0, 0.0, 0.0, 0.0, 0.0, 0.0, 0.0, 1.0, 1.0, 1.0, 1.0, 1.0, 1.0, 1.0, 1.0, 1.0, 0.0, 0.0, 0.0, 0.0, 0.0, 0.0, 1.0, 1.0, 1.0, 1.0, 1.0, 1.0, 1.0, 1.0, 1.0, 0.0, 0.0, 0.0, 0.0, 0.0, 0.0, 1.0, 1.0, 1.0, 1.0, 1.0, ..."
        },
        {
          "metadata" : { },
          "data" : {
            "text/html" : ""
          },
          "output_type" : "execute_result",
          "execution_count" : 26,
          "time" : "Took: 3.541s, at 2019-01-26 21:33"
        }
      ]
    },
    {
      "metadata" : {
        "trusted" : true,
        "input_collapsed" : false,
        "collapsed" : false,
        "id" : "7B84A761EE9A49DAA52B2E48BC936981"
      },
      "cell_type" : "code",
      "source" : [
        "val pureData = pcaizedData.map(_._2).toArray\n",
        "val labels = pcaizedData.map(_._1).toArray\n",
        "val pcizedCentroids = centroids.map{ case (_, centroid) =>  (Int.MaxValue, pcaModel.project(standardize.transform(centroid.vector.map(_.toDouble).toArray))) }"
      ],
      "outputs" : [
        {
          "name" : "stdout",
          "output_type" : "stream",
          "text" : "pureData: Array[Array[Double]] = Array(Array(0.8581670566923537, 4.491446006457944, 1.3492074366872653), Array(0.3812071416844144, 3.2096660209117225, 0.030868635243768594), Array(2.040289609732212, 3.281287381274164, 0.5883708950800963), Array(0.6009966267867405, 3.1202592201212456, 1.039892669726206), Array(2.188639715061769, 3.017027197526276, 0.15057016702522696), Array(0.33402248854777394, -1.0384366071886362, -0.9078965691317149), Array(2.0582940809526598, 4.122284171373905, 1.9544274974383697), Array(1.5809368270391944, 3.7739566822936377, 1.2726865712592756), Array(1.8419422874284388, 4.275665793297685, 1.8050967388646428), Array(1.2835788275741016, 3.3133122571689695, 1.8535870004193489), Array(1.563510656399107, 3.079184695975594, 0.9349226924825416), Array(2.0847380739786225,..."
        },
        {
          "metadata" : { },
          "data" : {
            "text/html" : ""
          },
          "output_type" : "execute_result",
          "execution_count" : 28,
          "time" : "Took: 0.767s, at 2019-01-26 21:33"
        }
      ]
    },
    {
      "metadata" : {
        "trusted" : true,
        "input_collapsed" : false,
        "collapsed" : false,
        "id" : "24A032582F064CC9813146E65BD507C3"
      },
      "cell_type" : "code",
      "source" : [
        "plot(pureData, labels, '.', Palette.COLORS)"
      ],
      "outputs" : [
        {
          "name" : "stdout",
          "output_type" : "stream",
          "text" : "res34: smile.plot.Window = Window(javax.swing.JFrame[frame0,460,37,1000x1000,invalid,layout=java.awt.BorderLayout,title=Smile Plot 11,resizable,normal,defaultCloseOperation=DISPOSE_ON_CLOSE,rootPane=javax.swing.JRootPane[,5,25,990x970,invalid,layout=javax.swing.JRootPane$RootLayout,alignmentX=0.0,alignmentY=0.0,border=,flags=16777675,maximumSize=,minimumSize=,preferredSize=],rootPaneCheckingEnabled=true],smile.plot.PlotCanvas[,0,0,0x0,invalid,layout=java.awt.BorderLayout,alignmentX=0.0,alignmentY=0.0,border=,flags=9,maximumSize=,minimumSize=,preferredSize=])\n"
        },
        {
          "metadata" : { },
          "data" : {
            "text/html" : "Window(javax.swing.JFrame[frame0,460,37,1000x1000,layout=java.awt.BorderLayout,title=Smile Plot 11,resizable,normal,defaultCloseOperation=DISPOSE_ON_CLOSE,rootPane=javax.swing.JRootPane[,0,37,1000x963,layout=javax.swing.JRootPane$RootLayout,alignmentX=0.0,alignmentY=0.0,border=,flags=16777675,maximumSize=,minimumSize=,preferredSize=],rootPaneCheckingEnabled=true],smile.plot.PlotCanvas[,0,0,1000x963,layout=java.awt.BorderLayout,alignmentX=0.0,alignmentY=0.0,border=,flags=11,maximumSize=,minimumSize=,preferredSize=])"
          },
          "output_type" : "execute_result",
          "execution_count" : 29,
          "time" : "Took: 0.699s, at 2019-01-26 21:33"
        }
      ]
    },
    {
      "metadata" : {
        "id" : "F2DA199C58C6459D81458F4A34A9FC0E"
      },
      "cell_type" : "markdown",
      "source" : "<p align=\"center\">\n<img src =\"http://www.clustering4ever.org/SparkNotebooksPictures/digits-pca3.png\" width=\"500\" />\n</p>"
    },
    {
      "metadata" : {
        "trusted" : true,
        "input_collapsed" : false,
        "collapsed" : false,
        "id" : "D0B4468AD5314C098EC9C51AED2DFA13"
      },
      "cell_type" : "code",
      "source" : [
        "val window = plot(pureData, labels, '.', Palette.COLORS)\n",
        "window.canvas.points(\"centroid\", pcizedCentroids.map(_._2), 'Q', Color.BLACK)"
      ],
      "outputs" : [
        {
          "name" : "stdout",
          "output_type" : "stream",
          "text" : "window: smile.plot.Window = Window(javax.swing.JFrame[frame1,460,40,1000x1000,invalid,layout=java.awt.BorderLayout,title=Smile Plot 12,resizable,normal,defaultCloseOperation=DISPOSE_ON_CLOSE,rootPane=javax.swing.JRootPane[,5,25,990x970,invalid,layout=javax.swing.JRootPane$RootLayout,alignmentX=0.0,alignmentY=0.0,border=,flags=16777673,maximumSize=,minimumSize=,preferredSize=],rootPaneCheckingEnabled=true],smile.plot.PlotCanvas[,0,0,0x0,invalid,layout=java.awt.BorderLayout,alignmentX=0.0,alignmentY=0.0,border=,flags=9,maximumSize=,minimumSize=,preferredSize=])\nres28: smile.plot.ScatterPlot = smile.plot.ScatterPlot@6219ce69\n"
        },
        {
          "metadata" : { },
          "data" : {
            "text/html" : "smile.plot.ScatterPlot@6219ce69"
          },
          "output_type" : "execute_result",
          "execution_count" : 14,
          "time" : "Took: 0.962s, at 2018-11-19 17:27"
        }
      ]
    },
    {
      "metadata" : {
        "id" : "8C65FA084E1B4C748B4D60002C07AE4D"
      },
      "cell_type" : "markdown",
      "source" : "## Visualization with t-sne"
    },
    {
      "metadata" : {
        "trusted" : true,
        "input_collapsed" : false,
        "collapsed" : false,
        "id" : "C93A5C822CB24619B8D89804171B93D6"
      },
      "cell_type" : "code",
      "source" : [
        "val sne = tsne(readyToPca, 3)"
      ],
      "outputs" : [
        {
          "name" : "stdout",
          "output_type" : "stream",
          "text" : "sne: smile.manifold.TSNE = smile.manifold.TSNE@31c9fdd0\n"
        },
        {
          "metadata" : { },
          "data" : {
            "text/html" : ""
          },
          "output_type" : "execute_result",
          "execution_count" : 30,
          "time" : "Took: 29.996s, at 2019-01-26 21:33"
        }
      ]
    },
    {
      "metadata" : {
        "trusted" : true,
        "input_collapsed" : false,
        "collapsed" : false,
        "id" : "E6A33F4229C5498F9A9C25C56EB1DACC"
      },
      "cell_type" : "code",
      "source" : [
        "plot(sne.getCoordinates, labels, '.', Palette.COLORS)"
      ],
      "outputs" : [
        {
          "name" : "stdout",
          "output_type" : "stream",
          "text" : "res37: smile.plot.Window = Window(javax.swing.JFrame[frame1,460,37,1000x1000,invalid,layout=java.awt.BorderLayout,title=Smile Plot 12,resizable,normal,defaultCloseOperation=DISPOSE_ON_CLOSE,rootPane=javax.swing.JRootPane[,5,25,990x970,invalid,layout=javax.swing.JRootPane$RootLayout,alignmentX=0.0,alignmentY=0.0,border=,flags=16777673,maximumSize=,minimumSize=,preferredSize=],rootPaneCheckingEnabled=true],smile.plot.PlotCanvas[,0,0,0x0,invalid,layout=java.awt.BorderLayout,alignmentX=0.0,alignmentY=0.0,border=,flags=9,maximumSize=,minimumSize=,preferredSize=])\n"
        },
        {
          "metadata" : { },
          "data" : {
            "text/html" : "Window(javax.swing.JFrame[frame1,460,37,1000x1000,layout=java.awt.BorderLayout,title=Smile Plot 12,resizable,normal,defaultCloseOperation=DISPOSE_ON_CLOSE,rootPane=javax.swing.JRootPane[,0,37,1000x963,layout=javax.swing.JRootPane$RootLayout,alignmentX=0.0,alignmentY=0.0,border=,flags=16777675,maximumSize=,minimumSize=,preferredSize=],rootPaneCheckingEnabled=true],smile.plot.PlotCanvas[,0,0,1000x963,layout=java.awt.BorderLayout,alignmentX=0.0,alignmentY=0.0,border=,flags=11,maximumSize=,minimumSize=,preferredSize=])"
          },
          "output_type" : "execute_result",
          "execution_count" : 31,
          "time" : "Took: 0.638s, at 2019-01-26 21:33"
        }
      ]
    },
    {
      "metadata" : {
        "id" : "5580D2527AF84F359660B358796B1CD7"
      },
      "cell_type" : "markdown",
      "source" : "## Include centroids "
    },
    {
      "metadata" : {
        "trusted" : true,
        "input_collapsed" : false,
        "collapsed" : false,
        "id" : "EE07C78BFAA04C119F848AFA8BDECFAA"
      },
      "cell_type" : "code",
      "source" : [
        "val readyTsneCentroids = centroids.map{ case (_, centroid) =>  (Int.MaxValue, standardize.transform(centroid.vector.map(_.toDouble).toArray)) }\n",
        "\n",
        "val readyToTsne = readyToPca ++ readyTsneCentroids.map(_._2)"
      ],
      "outputs" : [
        {
          "name" : "stdout",
          "output_type" : "stream",
          "text" : "readyTsneCentroids: Array[(Int, Array[Double])] = Array((2147483647,Array(-0.4691973206300246, 1.3790599120157478, 0.9947636535218598, 0.7311989859280826, 0.5818236344745712, 0.4731577041265375, 0.4050460242033411, 0.3752743814604061, 0.3838921816267829, 0.45004943939012954, 0.5440847285433487, 0.7135679682293894, 0.9789711063317041, -0.7473734209867955, -0.4818399603409751, 1.491540662666324, 0.9433525261840586, 0.6889766255545046, 0.5386811852615968, 0.4419949476766309, 0.36391836974993397, 0.30373202063736837, 0.2784733628071156, 0.3076416819747157, 0.3577255499568549, 0.42899948314926056, 0.5502546049722432, 0.7040158872382919, 0.9653501780098116, -0.6646353033940223, -0.7056049015940564, 0.866566690088696, 0.6622910964242819, 0.5502546049722432, 0.4620448429462271, 0.45004943939012..."
        },
        {
          "metadata" : { },
          "data" : {
            "text/html" : ""
          },
          "output_type" : "execute_result",
          "execution_count" : 35,
          "time" : "Took: 0.874s, at 2019-01-26 21:34"
        }
      ]
    },
    {
      "metadata" : {
        "trusted" : true,
        "input_collapsed" : false,
        "collapsed" : false,
        "id" : "F2CFDB9BA525483887B286C3FAB73934"
      },
      "cell_type" : "code",
      "source" : [
        "val sne2 = tsne(readyToTsne, 3)"
      ],
      "outputs" : [
        {
          "name" : "stdout",
          "output_type" : "stream",
          "text" : "sne2: smile.manifold.TSNE = smile.manifold.TSNE@b7f16f4\n"
        },
        {
          "metadata" : { },
          "data" : {
            "text/html" : ""
          },
          "output_type" : "execute_result",
          "execution_count" : 36,
          "time" : "Took: 27.822s, at 2019-01-26 21:34"
        }
      ]
    },
    {
      "metadata" : {
        "trusted" : true,
        "input_collapsed" : false,
        "collapsed" : false,
        "id" : "EBCB80FB919E4364862FA7877D678EC8"
      },
      "cell_type" : "code",
      "source" : [
        "val dataTsne = sne2.getCoordinates.take(parData.size)\n",
        "val dataCentroids = sne2.getCoordinates.takeRight(10)\n",
        "\n",
        "val window = plot(dataTsne, labels, '.', Palette.COLORS)\n",
        "window.canvas.points(\"centroid\", dataCentroids, 'Q', Color.BLACK)"
      ],
      "outputs" : [
        {
          "name" : "stdout",
          "output_type" : "stream",
          "text" : "dataTsne: Array[Array[Double]] = Array(Array(1.9880859196767076, -18.797156804993215, -14.890511186279857), Array(-3.34027365824598, -16.59720287146518, -14.927973540873333), Array(5.3210852870558085, -15.188085458922304, -13.302747018662673), Array(2.52693539309312, -14.8624112903137, -11.530424313550492), Array(-1.555485728221396, -14.121106563994546, -17.34497863650191), Array(-10.844007427585991, -1.6917299168801248, -9.292298544344535), Array(3.744579477584654, -15.761103858248157, -18.19023683263945), Array(-1.089517648808231, -17.439790584311588, -15.623894273251137), Array(2.4708896567374494, -18.170448472163557, -17.898989775683738), Array(5.380482346111652, -15.400519733666334, -15.710869602436645), Array(1.4476282229991941, -13.518325738552646, -17.959343395178305), Array(3.8..."
        },
        {
          "metadata" : { },
          "data" : {
            "text/html" : "smile.plot.ScatterPlot@38ba8bb3"
          },
          "output_type" : "execute_result",
          "execution_count" : 37,
          "time" : "Took: 0.704s, at 2019-01-26 21:34"
        }
      ]
    },
    {
      "metadata" : {
        "id" : "1B2D48C2E63B48A79213DB580DD3C116"
      },
      "cell_type" : "markdown",
      "source" : "<p align=\"center\">\n<img src =\"http://www.clustering4ever.org/SparkNotebooksPictures/digits-tsne3.png\" width=\"500\" />\n</p>"
    }
  ],
  "nbformat" : 4
}