{
 "cells": [
  {
   "cell_type": "markdown",
   "metadata": {},
   "source": [
    "# [Clustering4Ever](https://github.com/Clustering4Ever/Clustering4Ever) by [LIPN](https://lipn.univ-paris13.fr/) [A3](https://lipn.univ-paris13.fr/accueil/equipe/a3/) team"
   ]
  },
  {
   "cell_type": "code",
   "execution_count": 1,
   "metadata": {},
   "outputs": [
    {
     "data": {
      "application/vnd.jupyter.widget-view+json": {
       "model_id": "",
       "version_major": 2,
       "version_minor": 0
      },
      "method": "display_data"
     },
     "metadata": {},
     "output_type": "display_data"
    },
    {
     "data": {
      "application/vnd.jupyter.widget-view+json": {
       "model_id": "a9ad2f8d-bf55-4ed1-bcdf-c5b13d25ea9d",
       "version_major": 2,
       "version_minor": 0
      },
      "method": "display_data"
     },
     "metadata": {},
     "output_type": "display_data"
    }
   ],
   "source": [
    "%%classpath add mvn\n",
    "org.clustering4ever clustering4ever_2.11 0.9.6"
   ]
  },
  {
   "cell_type": "code",
   "execution_count": 2,
   "metadata": {},
   "outputs": [
    {
     "data": {
      "application/vnd.jupyter.widget-view+json": {
       "model_id": "",
       "version_major": 2,
       "version_minor": 0
      },
      "method": "display_data"
     },
     "metadata": {},
     "output_type": "display_data"
    },
    {
     "data": {
      "application/vnd.jupyter.widget-view+json": {
       "model_id": "564ae424-6c4f-47d4-9a8c-1cd6ce084be0",
       "version_major": 2,
       "version_minor": 0
      },
      "method": "display_data"
     },
     "metadata": {},
     "output_type": "display_data"
    }
   ],
   "source": [
    "%%classpath add mvn\n",
    "org.apache.spark spark-core_2.11 2.4.3"
   ]
  },
  {
   "cell_type": "markdown",
   "metadata": {},
   "source": [
    "# Clusterwise PLS"
   ]
  },
  {
   "cell_type": "code",
   "execution_count": 3,
   "metadata": {},
   "outputs": [
    {
     "data": {
      "text/plain": [
       "import org.clustering4ever.spark.clustering.clusterwise.{Clusterwise, ClusterwiseCore, PLS, ClusterwiseModel}\n",
       "import scala.collection.{mutable, immutable}\n"
      ]
     },
     "execution_count": 3,
     "metadata": {},
     "output_type": "execute_result"
    }
   ],
   "source": [
    "import org.clustering4ever.spark.clustering.clusterwise.{Clusterwise, ClusterwiseCore, PLS, ClusterwiseModel}\n",
    "import scala.collection.{mutable, immutable}"
   ]
  },
  {
   "cell_type": "code",
   "execution_count": 4,
   "metadata": {},
   "outputs": [
    {
     "data": {
      "text/plain": [
       "org.apache.spark.SparkContext@31b23501"
      ]
     },
     "execution_count": 4,
     "metadata": {},
     "output_type": "execute_result"
    }
   ],
   "source": [
    "import org.apache.spark.SparkContext\n",
    "import org.apache.spark.SparkContext._\n",
    "import org.apache.spark.SparkConf\n",
    "\n",
    "val conf = new SparkConf().setAppName(\"Simple Application\").set(\"spark.ui.enabled\", \"false\")\n",
    "val sc = new SparkContext(\"local[4]\", \"Simple Application\", conf)"
   ]
  },
  {
   "cell_type": "code",
   "execution_count": 8,
   "metadata": {},
   "outputs": [
    {
     "name": "stdout",
     "output_type": "stream",
     "text": [
      "--2019-08-22 23:08:40--  http://www.clustering4ever.org/Datasets/Clusterwise/simdata.csv\n",
      "Résolution de www.clustering4ever.org (www.clustering4ever.org)… 62.210.16.62\n",
      "Connexion à www.clustering4ever.org (www.clustering4ever.org)|62.210.16.62|:80… connecté.\n",
      "requête HTTP transmise, en attente de la réponse… 200 OK\n",
      "Taille : 61840 (60K) [text/csv]\n",
      "Sauvegarde en : « /tmp/simdata.csv »\n",
      "\n",
      "     0K .......... .......... .......... .......... .......... 82%  241K 0s\n",
      "    50K ..........                                            100%  499K=0,2s\n",
      "\n",
      "2019-08-22 23:08:41 (265 KB/s) — « /tmp/simdata.csv » sauvegardé [61840/61840]\n",
      "\n",
      "\n"
     ]
    }
   ],
   "source": [
    "%%bash\n",
    "wget -P /tmp/ http://www.clustering4ever.org/Datasets/Clusterwise/simdata.csv"
   ]
  },
  {
   "cell_type": "code",
   "execution_count": 9,
   "metadata": {},
   "outputs": [
    {
     "data": {
      "text/plain": [
       "[[(0,([D@29d57a71,[D@6627afbe)), (1,([D@45617bc5,[D@622213be)), (2,([D@3a42050d,[D@70c30934)), (3,([D@3eb2ebba,[D@4cffa031)), (4,([D@663faece,[D@edd9194)), (5,([D@271b54ce,[D@16549634)), (6,([D@d0603ee,[D@6f3562eb)), (7,([D@12f5f6e7,[D@20a227bb)), (8,([D@1d865932,[D@59605253)), (9,([D@649fd556,[D@55b1a981)), (10,([D@7a5125cc,[D@21f8021f)), (11,([D@3bd74613,[D@63f20d49)), (12,([D@10fe3bbe,[D@71772b44)), (13,([D@70911ca7,[D@3facfb9)), (14,([D@623837b3,[D@2add1dbb)), (15,([D@52515863,[D@783d297)), (16,([D@24a5f87b,[D@66d71991)), (17,([D@3e9dd768,[D@2793ad46)), (18,([D@2c7eefef,[D@723b7060)), (19,([D@22cddfd8,[D@188ebf5a)), (20,([D@43d43a33,[D@6a45ea59)), (21,([D@263adbd6,[D@4ba3d424)), (22,([D@29c47ac1,[D@6c164a82)), (23,([D@1c82d8bd,[D@49d53dfd)), (24,([D@43cd4474,[D@1dd144d5)), (25,([D@171c20e2,[D@7746cd29)), (26,([D@5e01c951,[D@49e1c9a8)), (27,([D@3f0cfb46,[D@7e62560b)), (28,([D@2ef953d7,[D@69926329)), (29,([D@311c7396,[D@5da2a9b0)), (30,([D@39a12e38,[D@43d0890e)), (31,([D@1182d221,[D@59251688)), (32,([D@69c5237a,[D@2e1a4fb5)), (33,([D@290e838d,[D@58ee4172)), (34,([D@187067e6,[D@64ebe4ba)), (35,([D@39a40141,[D@136b22d6)), (36,([D@8bf280a,[D@33cad393)), (37,([D@2afd62a2,[D@604a88b9)), (38,([D@114413c2,[D@74f70c32)), (39,([D@35de887c,[D@165c13e)), (40,([D@308e08d3,[D@7c54146c)), (41,([D@3d08fef2,[D@12cba45c)), (42,([D@52c3ee46,[D@e686706)), (43,([D@74edf757,[D@3bcb54d2)), (44,([D@76372c33,[D@3b2a35a4)), (45,([D@20663ad9,[D@41ea87c3)), (46,([D@ef36d79,[D@649efe16)), (47,([D@75bfa0ae,[D@607ee545)), (48,([D@7573d496,[D@660eea60)), (49,([D@6e3c9cdf,[D@79ff0890)), (50,([D@1243a45d,[D@38f019f)), (51,([D@9dfbf55,[D@8659d76)), (52,([D@78ba16b,[D@7c73dbfc)), (53,([D@822e630,[D@2c08446f)), (54,([D@76d2287c,[D@149ca161)), (55,([D@b90d6a4,[D@6555c085)), (56,([D@2a3859b,[D@73c5ab07)), (57,([D@7e6d762d,[D@3577d08d)), (58,([D@2b6614e5,[D@75a51f1d)), (59,([D@60ecd39a,[D@6b1484b2)), (60,([D@70ce6409,[D@2dced0fa)), (61,([D@2b38b6da,[D@6446961b)), (62,([D@672b58b6,[D@3cb90da9)), (63,([D@52d9e282,[D@27f408c)), (64,([D@3f2c569d,[D@4b0cc094)), (65,([D@56dce685,[D@2edfa7f2)), (66,([D@731a940a,[D@5ebfe29d)), (67,([D@6f66cf01,[D@3cd51528)), (68,([D@1b486c7c,[D@3a42ce82)), (69,([D@6305000c,[D@77ed3511)), (70,([D@2f9e9c1c,[D@30471b3)), (71,([D@48ca04bf,[D@5691f50a)), (72,([D@d34fdb8,[D@2d1d8c44)), (73,([D@35ea9aa4,[D@6c0a00b6)), (74,([D@46f9f9b2,[D@7473285)), (75,([D@6619b773,[D@5aaa04b6)), (76,([D@53974238,[D@6d7a91d5)), (77,([D@46730126,[D@4c7632ea)), (78,([D@25992fde,[D@1c54f681)), (79,([D@42f0ae1c,[D@3f6c25ca)), (80,([D@53e71a26,[D@683c0e25)), (81,([D@2f7bcd70,[D@7167ef20)), (82,([D@1a3aed00,[D@12ff9544)), (83,([D@639eca26,[D@2d4e379a)), (84,([D@60519dde,[D@eea6125)), (85,([D@1bb05524,[D@479e532f)), (86,([D@2b4d896f,[D@76f3266a)), (87,([D@6ff344e5,[D@5a41651f)), (88,([D@1d0089c9,[D@722f2c75)), (89,([D@70e9ab9,[D@56b67eda)), (90,([D@4f61fb04,[D@44262a19)), (91,([D@370ebb76,[D@52ab53e3)), (92,([D@12d22b69,[D@6751bdc8)), (93,([D@25c67f5f,[D@2d7a144f)), (94,([D@2e70fbea,[D@44a5ac11)), (95,([D@520f0f5d,[D@2f2ab13f)), (96,([D@6aca09b,[D@6f80517b)), (97,([D@45dfce31,[D@3f862cfc)), (98,([D@5ccdebef,[D@31ab6284)), (99,([D@abe8cc6,[D@4d1b0a1)), (100,([D@3770b147,[D@5da54a6f)), (101,([D@230325a1,[D@2adecdd8)), (102,([D@1896ab4d,[D@6f176c02)), (103,([D@5503626c,[D@9efd519)), (104,([D@248edbaa,[D@702dc445)), (105,([D@3e73d82e,[D@494385e4)), (106,([D@1bc254ed,[D@5d3a43c)), (107,([D@25c1ae00,[D@70f863f9)), (108,([D@79143437,[D@61fe9d6d)), (109,([D@49679efc,[D@7a33cb82)), (110,([D@22defd7f,[D@37de19bc)), (111,([D@42bbf1c5,[D@26305dcb)), (112,([D@73d06977,[D@34049d48)), (113,([D@292c77d4,[D@d56a93f)), (114,([D@7dbdf233,[D@6d43de11)), (115,([D@279b86ba,[D@1fbcdc27)), (116,([D@d828989,[D@7ec27d7e)), (117,([D@5178a4a,[D@7c33332b)), (118,([D@656433e5,[D@8208bba)), (119,([D@31dc052e,[D@5493c255)), (120,([D@10ac3839,[D@1c5d1ccd)), (121,([D@4d798f1d,[D@7b26d8d)), (122,([D@76aef0b2,[D@26131de)), (123,([D@3e157e8,[D@17ab9c1c)), (124,([D@1681d53b,[D@1d65f9f4)), (125,([D@14b2b3a7,[D@5fb29651)), (126,([D@4782a891,[D@751a43cc)), (127,([D@7434f943,[D@3f7ff98a)), (128,([D@6d6b08d4,[D@4a482296)), (129,([D@19e5347d,[D@59162d62)), (130,([D@6c0ea33c,[D@675960b9)), (131,([D@572ff6f3,[D@3fbabc49)), (132,([D@26b4ffc1,[D@a441f06)), (133,([D@22f4e8d3,[D@48c64030)), (134,([D@498df41e,[D@631b6e06)), (135,([D@662ca0c6,[D@1c91bbf3)), (136,([D@3a9a817b,[D@249a370)), (137,([D@1e0196f,[D@10bf6483)), (138,([D@7e40beb6,[D@315dd02d)), (139,([D@30f78c08,[D@5b076de9)), (140,([D@2049dd31,[D@7fcaadad)), (141,([D@73d1e990,[D@13d9aa26)), (142,([D@7d975d39,[D@579a20e3)), (143,([D@2bfbdee9,[D@75add92a)), (144,([D@32943c33,[D@348f9fba)), (145,([D@41f61354,[D@5a89e6c9)), (146,([D@496f2c0f,[D@1d518d7)), (147,([D@70c8d70a,[D@65e2d874)), (148,([D@55dd8f93,[D@7ce7365f)), (149,([D@4a21ce4e,[D@39738e06)), (150,([D@6b2fac,[D@457bb430)), (151,([D@1ec516f,[D@24cafcea)), (152,([D@7d85b190,[D@65c74024)), (153,([D@64302da,[D@759d9354)), (154,([D@2544a546,[D@7add17aa)), (155,([D@64168ff9,[D@7d88b71c)), (156,([D@7d66537e,[D@6f147b3f)), (157,([D@3fad5863,[D@72528dd)), (158,([D@489776e4,[D@496314a)), (159,([D@512d0ffb,[D@7f60a6c3)), (160,([D@cb3df9d,[D@399ab320)), (161,([D@f1213f,[D@7addd95c)), (162,([D@6880bead,[D@4ef132e)), (163,([D@d1e2255,[D@191d1d93)), (164,([D@7485adcb,[D@80fb616)), (165,([D@747f21c8,[D@5ff4b51)), (166,([D@5c4d45d0,[D@2907e749)), (167,([D@247bf2c0,[D@5ba190dd)), (168,([D@6d743dbc,[D@7b5fb2f4)), (169,([D@49b2ad,[D@5739ed01)), (170,([D@1beca387,[D@1d227a1c)), (171,([D@50b37fcf,[D@487ac13d)), (172,([D@36f4b32e,[D@3808cd76)), (173,([D@738e90bf,[D@6de3c4da)), (174,([D@7e9d678b,[D@7653)), (175,([D@70c0584,[D@74bac4ab)), (176,([D@618e4488,[D@62bf1404)), (177,([D@5780df2,[D@27c50e6a)), (178,([D@347ca41e,[D@2e7989a1)), (179,([D@6bab0601,[D@6412f340)), (180,([D@359fe788,[D@5749541b)), (181,([D@6461dbfd,[D@179aacc2)), (182,([D@5df3aa1e,[D@4087d437)), (183,([D@2a5351e9,[D@686d14dd)), (184,([D@288ef094,[D@56d6afde)), (185,([D@66ba70f4,[D@66f14b02)), (186,([D@39240d18,[D@5aeffdbd)), (187,([D@6f671bc4,[D@3a2f471)), (188,([D@1af765d0,[D@3fd06126)), (189,([D@68bef423,[D@7c2b8439)), (190,([D@5dd3a789,[D@61363444)), (191,([D@7eb6dbad,[D@5e1c920e)), (192,([D@1eb389ab,[D@4e771a2d)), (193,([D@6d4dbfd,[D@3c62b5cb)), (194,([D@3e9e9d3d,[D@484e4eb1)), (195,([D@68e57f76,[D@4100434c)), (196,([D@bbd5924,[D@31bca524)), (197,([D@726172aa,[D@31b85589)), (198,([D@502d5ee3,[D@46c5447)), (199,([D@7d618242,[D@e86947a)), (200,([D@34e6090f,[D@524ebdb8)), (201,([D@23cc4621,[D@19d32366)), (202,([D@1df9ff22,[D@3afd3258)), (203,([D@7b418668,[D@7b095275)), (204,([D@295ba2d9,[D@7ae72a58)), (205,([D@de291aa,[D@3cc9f099)), (206,([D@48f0c0b3,[D@b06861f)), (207,([D@12703914,[D@61ce5efb)), (208,([D@2f75ff29,[D@10fcb2a6)), (209,([D@3578134,[D@107d2e23)), (210,([D@107107b2,[D@656dee98)), (211,([D@5a0c9d20,[D@2379ac74)), (212,([D@3bad733e,[D@31be53fd)), (213,([D@f653d77,[D@61913ae3)), (214,([D@3175816c,[D@72170d04)), (215,([D@543f18b4,[D@3c9176f2)), (216,([D@21f2feed,[D@6bc7b8fa)), (217,([D@4791e78e,[D@70802f68)), (218,([D@46b3b203,[D@1065d247)), (219,([D@5800fa52,[D@298a6555)), (220,([D@7272e9cd,[D@4c3bea2e)), (221,([D@13b65b91,[D@696c347f)), (222,([D@c35841e,[D@1fcc752c)), (223,([D@3e07df97,[D@36c0dbe4)), (224,([D@1675bc56,[D@6aecdea1)), (225,([D@6a174f0c,[D@5a38a651)), (226,([D@6194364c,[D@6d81f509)), (227,([D@3d3eb89a,[D@22ab8b42)), (228,([D@624dff0d,[D@677f0)), (229,([D@48b4f502,[D@363b86cd)), (230,([D@3b03b290,[D@809fbf7)), (231,([D@677a1311,[D@d1decdd)), (232,([D@2bac58dc,[D@6cbdd81d)), (233,([D@5b68ac00,[D@3971d8b4)), (234,([D@70d20dfe,[D@722d5ec9)), (235,([D@6c3bf420,[D@5b38356b)), (236,([D@3be56e0f,[D@2326b4ac)), (237,([D@100fce1c,[D@a86321b)), (238,([D@1a83b052,[D@c96f47a)), (239,([D@6287a4da,[D@59aa547b)), (240,([D@5e2c7e3c,[D@65a274a7)), (241,([D@3a5cadbd,[D@315e2f01)), (242,([D@c3e6a88,[D@7a4f30e4)), (243,([D@25a15b55,[D@65475ec7)), (244,([D@1a5202cd,[D@1919c973)), (245,([D@364d42f6,[D@6923939e)), (246,([D@636da01d,[D@34e8bf52)), (247,([D@68ee11cb,[D@1da4c02b)), (248,([D@1347f6ca,[D@6224c9df)), (249,([D@7a5cec19,[D@4142dee1)), (250,([D@6d9f91a5,[D@29b1d7f8)), (251,([D@3410daf3,[D@6372bf46)), (252,([D@72710834,[D@55580f95)), (253,([D@672d908f,[D@11d39ba3)), (254,([D@6b990105,[D@7ea88f44)), (255,([D@750ac1f6,[D@78894277)), (256,([D@5bbbe54a,[D@615393d6)), (257,([D@4275eb7b,[D@705d83b8)), (258,([D@7448b94c,[D@9785930)), (259,([D@64bb5557,[D@78e75a3b)), (260,([D@49540eb2,[D@2ae6f71)), (261,([D@3c01939e,[D@7e7530a7)), (262,([D@17bd9045,[D@6619a024)), (263,([D@5634521a,[D@193b073)), (264,([D@7a5727bc,[D@51e4b052)), (265,([D@25348cf6,[D@3938a00b)), (266,([D@7a911a57,[D@e035377)), (267,([D@f512d7d,[D@7315fc64)), (268,([D@1a403f3,[D@15a8705b)), (269,([D@13949d56,[D@4f3ea59c)), (270,([D@6ea49c13,[D@38580334)), (271,([D@f115744,[D@3539017f)), (272,([D@7fb747cf,[D@70ebaae)), (273,([D@220667c,[D@7fefbdbe)), (274,([D@3a2304b3,[D@488a1293)), (275,([D@49188e78,[D@4b18d8a8)), (276,([D@693c5be4,[D@713ad2da)), (277,([D@7c5ce9cb,[D@718cb370)), (278,([D@7a6435de,[D@5def844a)), (279,([D@46e63c8d,[D@52650012)), (280,([D@9740545,[D@28180df5)), (281,([D@5fed5e2f,[D@25f2b050)), (282,([D@c85d786,[D@641a1446)), (283,([D@51b322cc,[D@61f3789a)), (284,([D@4368bac5,[D@77642eca)), (285,([D@3f89d7a8,[D@45c45f6b)), (286,([D@437c6b84,[D@15b81f5f)), (287,([D@647dbed7,[D@3a59a34)), (288,([D@23a5f18f,[D@76325043)), (289,([D@7fb0c354,[D@50eb92ac)), (290,([D@5cce28b7,[D@381acb25)), (291,([D@41c91511,[D@4d3b8176)), (292,([D@601d93f6,[D@e302f33)), (293,([D@7d8c279,[D@1679c3c5)), (294,([D@1af770df,[D@15b19d05)), (295,([D@54bb4ec0,[D@c84c879)), (296,([D@2dd430be,[D@3494d9b4)), (297,([D@3ad75ca8,[D@103a8c8b)), (298,([D@1ce70ff2,[D@e2c2ca3)), (299,([D@e1e13d2,[D@4a04884e)), (300,([D@6eb89663,[D@11ef623)), (301,([D@7fe0f551,[D@1148441b)), (302,([D@3b69d3df,[D@4d30857f)), (303,([D@3502bbf5,[D@66b949d2)), (304,([D@13bb89f1,[D@5a69ed84)), (305,([D@7a94382f,[D@564f0976)), (306,([D@1974e64f,[D@ce42d28)), (307,([D@57ea29db,[D@79408ee9)), (308,([D@47b85910,[D@6a98a1a2)), (309,([D@6cbaf9db,[D@11f01563)), (310,([D@1485ae94,[D@3bbf9817)), (311,([D@f0ca9a,[D@11ba9cea)), (312,([D@28f26147,[D@6f4a2b6e)), (313,([D@69689807,[D@2cf0140c)), (314,([D@1733b08c,[D@291cf85f)), (315,([D@419f5db,[D@28e5c120)), (316,([D@22d8a360,[D@6cc86964)), (317,([D@2734fe0b,[D@21ded70c)), (318,([D@467ab3f4,[D@69d67116)), (319,([D@69921e81,[D@3e23d208)), (320,([D@2d55232b,[D@77d1a956)), (321,([D@eced73b,[D@2e5df778)), (322,([D@2a15c5e3,[D@507442ee)), (323,([D@287b20d4,[D@695ce494)), (324,([D@6de20e81,[D@1ff342e1)), (325,([D@6effac4b,[D@60098d44)), (326,([D@1d6211c2,[D@1883acc5)), (327,([D@b0dd66a,[D@274209e2)), (328,([D@2a23f0c9,[D@2f4394cc)), (329,([D@4a18b9c8,[D@7da2a470)), (330,([D@4832a6b5,[D@7b64ae8b)), (331,([D@743d8ed6,[D@1c543505)), (332,([D@410e3f34,[D@1f40d168)), (333,([D@713a768,[D@3a524692)), (334,([D@a953973,[D@134772d8)), (335,([D@9f5af3f,[D@21bb1e45)), (336,([D@2c6e5a0,[D@2abf8692)), (337,([D@e9748ad,[D@7727360c)), (338,([D@42f926ad,[D@1424a376)), (339,([D@2042437f,[D@6e1b862d)), (340,([D@65dc190d,[D@545229d3)), (341,([D@6639c19d,[D@54210999)), (342,([D@51306661,[D@14e9c125)), (343,([D@3c74cf0c,[D@604564da)), (344,([D@329405dd,[D@68ae1a43)), (345,([D@7238b4f5,[D@39107ddc)), (346,([D@2bb83dce,[D@33dc56f8)), (347,([D@474c36a,[D@3eb0b0a5)), (348,([D@548cbcf0,[D@5b65b0f)), (349,([D@27fbb740,[D@1cf50e82)), (350,([D@2d2f4ad0,[D@1a760259)), (351,([D@604df7e0,[D@54f86475)), (352,([D@3d6ddf0,[D@29187319)), (353,([D@26e5632d,[D@31a96048)), (354,([D@42502d0,[D@6ecf29f6)), (355,([D@63bec309,[D@196f4416)), (356,([D@35f0f669,[D@22e7f9b8)), (357,([D@37d4d066,[D@54f87d7e)), (358,([D@66899a36,[D@7bbe9566)), (359,([D@6af83d97,[D@7dfcbe3b)), (360,([D@570ed398,[D@581469ba)), (361,([D@732bf3aa,[D@6b3e9692)), (362,([D@4a8d1a7e,[D@312ff32c)), (363,([D@1db5f000,[D@2a06f22)), (364,([D@20dcdbe2,[D@6ea4fa46)), (365,([D@5ca32262,[D@5d7b9fab)), (366,([D@1bbe4c2d,[D@5201f3d6)), (367,([D@17746bc6,[D@16f32844)), (368,([D@7fc5d193,[D@228712fe)), (369,([D@16196733,[D@1927ccbc)), (370,([D@48bfcf42,[D@52b52449)), (371,([D@fc8e1d3,[D@28ad9eba)), (372,([D@1e5e9132,[D@65b279dc)), (373,([D@2dbcdac0,[D@6920c983)), (374,([D@39d0294,[D@7597f7a2)), (375,([D@3e36590a,[D@51b5e39e)), (376,([D@3a57d29e,[D@70370891)), (377,([D@7c45e194,[D@2925491)), (378,([D@655b57f,[D@4e6e46a4)), (379,([D@1d7447bc,[D@dd2ae5f)), (380,([D@26870cd7,[D@1ae035c5)), (381,([D@2516d882,[D@3dae3a29)), (382,([D@235178ff,[D@38043f4d)), (383,([D@2bc53207,[D@67762a24)), (384,([D@4fc830b5,[D@56af9056)), (385,([D@5478d58e,[D@289f22f)), (386,([D@cca3753,[D@264d2bbc)), (387,([D@340b5e5e,[D@79deda7a)), (388,([D@24730abd,[D@6b2cc544)), (389,([D@53b8fd1,[D@ab98806)), (390,([D@36a35d0e,[D@3b28a87b)), (391,([D@62b4edc8,[D@240bb020)), (392,([D@8ecc282,[D@76f9d894)), (393,([D@3366a12e,[D@4a159dd2)), (394,([D@2483aec0,[D@1c06ffbc)), (395,([D@1a6f42c3,[D@7cf2b751)), (396,([D@45bee3a1,[D@6e6e1fb5)), (397,([D@e7721e1,[D@67d64741)), (398,([D@554703f1,[D@4b4a2d5b)), (399,([D@7c0565fa,[D@293cd974))]]"
      ]
     },
     "execution_count": 9,
     "metadata": {},
     "output_type": "execute_result"
    }
   ],
   "source": [
    "val dataXY = scala.io.Source.fromFile(\"/tmp/simdata.csv\")\n",
    "  .getLines\n",
    "  .toSeq\n",
    "  .map(_.split(',').map(_.toDouble))\n",
    "  .map( a => (a.take(10), a.takeRight(3)) )\n",
    "  .zipWithIndex\n",
    "  .map{ case(xy,idx) => (idx, xy) }"
   ]
  },
  {
   "cell_type": "markdown",
   "metadata": {},
   "source": [
    "## Run a full Clusterwise\n",
    "### Parameters"
   ]
  },
  {
   "cell_type": "code",
   "execution_count": 10,
   "metadata": {},
   "outputs": [
    {
     "data": {
      "text/plain": [
       "false"
      ]
     },
     "execution_count": 10,
     "metadata": {},
     "output_type": "execute_result"
    }
   ],
   "source": [
    "val init = 20\n",
    "val nbCV = 10\n",
    "val g = 4\n",
    "val h = 2\n",
    "val sizeBloc = 10\n",
    "val kPred = 25\n",
    "val nbLaunch = 1\n",
    "val standardization = true\n",
    "val withY = false"
   ]
  },
  {
   "cell_type": "code",
   "execution_count": 11,
   "metadata": {},
   "outputs": [
    {
     "ename": "org.apache.spark.SparkException",
     "evalue": " Task not serializable",
     "output_type": "error",
     "traceback": [
      "\u001b[1;31morg.apache.spark.SparkException: Task not serializable\u001b[0;0m",
      "\u001b[1;31m  at org.apache.spark.util.ClosureCleaner$.ensureSerializable(ClosureCleaner.scala:403)\u001b[0;0m",
      "\u001b[1;31m  at org.apache.spark.util.ClosureCleaner$.org$apache$spark$util$ClosureCleaner$$clean(ClosureCleaner.scala:393)\u001b[0;0m",
      "\u001b[1;31m  at org.apache.spark.util.ClosureCleaner$.clean(ClosureCleaner.scala:162)\u001b[0;0m",
      "\u001b[1;31m  at org.apache.spark.SparkContext.clean(SparkContext.scala:2326)\u001b[0;0m",
      "\u001b[1;31m  at org.apache.spark.rdd.RDD$$anonfun$mapPartitionsWithIndex$1.apply(RDD.scala:850)\u001b[0;0m",
      "\u001b[1;31m  at org.apache.spark.rdd.RDD$$anonfun$mapPartitionsWithIndex$1.apply(RDD.scala:849)\u001b[0;0m",
      "\u001b[1;31m  at org.apache.spark.rdd.RDDOperationScope$.withScope(RDDOperationScope.scala:151)\u001b[0;0m",
      "\u001b[1;31m  at org.apache.spark.rdd.RDDOperationScope$.withScope(RDDOperationScope.scala:112)\u001b[0;0m",
      "\u001b[1;31m  at org.apache.spark.rdd.RDD.withScope(RDD.scala:363)\u001b[0;0m",
      "\u001b[1;31m  at org.apache.spark.rdd.RDD.mapPartitionsWithIndex(RDD.scala:849)\u001b[0;0m",
      "\u001b[1;31m  at org.clustering4ever.spark.clustering.clusterwise.Clusterwise.run(Clusterwise.scala:107)\u001b[0;0m",
      "\u001b[1;31m  at org.clustering4ever.spark.clustering.clusterwise.Clusterwise$.run(Clusterwise.scala:242)\u001b[0;0m",
      "\u001b[1;31m  ... 46 elided\u001b[0;0m",
      "\u001b[1;31mCaused by: java.io.NotSerializableException: org.apache.spark.SparkContext\u001b[0;0m",
      "\u001b[1;31mSerialization stack:\u001b[0;0m",
      "\u001b[1;31m\t- object not serializable (class: org.apache.spark.SparkContext, value: org.apache.spark.SparkContext@31b23501)\u001b[0;0m",
      "\u001b[1;31m\t- field (class: org.clustering4ever.spark.clustering.clusterwise.Clusterwise, name: sc, type: class org.apache.spark.SparkContext)\u001b[0;0m",
      "\u001b[1;31m\t- object (class org.clustering4ever.spark.clustering.clusterwise.Clusterwise, Clusterwise(org.apache.spark.SparkContext@31b23501,Stream((0,([D@29d57a71,[D@6627afbe)), (1,([D@45617bc5,[D@622213be)), (2,([D@3a42050d,[D@70c30934)), (3,([D@3eb2ebba,[D@4cffa031)), (4,([D@663faece,[D@edd9194)), (5,([D@271b54ce,[D@16549634)), (6,([D@d0603ee,[D@6f3562eb)), (7,([D@12f5f6e7,[D@20a227bb)), (8,([D@1d865932,[D@59605253)), (9,([D@649fd556,[D@55b1a981)), (10,([D@7a5125cc,[D@21f8021f)), (11,([D@3bd74613,[D@63f20d49)), (12,([D@10fe3bbe,[D@71772b44)), (13,([D@70911ca7,[D@3facfb9)), (14,([D@623837b3,[D@2add1dbb)), (15,([D@52515863,[D@783d297)), (16,([D@24a5f87b,[D@66d71991)), (17,([D@3e9dd768,[D@2793ad46)), (18,([D@2c7eefef,[D@723b7060)), (19,([D@22cddfd8,[D@188ebf5a)), (20,([D@43d43a33,[D@6a45ea59)), (21,([D@263adbd6,[D@4ba3d424)), (22,([D@29c47ac1,[D@6c164a82)), (23,([D@1c82d8bd,[D@49d53dfd)), (24,([D@43cd4474,[D@1dd144d5)), (25,([D@171c20e2,[D@7746cd29)), (26,([D@5e01c951,[D@49e1c9a8)), (27,([D@3f0cfb46,[D@7e62560b)), (28,([D@2ef953d7,[D@69926329)), (29,([D@311c7396,[D@5da2a9b0)), (30,([D@39a12e38,[D@43d0890e)), (31,([D@1182d221,[D@59251688)), (32,([D@69c5237a,[D@2e1a4fb5)), (33,([D@290e838d,[D@58ee4172)), (34,([D@187067e6,[D@64ebe4ba)), (35,([D@39a40141,[D@136b22d6)), (36,([D@8bf280a,[D@33cad393)), (37,([D@2afd62a2,[D@604a88b9)), (38,([D@114413c2,[D@74f70c32)), (39,([D@35de887c,[D@165c13e)), (40,([D@308e08d3,[D@7c54146c)), (41,([D@3d08fef2,[D@12cba45c)), (42,([D@52c3ee46,[D@e686706)), (43,([D@74edf757,[D@3bcb54d2)), (44,([D@76372c33,[D@3b2a35a4)), (45,([D@20663ad9,[D@41ea87c3)), (46,([D@ef36d79,[D@649efe16)), (47,([D@75bfa0ae,[D@607ee545)), (48,([D@7573d496,[D@660eea60)), (49,([D@6e3c9cdf,[D@79ff0890)), (50,([D@1243a45d,[D@38f019f)), (51,([D@9dfbf55,[D@8659d76)), (52,([D@78ba16b,[D@7c73dbfc)), (53,([D@822e630,[D@2c08446f)), (54,([D@76d2287c,[D@149ca161)), (55,([D@b90d6a4,[D@6555c085)), (56,([D@2a3859b,[D@73c5ab07)), (57,([D@7e6d762d,[D@3577d08d)), (58,([D@2b6614e5,[D@75a51f1d)), (59,([D@60ecd39a,[D@6b1484b2)), (60,([D@70ce6409,[D@2dced0fa)), (61,([D@2b38b6da,[D@6446961b)), (62,([D@672b58b6,[D@3cb90da9)), (63,([D@52d9e282,[D@27f408c)), (64,([D@3f2c569d,[D@4b0cc094)), (65,([D@56dce685,[D@2edfa7f2)), (66,([D@731a940a,[D@5ebfe29d)), (67,([D@6f66cf01,[D@3cd51528)), (68,([D@1b486c7c,[D@3a42ce82)), (69,([D@6305000c,[D@77ed3511)), (70,([D@2f9e9c1c,[D@30471b3)), (71,([D@48ca04bf,[D@5691f50a)), (72,([D@d34fdb8,[D@2d1d8c44)), (73,([D@35ea9aa4,[D@6c0a00b6)), (74,([D@46f9f9b2,[D@7473285)), (75,([D@6619b773,[D@5aaa04b6)), (76,([D@53974238,[D@6d7a91d5)), (77,([D@46730126,[D@4c7632ea)), (78,([D@25992fde,[D@1c54f681)), (79,([D@42f0ae1c,[D@3f6c25ca)), (80,([D@53e71a26,[D@683c0e25)), (81,([D@2f7bcd70,[D@7167ef20)), (82,([D@1a3aed00,[D@12ff9544)), (83,([D@639eca26,[D@2d4e379a)), (84,([D@60519dde,[D@eea6125)), (85,([D@1bb05524,[D@479e532f)), (86,([D@2b4d896f,[D@76f3266a)), (87,([D@6ff344e5,[D@5a41651f)), (88,([D@1d0089c9,[D@722f2c75)), (89,([D@70e9ab9,[D@56b67eda)), (90,([D@4f61fb04,[D@44262a19)), (91,([D@370ebb76,[D@52ab53e3)), (92,([D@12d22b69,[D@6751bdc8)), (93,([D@25c67f5f,[D@2d7a144f)), (94,([D@2e70fbea,[D@44a5ac11)), (95,([D@520f0f5d,[D@2f2ab13f)), (96,([D@6aca09b,[D@6f80517b)), (97,([D@45dfce31,[D@3f862cfc)), (98,([D@5ccdebef,[D@31ab6284)), (99,([D@abe8cc6,[D@4d1b0a1)), (100,([D@3770b147,[D@5da54a6f)), (101,([D@230325a1,[D@2adecdd8)), (102,([D@1896ab4d,[D@6f176c02)), (103,([D@5503626c,[D@9efd519)), (104,([D@248edbaa,[D@702dc445)), (105,([D@3e73d82e,[D@494385e4)), (106,([D@1bc254ed,[D@5d3a43c)), (107,([D@25c1ae00,[D@70f863f9)), (108,([D@79143437,[D@61fe9d6d)), (109,([D@49679efc,[D@7a33cb82)), (110,([D@22defd7f,[D@37de19bc)), (111,([D@42bbf1c5,[D@26305dcb)), (112,([D@73d06977,[D@34049d48)), (113,([D@292c77d4,[D@d56a93f)), (114,([D@7dbdf233,[D@6d43de11)), (115,([D@279b86ba,[D@1fbcdc27)), (116,([D@d828989,[D@7ec27d7e)), (117,([D@5178a4a,[D@7c33332b)), (118,([D@656433e5,[D@8208bba)), (119,([D@31dc052e,[D@5493c255)), (120,([D@10ac3839,[D@1c5d1ccd)), (121,([D@4d798f1d,[D@7b26d8d)), (122,([D@76aef0b2,[D@26131de)), (123,([D@3e157e8,[D@17ab9c1c)), (124,([D@1681d53b,[D@1d65f9f4)), (125,([D@14b2b3a7,[D@5fb29651)), (126,([D@4782a891,[D@751a43cc)), (127,([D@7434f943,[D@3f7ff98a)), (128,([D@6d6b08d4,[D@4a482296)), (129,([D@19e5347d,[D@59162d62)), (130,([D@6c0ea33c,[D@675960b9)), (131,([D@572ff6f3,[D@3fbabc49)), (132,([D@26b4ffc1,[D@a441f06)), (133,([D@22f4e8d3,[D@48c64030)), (134,([D@498df41e,[D@631b6e06)), (135,([D@662ca0c6,[D@1c91bbf3)), (136,([D@3a9a817b,[D@249a370)), (137,([D@1e0196f,[D@10bf6483)), (138,([D@7e40beb6,[D@315dd02d)), (139,([D@30f78c08,[D@5b076de9)), (140,([D@2049dd31,[D@7fcaadad)), (141,([D@73d1e990,[D@13d9aa26)), (142,([D@7d975d39,[D@579a20e3)), (143,([D@2bfbdee9,[D@75add92a)), (144,([D@32943c33,[D@348f9fba)), (145,([D@41f61354,[D@5a89e6c9)), (146,([D@496f2c0f,[D@1d518d7)), (147,([D@70c8d70a,[D@65e2d874)), (148,([D@55dd8f93,[D@7ce7365f)), (149,([D@4a21ce4e,[D@39738e06)), (150,([D@6b2fac,[D@457bb430)), (151,([D@1ec516f,[D@24cafcea)), (152,([D@7d85b190,[D@65c74024)), (153,([D@64302da,[D@759d9354)), (154,([D@2544a546,[D@7add17aa)), (155,([D@64168ff9,[D@7d88b71c)), (156,([D@7d66537e,[D@6f147b3f)), (157,([D@3fad5863,[D@72528dd)), (158,([D@489776e4,[D@496314a)), (159,([D@512d0ffb,[D@7f60a6c3)), (160,([D@cb3df9d,[D@399ab320)), (161,([D@f1213f,[D@7addd95c)), (162,([D@6880bead,[D@4ef132e)), (163,([D@d1e2255,[D@191d1d93)), (164,([D@7485adcb,[D@80fb616)), (165,([D@747f21c8,[D@5ff4b51)), (166,([D@5c4d45d0,[D@2907e749)), (167,([D@247bf2c0,[D@5ba190dd)), (168,([D@6d743dbc,[D@7b5fb2f4)), (169,([D@49b2ad,[D@5739ed01)), (170,([D@1beca387,[D@1d227a1c)), (171,([D@50b37fcf,[D@487ac13d)), (172,([D@36f4b32e,[D@3808cd76)), (173,([D@738e90bf,[D@6de3c4da)), (174,([D@7e9d678b,[D@7653)), (175,([D@70c0584,[D@74bac4ab)), (176,([D@618e4488,[D@62bf1404)), (177,([D@5780df2,[D@27c50e6a)), (178,([D@347ca41e,[D@2e7989a1)), (179,([D@6bab0601,[D@6412f340)), (180,([D@359fe788,[D@5749541b)), (181,([D@6461dbfd,[D@179aacc2)), (182,([D@5df3aa1e,[D@4087d437)), (183,([D@2a5351e9,[D@686d14dd)), (184,([D@288ef094,[D@56d6afde)), (185,([D@66ba70f4,[D@66f14b02)), (186,([D@39240d18,[D@5aeffdbd)), (187,([D@6f671bc4,[D@3a2f471)), (188,([D@1af765d0,[D@3fd06126)), (189,([D@68bef423,[D@7c2b8439)), (190,([D@5dd3a789,[D@61363444)), (191,([D@7eb6dbad,[D@5e1c920e)), (192,([D@1eb389ab,[D@4e771a2d)), (193,([D@6d4dbfd,[D@3c62b5cb)), (194,([D@3e9e9d3d,[D@484e4eb1)), (195,([D@68e57f76,[D@4100434c)), (196,([D@bbd5924,[D@31bca524)), (197,([D@726172aa,[D@31b85589)), (198,([D@502d5ee3,[D@46c5447)), (199,([D@7d618242,[D@e86947a)), (200,([D@34e6090f,[D@524ebdb8)), (201,([D@23cc4621,[D@19d32366)), (202,([D@1df9ff22,[D@3afd3258)), (203,([D@7b418668,[D@7b095275)), (204,([D@295ba2d9,[D@7ae72a58)), (205,([D@de291aa,[D@3cc9f099)), (206,([D@48f0c0b3,[D@b06861f)), (207,([D@12703914,[D@61ce5efb)), (208,([D@2f75ff29,[D@10fcb2a6)), (209,([D@3578134,[D@107d2e23)), (210,([D@107107b2,[D@656dee98)), (211,([D@5a0c9d20,[D@2379ac74)), (212,([D@3bad733e,[D@31be53fd)), (213,([D@f653d77,[D@61913ae3)), (214,([D@3175816c,[D@72170d04)), (215,([D@543f18b4,[D@3c9176f2)), (216,([D@21f2feed,[D@6bc7b8fa)), (217,([D@4791e78e,[D@70802f68)), (218,([D@46b3b203,[D@1065d247)), (219,([D@5800fa52,[D@298a6555)), (220,([D@7272e9cd,[D@4c3bea2e)), (221,([D@13b65b91,[D@696c347f)), (222,([D@c35841e,[D@1fcc752c)), (223,([D@3e07df97,[D@36c0dbe4)), (224,([D@1675bc56,[D@6aecdea1)), (225,([D@6a174f0c,[D@5a38a651)), (226,([D@6194364c,[D@6d81f509)), (227,([D@3d3eb89a,[D@22ab8b42)), (228,([D@624dff0d,[D@677f0)), (229,([D@48b4f502,[D@363b86cd)), (230,([D@3b03b290,[D@809fbf7)), (231,([D@677a1311,[D@d1decdd)), (232,([D@2bac58dc,[D@6cbdd81d)), (233,([D@5b68ac00,[D@3971d8b4)), (234,([D@70d20dfe,[D@722d5ec9)), (235,([D@6c3bf420,[D@5b38356b)), (236,([D@3be56e0f,[D@2326b4ac)), (237,([D@100fce1c,[D@a86321b)), (238,([D@1a83b052,[D@c96f47a)), (239,([D@6287a4da,[D@59aa547b)), (240,([D@5e2c7e3c,[D@65a274a7)), (241,([D@3a5cadbd,[D@315e2f01)), (242,([D@c3e6a88,[D@7a4f30e4)), (243,([D@25a15b55,[D@65475ec7)), (244,([D@1a5202cd,[D@1919c973)), (245,([D@364d42f6,[D@6923939e)), (246,([D@636da01d,[D@34e8bf52)), (247,([D@68ee11cb,[D@1da4c02b)), (248,([D@1347f6ca,[D@6224c9df)), (249,([D@7a5cec19,[D@4142dee1)), (250,([D@6d9f91a5,[D@29b1d7f8)), (251,([D@3410daf3,[D@6372bf46)), (252,([D@72710834,[D@55580f95)), (253,([D@672d908f,[D@11d39ba3)), (254,([D@6b990105,[D@7ea88f44)), (255,([D@750ac1f6,[D@78894277)), (256,([D@5bbbe54a,[D@615393d6)), (257,([D@4275eb7b,[D@705d83b8)), (258,([D@7448b94c,[D@9785930)), (259,([D@64bb5557,[D@78e75a3b)), (260,([D@49540eb2,[D@2ae6f71)), (261,([D@3c01939e,[D@7e7530a7)), (262,([D@17bd9045,[D@6619a024)), (263,([D@5634521a,[D@193b073)), (264,([D@7a5727bc,[D@51e4b052)), (265,([D@25348cf6,[D@3938a00b)), (266,([D@7a911a57,[D@e035377)), (267,([D@f512d7d,[D@7315fc64)), (268,([D@1a403f3,[D@15a8705b)), (269,([D@13949d56,[D@4f3ea59c)), (270,([D@6ea49c13,[D@38580334)), (271,([D@f115744,[D@3539017f)), (272,([D@7fb747cf,[D@70ebaae)), (273,([D@220667c,[D@7fefbdbe)), (274,([D@3a2304b3,[D@488a1293)), (275,([D@49188e78,[D@4b18d8a8)), (276,([D@693c5be4,[D@713ad2da)), (277,([D@7c5ce9cb,[D@718cb370)), (278,([D@7a6435de,[D@5def844a)), (279,([D@46e63c8d,[D@52650012)), (280,([D@9740545,[D@28180df5)), (281,([D@5fed5e2f,[D@25f2b050)), (282,([D@c85d786,[D@641a1446)), (283,([D@51b322cc,[D@61f3789a)), (284,([D@4368bac5,[D@77642eca)), (285,([D@3f89d7a8,[D@45c45f6b)), (286,([D@437c6b84,[D@15b81f5f)), (287,([D@647dbed7,[D@3a59a34)), (288,([D@23a5f18f,[D@76325043)), (289,([D@7fb0c354,[D@50eb92ac)), (290,([D@5cce28b7,[D@381acb25)), (291,([D@41c91511,[D@4d3b8176)), (292,([D@601d93f6,[D@e302f33)), (293,([D@7d8c279,[D@1679c3c5)), (294,([D@1af770df,[D@15b19d05)), (295,([D@54bb4ec0,[D@c84c879)), (296,([D@2dd430be,[D@3494d9b4)), (297,([D@3ad75ca8,[D@103a8c8b)), (298,([D@1ce70ff2,[D@e2c2ca3)), (299,([D@e1e13d2,[D@4a04884e)), (300,([D@6eb89663,[D@11ef623)), (301,([D@7fe0f551,[D@1148441b)), (302,([D@3b69d3df,[D@4d30857f)), (303,([D@3502bbf5,[D@66b949d2)), (304,([D@13bb89f1,[D@5a69ed84)), (305,([D@7a94382f,[D@564f0976)), (306,([D@1974e64f,[D@ce42d28)), (307,([D@57ea29db,[D@79408ee9)), (308,([D@47b85910,[D@6a98a1a2)), (309,([D@6cbaf9db,[D@11f01563)), (310,([D@1485ae94,[D@3bbf9817)), (311,([D@f0ca9a,[D@11ba9cea)), (312,([D@28f26147,[D@6f4a2b6e)), (313,([D@69689807,[D@2cf0140c)), (314,([D@1733b08c,[D@291cf85f)), (315,([D@419f5db,[D@28e5c120)), (316,([D@22d8a360,[D@6cc86964)), (317,([D@2734fe0b,[D@21ded70c)), (318,([D@467ab3f4,[D@69d67116)), (319,([D@69921e81,[D@3e23d208)), (320,([D@2d55232b,[D@77d1a956)), (321,([D@eced73b,[D@2e5df778)), (322,([D@2a15c5e3,[D@507442ee)), (323,([D@287b20d4,[D@695ce494)), (324,([D@6de20e81,[D@1ff342e1)), (325,([D@6effac4b,[D@60098d44)), (326,([D@1d6211c2,[D@1883acc5)), (327,([D@b0dd66a,[D@274209e2)), (328,([D@2a23f0c9,[D@2f4394cc)), (329,([D@4a18b9c8,[D@7da2a470)), (330,([D@4832a6b5,[D@7b64ae8b)), (331,([D@743d8ed6,[D@1c543505)), (332,([D@410e3f34,[D@1f40d168)), (333,([D@713a768,[D@3a524692)), (334,([D@a953973,[D@134772d8)), (335,([D@9f5af3f,[D@21bb1e45)), (336,([D@2c6e5a0,[D@2abf8692)), (337,([D@e9748ad,[D@7727360c)), (338,([D@42f926ad,[D@1424a376)), (339,([D@2042437f,[D@6e1b862d)), (340,([D@65dc190d,[D@545229d3)), (341,([D@6639c19d,[D@54210999)), (342,([D@51306661,[D@14e9c125)), (343,([D@3c74cf0c,[D@604564da)), (344,([D@329405dd,[D@68ae1a43)), (345,([D@7238b4f5,[D@39107ddc)), (346,([D@2bb83dce,[D@33dc56f8)), (347,([D@474c36a,[D@3eb0b0a5)), (348,([D@548cbcf0,[D@5b65b0f)), (349,([D@27fbb740,[D@1cf50e82)), (350,([D@2d2f4ad0,[D@1a760259)), (351,([D@604df7e0,[D@54f86475)), (352,([D@3d6ddf0,[D@29187319)), (353,([D@26e5632d,[D@31a96048)), (354,([D@42502d0,[D@6ecf29f6)), (355,([D@63bec309,[D@196f4416)), (356,([D@35f0f669,[D@22e7f9b8)), (357,([D@37d4d066,[D@54f87d7e)), (358,([D@66899a36,[D@7bbe9566)), (359,([D@6af83d97,[D@7dfcbe3b)), (360,([D@570ed398,[D@581469ba)), (361,([D@732bf3aa,[D@6b3e9692)), (362,([D@4a8d1a7e,[D@312ff32c)), (363,([D@1db5f000,[D@2a06f22)), (364,([D@20dcdbe2,[D@6ea4fa46)), (365,([D@5ca32262,[D@5d7b9fab)), (366,([D@1bbe4c2d,[D@5201f3d6)), (367,([D@17746bc6,[D@16f32844)), (368,([D@7fc5d193,[D@228712fe)), (369,([D@16196733,[D@1927ccbc)), (370,([D@48bfcf42,[D@52b52449)), (371,([D@fc8e1d3,[D@28ad9eba)), (372,([D@1e5e9132,[D@65b279dc)), (373,([D@2dbcdac0,[D@6920c983)), (374,([D@39d0294,[D@7597f7a2)), (375,([D@3e36590a,[D@51b5e39e)), (376,([D@3a57d29e,[D@70370891)), (377,([D@7c45e194,[D@2925491)), (378,([D@655b57f,[D@4e6e46a4)), (379,([D@1d7447bc,[D@dd2ae5f)), (380,([D@26870cd7,[D@1ae035c5)), (381,([D@2516d882,[D@3dae3a29)), (382,([D@235178ff,[D@38043f4d)), (383,([D@2bc53207,[D@67762a24)), (384,([D@4fc830b5,[D@56af9056)), (385,([D@5478d58e,[D@289f22f)), (386,([D@cca3753,[D@264d2bbc)), (387,([D@340b5e5e,[D@79deda7a)), (388,([D@24730abd,[D@6b2cc544)), (389,([D@53b8fd1,[D@ab98806)), (390,([D@36a35d0e,[D@3b28a87b)), (391,([D@62b4edc8,[D@240bb020)), (392,([D@8ecc282,[D@76f9d894)), (393,([D@3366a12e,[D@4a159dd2)), (394,([D@2483aec0,[D@1c06ffbc)), (395,([D@1a6f42c3,[D@7cf2b751)), (396,([D@45bee3a1,[D@6e6e1fb5)), (397,([D@e7721e1,[D@67d64741)), (398,([D@554703f1,[D@4b4a2d5b)), (399,([D@7c0565fa,[D@293cd974))),4,2,10,20,25,false,true,10,30,1.0E-5,100,false))\u001b[0;0m",
      "\u001b[1;31m\t- field (class: org.clustering4ever.spark.clustering.clusterwise.Clusterwise$$anonfun$20, name: $outer, type: class org.clustering4ever.spark.clustering.clusterwise.Clusterwise)\u001b[0;0m",
      "\u001b[1;31m\t- object (class org.clustering4ever.spark.clustering.clusterwise.Clusterwise$$anonfun$20, <function2>)\u001b[0;0m",
      "\u001b[1;31m  at org.apache.spark.serializer.SerializationDebugger$.improveException(SerializationDebugger.scala:40)\u001b[0;0m",
      "\u001b[1;31m  at org.apache.spark.serializer.JavaSerializationStream.writeObject(JavaSerializer.scala:46)\u001b[0;0m",
      "\u001b[1;31m  at org.apache.spark.serializer.JavaSerializerInstance.serialize(JavaSerializer.scala:100)\u001b[0;0m",
      "\u001b[1;31m  at org.apache.spark.util.ClosureCleaner$.ensureSerializable(ClosureCleaner.scala:400)\u001b[0;0m",
      "\u001b[1;31m  ... 57 more\u001b[0;0m"
     ]
    }
   ],
   "source": [
    "val t0 = System.currentTimeMillis\n",
    "val (sqrmseCalAndVal, _) = Clusterwise.run(sc, dataXY, g, h, nbCV, init, kPred, withY, standardization, sizeBloc)\n",
    "val t1 = System.currentTimeMillis\n",
    "\n",
    "(t1 - t0) / 1000D"
   ]
  },
  {
   "cell_type": "code",
   "execution_count": 12,
   "metadata": {},
   "outputs": [
    {
     "ename": "<console>",
     "evalue": "98",
     "output_type": "error",
     "traceback": [
      "\u001b[1;31m<console>:98: error: not found: value sqrmseCalAndVal\u001b[0;0m",
      "\u001b[1;31m       sqrmseCalAndVal\u001b[0;0m",
      "\u001b[1;31m       ^\u001b[0;0m"
     ]
    }
   ],
   "source": [
    "sqrmseCalAndVal"
   ]
  },
  {
   "cell_type": "markdown",
   "metadata": {},
   "source": [
    "## Run one Initialization of Clusterwise"
   ]
  },
  {
   "cell_type": "code",
   "execution_count": null,
   "metadata": {},
   "outputs": [],
   "source": [
    "val (dsPerClass, predFitted, coIntercept, coXYcoef, critReg, mapsRegCrit, classedReg) = ClusterwiseCore.plsPerDot(dataXY, h, g)"
   ]
  },
  {
   "cell_type": "markdown",
   "metadata": {},
   "source": [
    "## Run one PLS regression"
   ]
  },
  {
   "cell_type": "code",
   "execution_count": null,
   "metadata": {},
   "outputs": [],
   "source": [
    "val inputX = mutable.ArrayBuffer(dataXY.map{ case (id, (x, y)) => (id, x) }:_*)\n",
    "val inputY = mutable.ArrayBuffer(dataXY.map{ case (id, (x, y)) => y }:_*)\n",
    "\n",
    "PLS.runPLS(inputX, inputY, 2)._2"
   ]
  }
 ],
 "metadata": {
  "kernelspec": {
   "display_name": "Scala",
   "language": "scala",
   "name": "scala"
  },
  "language_info": {
   "codemirror_mode": "text/x-scala",
   "file_extension": ".scala",
   "mimetype": "",
   "name": "Scala",
   "nbconverter_exporter": "",
   "version": "2.11.12"
  },
  "toc": {
   "base_numbering": 1,
   "nav_menu": {},
   "number_sections": false,
   "sideBar": false,
   "skip_h1_title": false,
   "title_cell": "Table of Contents",
   "title_sidebar": "Contents",
   "toc_cell": false,
   "toc_position": {},
   "toc_section_display": false,
   "toc_window_display": false
  }
 },
 "nbformat": 4,
 "nbformat_minor": 2
}
