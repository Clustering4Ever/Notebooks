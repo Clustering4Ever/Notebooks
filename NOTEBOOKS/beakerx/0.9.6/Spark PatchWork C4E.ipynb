{
 "cells": [
  {
   "cell_type": "markdown",
   "metadata": {},
   "source": [
    "# [Clustering4Ever](https://github.com/Clustering4Ever/Clustering4Ever) by [LIPN](https://lipn.univ-paris13.fr/) [A3](https://lipn.univ-paris13.fr/accueil/equipe/a3/) team"
   ]
  },
  {
   "cell_type": "code",
   "execution_count": null,
   "metadata": {},
   "outputs": [
    {
     "data": {
      "application/vnd.jupyter.widget-view+json": {
       "model_id": "7211c71c-58e6-4412-8f43-2fa44dced296",
       "version_major": 2,
       "version_minor": 0
      },
      "method": "display_data"
     },
     "metadata": {},
     "output_type": "display_data"
    }
   ],
   "source": [
    "%%classpath add mvn\n",
    "org.clustering4ever clustering4ever_2.11 0.9.6"
   ]
  },
  {
   "cell_type": "code",
   "execution_count": 2,
   "metadata": {},
   "outputs": [
    {
     "data": {
      "application/vnd.jupyter.widget-view+json": {
       "model_id": "",
       "version_major": 2,
       "version_minor": 0
      },
      "method": "display_data"
     },
     "metadata": {},
     "output_type": "display_data"
    },
    {
     "data": {
      "application/vnd.jupyter.widget-view+json": {
       "model_id": "94ed3685-163a-4ec7-96f3-70331ccba786",
       "version_major": 2,
       "version_minor": 0
      },
      "method": "display_data"
     },
     "metadata": {},
     "output_type": "display_data"
    }
   ],
   "source": [
    "%classpath add mvn org.apache.spark spark-sql_2.11 2.2.1\n",
    "org.apache.log4j.Logger.getRootLogger().setLevel(org.apache.log4j.Level.ERROR);"
   ]
  },
  {
   "cell_type": "code",
   "execution_count": 3,
   "metadata": {},
   "outputs": [
    {
     "data": {
      "text/plain": [
       "org.apache.spark.SparkContext@3386ca2b"
      ]
     },
     "execution_count": 3,
     "metadata": {},
     "output_type": "execute_result"
    },
    {
     "name": "stderr",
     "output_type": "stream",
     "text": [
      "[Stage 0:>                                                          (0 + 4) / 4]"
     ]
    }
   ],
   "source": [
    "import org.apache.spark.sql.SparkSession\n",
    "\n",
    "val spark = SparkSession.builder()\n",
    "                        .appName(\"Simple Application\")\n",
    "                        .master(\"local[4]\")\n",
    "                        .config(\"spark.ui.enabled\", \"false\")\n",
    "                        .getOrCreate()\n",
    "val sc = spark.sparkContext"
   ]
  },
  {
   "cell_type": "markdown",
   "metadata": {},
   "source": [
    "# Scala _K_-Means"
   ]
  },
  {
   "cell_type": "code",
   "execution_count": 6,
   "metadata": {},
   "outputs": [
    {
     "data": {
      "text/plain": [
       "import scala.io.Source\n",
       "import scala.collection.{immutable, mutable, parallel}\n",
       "import org.clustering4ever.clustering.patchwork.PatchWork\n",
       "import org.clustering4ever.clustering.indices.MultiExternalIndicesLocal\n"
      ]
     },
     "execution_count": 6,
     "metadata": {},
     "output_type": "execute_result"
    }
   ],
   "source": [
    "import scala.io.Source\n",
    "import scala.collection.{immutable, mutable, parallel}\n",
    "import org.clustering4ever.clustering.patchwork.PatchWork\n",
    "import org.clustering4ever.clustering.indices.MultiExternalIndicesLocal"
   ]
  },
  {
   "cell_type": "markdown",
   "metadata": {},
   "source": [
    "## Download dataset Aggregation"
   ]
  },
  {
   "cell_type": "code",
   "execution_count": 7,
   "metadata": {},
   "outputs": [
    {
     "name": "stdout",
     "output_type": "stream",
     "text": [
      "--2019-08-23 11:48:39--  http://www.clustering4ever.org/Datasets/Aggregation/aggregation.csv\n",
      "Résolution de www.clustering4ever.org (www.clustering4ever.org)… 62.210.16.62\n",
      "Connexion à www.clustering4ever.org (www.clustering4ever.org)|62.210.16.62|:80… connecté.\n",
      "requête HTTP transmise, en attente de la réponse… 200 OK\n",
      "Taille : 8063 (7,9K) [text/csv]\n",
      "Sauvegarde en : « /tmp/aggregation.csv.2 »\n",
      "\n",
      "     0K .......                                               100%  302K=0,03s\n",
      "\n",
      "2019-08-23 11:48:44 (302 KB/s) — « /tmp/aggregation.csv.2 » sauvegardé [8063/8063]\n",
      "\n",
      "--2019-08-23 11:48:44--  http://www.clustering4ever.org/Datasets/Aggregation/labels\n",
      "Résolution de www.clustering4ever.org (www.clustering4ever.org)… 62.210.16.62\n",
      "Connexion à www.clustering4ever.org (www.clustering4ever.org)|62.210.16.62|:80… connecté.\n",
      "requête HTTP transmise, en attente de la réponse… 200 OK\n",
      "Taille : 1576 (1,5K)\n",
      "Sauvegarde en : « /tmp/labels.2 »\n",
      "\n",
      "     0K .                                                     100% 90,5M=0s\n",
      "\n",
      "2019-08-23 11:48:44 (90,5 MB/s) — « /tmp/labels.2 » sauvegardé [1576/1576]\n",
      "\n",
      "\n"
     ]
    }
   ],
   "source": [
    "%%bash\n",
    "wget -P /tmp/ http://www.clustering4ever.org/Datasets/Aggregation/aggregation.csv\n",
    "wget -P /tmp/ http://www.clustering4ever.org/Datasets/Aggregation/labels"
   ]
  },
  {
   "cell_type": "markdown",
   "metadata": {},
   "source": [
    "## Import data as ParArray[ArrayBuffer[Double]]"
   ]
  },
  {
   "cell_type": "code",
   "execution_count": 8,
   "metadata": {},
   "outputs": [
    {
     "data": {
      "text/plain": [
       "MapPartitionsRDD[1] at map at <console>:105"
      ]
     },
     "execution_count": 8,
     "metadata": {},
     "output_type": "execute_result"
    }
   ],
   "source": [
    "val datasetSize = 100000\n",
    "val dim = 2\n",
    "val path = \"/tmp/aggregation.csv\"\n",
    "val useAggregationDS = true\n",
    "\n",
    "val groundTruePath = \"/tmp/labels\"\n",
    "\n",
    "val rdd = sc.parallelize(Source.fromFile(path).getLines.map( x => Array(x.split(\",\").map(_.toDouble):_*) ).toSeq).cache\n",
    "val rddArray = rdd.map(_.toArray).cache"
   ]
  },
  {
   "cell_type": "markdown",
   "metadata": {},
   "source": [
    "## Parameters "
   ]
  },
  {
   "cell_type": "code",
   "execution_count": 9,
   "metadata": {},
   "outputs": [
    {
     "data": {
      "text/plain": [
       "0.0"
      ]
     },
     "execution_count": 9,
     "metadata": {},
     "output_type": "execute_result"
    }
   ],
   "source": [
    "val epsilon = Array(1.5, 1.5)\n",
    "val minPts = 1\n",
    "val minCellInCluster = 20\n",
    "val ratio = 0.0"
   ]
  },
  {
   "cell_type": "markdown",
   "metadata": {},
   "source": [
    "## Run and measure the algorithm time"
   ]
  },
  {
   "cell_type": "code",
   "execution_count": 11,
   "metadata": {},
   "outputs": [
    {
     "name": "stderr",
     "output_type": "stream",
     "text": [
      "\r",
      "                                                                                \r"
     ]
    },
    {
     "data": {
      "text/plain": [
       "6.204393079"
      ]
     },
     "execution_count": 11,
     "metadata": {},
     "output_type": "execute_result"
    }
   ],
   "source": [
    "val t1 = System.nanoTime\n",
    "val model = new PatchWork(epsilon, minPts, ratio, minCellInCluster).fit(rddArray)\n",
    "val t2 = System.nanoTime\n",
    "\n",
    "(t2 - t1) / 1000000000D"
   ]
  },
  {
   "cell_type": "markdown",
   "metadata": {},
   "source": [
    "## Different ways to apply model to datasets"
   ]
  },
  {
   "cell_type": "code",
   "execution_count": 14,
   "metadata": {},
   "outputs": [
    {
     "ename": "org.apache.spark.SparkException",
     "evalue": " Task not serializable",
     "output_type": "error",
     "traceback": [
      "\u001b[1;31morg.apache.spark.SparkException: Task not serializable\u001b[0;0m",
      "\u001b[1;31m  at org.apache.spark.util.ClosureCleaner$.ensureSerializable(ClosureCleaner.scala:340)\u001b[0;0m",
      "\u001b[1;31m  at org.apache.spark.util.ClosureCleaner$.org$apache$spark$util$ClosureCleaner$$clean(ClosureCleaner.scala:330)\u001b[0;0m",
      "\u001b[1;31m  at org.apache.spark.util.ClosureCleaner$.clean(ClosureCleaner.scala:156)\u001b[0;0m",
      "\u001b[1;31m  at org.apache.spark.SparkContext.clean(SparkContext.scala:2294)\u001b[0;0m",
      "\u001b[1;31m  at org.apache.spark.rdd.RDD$$anonfun$map$1.apply(RDD.scala:370)\u001b[0;0m",
      "\u001b[1;31m  at org.apache.spark.rdd.RDD$$anonfun$map$1.apply(RDD.scala:369)\u001b[0;0m",
      "\u001b[1;31m  at org.apache.spark.rdd.RDDOperationScope$.withScope(RDDOperationScope.scala:151)\u001b[0;0m",
      "\u001b[1;31m  at org.apache.spark.rdd.RDDOperationScope$.withScope(RDDOperationScope.scala:112)\u001b[0;0m",
      "\u001b[1;31m  at org.apache.spark.rdd.RDD.withScope(RDD.scala:362)\u001b[0;0m",
      "\u001b[1;31m  at org.apache.spark.rdd.RDD.map(RDD.scala:369)\u001b[0;0m",
      "\u001b[1;31m  ... 44 elided\u001b[0;0m",
      "\u001b[1;31mCaused by: java.io.NotSerializableException: org.apache.spark.SparkContext\u001b[0;0m",
      "\u001b[1;31mSerialization stack:\u001b[0;0m",
      "\u001b[1;31m\t- object not serializable (class: org.apache.spark.SparkContext, value: org.apache.spark.SparkContext@3386ca2b)\u001b[0;0m",
      "\u001b[1;31m\t- field (class: $iw, name: sc, type: class org.apache.spark.SparkContext)\u001b[0;0m",
      "\u001b[1;31m\t- object (class $iw, $iw@6527d9b9)\u001b[0;0m",
      "\u001b[1;31m\t- field (class: $iw, name: $iw, type: class $iw)\u001b[0;0m",
      "\u001b[1;31m\t- object (class $iw, $iw@7fa5a105)\u001b[0;0m",
      "\u001b[1;31m\t- field (class: $iw, name: $iw, type: class $iw)\u001b[0;0m",
      "\u001b[1;31m\t- object (class $iw, $iw@707719e0)\u001b[0;0m",
      "\u001b[1;31m\t- field (class: $iw, name: $iw, type: class $iw)\u001b[0;0m",
      "\u001b[1;31m\t- object (class $iw, $iw@3084a97d)\u001b[0;0m",
      "\u001b[1;31m\t- field (class: $iw, name: $iw, type: class $iw)\u001b[0;0m",
      "\u001b[1;31m\t- object (class $iw, $iw@105c0f75)\u001b[0;0m",
      "\u001b[1;31m\t- field (class: $iw, name: $iw, type: class $iw)\u001b[0;0m",
      "\u001b[1;31m\t- object (class $iw, $iw@10b31b43)\u001b[0;0m",
      "\u001b[1;31m\t- field (class: $iw, name: $iw, type: class $iw)\u001b[0;0m",
      "\u001b[1;31m\t- object (class $iw, $iw@60f0ab10)\u001b[0;0m",
      "\u001b[1;31m\t- field (class: $iw, name: $iw, type: class $iw)\u001b[0;0m",
      "\u001b[1;31m\t- object (class $iw, $iw@6f961352)\u001b[0;0m",
      "\u001b[1;31m\t- field (class: $iw, name: $iw, type: class $iw)\u001b[0;0m",
      "\u001b[1;31m\t- object (class $iw, $iw@33dbea4e)\u001b[0;0m",
      "\u001b[1;31m\t- field (class: $iw, name: $iw, type: class $iw)\u001b[0;0m",
      "\u001b[1;31m\t- object (class $iw, $iw@4f056c60)\u001b[0;0m",
      "\u001b[1;31m\t- field (class: $iw, name: $iw, type: class $iw)\u001b[0;0m",
      "\u001b[1;31m\t- object (class $iw, $iw@36f18244)\u001b[0;0m",
      "\u001b[1;31m\t- field (class: $iw, name: $iw, type: class $iw)\u001b[0;0m",
      "\u001b[1;31m\t- object (class $iw, $iw@5d9215df)\u001b[0;0m",
      "\u001b[1;31m\t- field (class: $iw, name: $iw, type: class $iw)\u001b[0;0m",
      "\u001b[1;31m\t- object (class $iw, $iw@126c3fe3)\u001b[0;0m",
      "\u001b[1;31m\t- field (class: $iw, name: $iw, type: class $iw)\u001b[0;0m",
      "\u001b[1;31m\t- object (class $iw, $iw@175ab3b0)\u001b[0;0m",
      "\u001b[1;31m\t- field (class: $iw, name: $iw, type: class $iw)\u001b[0;0m",
      "\u001b[1;31m\t- object (class $iw, $iw@6483d1dd)\u001b[0;0m",
      "\u001b[1;31m\t- field (class: $iw, name: $iw, type: class $iw)\u001b[0;0m",
      "\u001b[1;31m\t- object (class $iw, $iw@6f59926c)\u001b[0;0m",
      "\u001b[1;31m\t- field (class: $iw, name: $iw, type: class $iw)\u001b[0;0m",
      "\u001b[1;31m\t- object (class $iw, $iw@76b155db)\u001b[0;0m",
      "\u001b[1;31m\t- field (class: $iw, name: $iw, type: class $iw)\u001b[0;0m",
      "\u001b[1;31m\t- object (class $iw, $iw@546770a7)\u001b[0;0m",
      "\u001b[1;31m\t- field (class: $iw, name: $iw, type: class $iw)\u001b[0;0m",
      "\u001b[1;31m\t- object (class $iw, $iw@636ace28)\u001b[0;0m",
      "\u001b[1;31m\t- field (class: $iw, name: $iw, type: class $iw)\u001b[0;0m",
      "\u001b[1;31m\t- object (class $iw, $iw@728f2c12)\u001b[0;0m",
      "\u001b[1;31m\t- field (class: $line26.$read, name: $iw, type: class $iw)\u001b[0;0m",
      "\u001b[1;31m\t- object (class $line26.$read, $line26.$read@4cfb137c)\u001b[0;0m",
      "\u001b[1;31m\t- field (class: $iw, name: $line26$read, type: class $line26.$read)\u001b[0;0m",
      "\u001b[1;31m\t- object (class $iw, $iw@5a4e9b3b)\u001b[0;0m",
      "\u001b[1;31m\t- field (class: $iw, name: $iw, type: class $iw)\u001b[0;0m",
      "\u001b[1;31m\t- object (class $iw, $iw@485bee90)\u001b[0;0m",
      "\u001b[1;31m\t- field (class: $iw, name: $iw, type: class $iw)\u001b[0;0m",
      "\u001b[1;31m\t- object (class $iw, $iw@49c9946e)\u001b[0;0m",
      "\u001b[1;31m\t- field (class: $iw, name: $iw, type: class $iw)\u001b[0;0m",
      "\u001b[1;31m\t- object (class $iw, $iw@7d508dfd)\u001b[0;0m",
      "\u001b[1;31m\t- field (class: $iw, name: $iw, type: class $iw)\u001b[0;0m",
      "\u001b[1;31m\t- object (class $iw, $iw@2b2a93a9)\u001b[0;0m",
      "\u001b[1;31m\t- field (class: $iw, name: $iw, type: class $iw)\u001b[0;0m",
      "\u001b[1;31m\t- object (class $iw, $iw@61fce88e)\u001b[0;0m",
      "\u001b[1;31m\t- field (class: $iw, name: $iw, type: class $iw)\u001b[0;0m",
      "\u001b[1;31m\t- object (class $iw, $iw@421fb318)\u001b[0;0m",
      "\u001b[1;31m\t- field (class: $iw, name: $iw, type: class $iw)\u001b[0;0m",
      "\u001b[1;31m\t- object (class $iw, $iw@1985a040)\u001b[0;0m",
      "\u001b[1;31m\t- field (class: $iw, name: $iw, type: class $iw)\u001b[0;0m",
      "\u001b[1;31m\t- object (class $iw, $iw@4544f7c)\u001b[0;0m",
      "\u001b[1;31m\t- field (class: $iw, name: $iw, type: class $iw)\u001b[0;0m",
      "\u001b[1;31m\t- object (class $iw, $iw@410c36de)\u001b[0;0m",
      "\u001b[1;31m\t- field (class: $iw, name: $iw, type: class $iw)\u001b[0;0m",
      "\u001b[1;31m\t- object (class $iw, $iw@78d78d9d)\u001b[0;0m",
      "\u001b[1;31m\t- field (class: $iw, name: $iw, type: class $iw)\u001b[0;0m",
      "\u001b[1;31m\t- object (class $iw, $iw@78da7143)\u001b[0;0m",
      "\u001b[1;31m\t- field (class: $iw, name: $iw, type: class $iw)\u001b[0;0m",
      "\u001b[1;31m\t- object (class $iw, $iw@5ce2a54b)\u001b[0;0m",
      "\u001b[1;31m\t- field (class: $iw, name: $iw, type: class $iw)\u001b[0;0m",
      "\u001b[1;31m\t- object (class $iw, $iw@28ae89f3)\u001b[0;0m",
      "\u001b[1;31m\t- field (class: $iw, name: $iw, type: class $iw)\u001b[0;0m",
      "\u001b[1;31m\t- object (class $iw, $iw@615b30b3)\u001b[0;0m",
      "\u001b[1;31m\t- field (class: $iw, name: $iw, type: class $iw)\u001b[0;0m",
      "\u001b[1;31m\t- object (class $iw, $iw@789a22cb)\u001b[0;0m",
      "\u001b[1;31m\t- field (class: $iw, name: $iw, type: class $iw)\u001b[0;0m",
      "\u001b[1;31m\t- object (class $iw, $iw@2045cabe)\u001b[0;0m",
      "\u001b[1;31m\t- field (class: $iw, name: $iw, type: class $iw)\u001b[0;0m",
      "\u001b[1;31m\t- object (class $iw, $iw@de70371)\u001b[0;0m",
      "\u001b[1;31m\t- field (class: $iw, name: $iw, type: class $iw)\u001b[0;0m",
      "\u001b[1;31m\t- object (class $iw, $iw@1ffb9d07)\u001b[0;0m",
      "\u001b[1;31m\t- field (class: $line30.$read, name: $iw, type: class $iw)\u001b[0;0m",
      "\u001b[1;31m\t- object (class $line30.$read, $line30.$read@5e6a2be5)\u001b[0;0m",
      "\u001b[1;31m\t- field (class: $iw, name: $line30$read, type: class $line30.$read)\u001b[0;0m",
      "\u001b[1;31m\t- object (class $iw, $iw@603a1429)\u001b[0;0m",
      "\u001b[1;31m\t- field (class: $iw, name: $outer, type: class $iw)\u001b[0;0m",
      "\u001b[1;31m\t- object (class $iw, $iw@1082d4c7)\u001b[0;0m",
      "\u001b[1;31m\t- field (class: $anonfun$1, name: $outer, type: class $iw)\u001b[0;0m",
      "\u001b[1;31m\t- object (class $anonfun$1, <function1>)\u001b[0;0m",
      "\u001b[1;31m  at org.apache.spark.serializer.SerializationDebugger$.improveException(SerializationDebugger.scala:40)\u001b[0;0m",
      "\u001b[1;31m  at org.apache.spark.serializer.JavaSerializationStream.writeObject(JavaSerializer.scala:46)\u001b[0;0m",
      "\u001b[1;31m  at org.apache.spark.serializer.JavaSerializerInstance.serialize(JavaSerializer.scala:100)\u001b[0;0m",
      "\u001b[1;31m  at org.apache.spark.util.ClosureCleaner$.ensureSerializable(ClosureCleaner.scala:337)\u001b[0;0m",
      "\u001b[1;31m  ... 53 more\u001b[0;0m"
     ]
    }
   ],
   "source": [
    "val clusterized1 = rddArray.map( v => (model.predict(v).getID, v) ).collect"
   ]
  }
 ],
 "metadata": {
  "kernelspec": {
   "display_name": "Scala",
   "language": "scala",
   "name": "scala"
  },
  "language_info": {
   "codemirror_mode": "text/x-scala",
   "file_extension": ".scala",
   "mimetype": "",
   "name": "Scala",
   "nbconverter_exporter": "",
   "version": "2.11.12"
  },
  "toc": {
   "base_numbering": 1,
   "nav_menu": {},
   "number_sections": false,
   "sideBar": false,
   "skip_h1_title": false,
   "title_cell": "Table of Contents",
   "title_sidebar": "Contents",
   "toc_cell": false,
   "toc_position": {},
   "toc_section_display": false,
   "toc_window_display": false
  }
 },
 "nbformat": 4,
 "nbformat_minor": 2
}
