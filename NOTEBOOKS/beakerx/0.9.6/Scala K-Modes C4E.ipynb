{
 "cells": [
  {
   "cell_type": "markdown",
   "metadata": {},
   "source": [
    "# [Clustering4Ever](https://github.com/Clustering4Ever/Clustering4Ever) by [LIPN](https://lipn.univ-paris13.fr/) [A3](https://lipn.univ-paris13.fr/accueil/equipe/a3/) team"
   ]
  },
  {
   "cell_type": "code",
   "execution_count": null,
   "metadata": {},
   "outputs": [],
   "source": [
    "%%classpath add mvn\n",
    "org.clustering4ever clustering4ever_2.11 0.9.6"
   ]
  },
  {
   "cell_type": "code",
   "execution_count": null,
   "metadata": {},
   "outputs": [],
   "source": [
    "%%classpath add mvn\n",
    "org.apache.spark spark-core_2.11 2.4.3"
   ]
  },
  {
   "cell_type": "code",
   "execution_count": null,
   "metadata": {},
   "outputs": [],
   "source": [
    "%%classpath add mvn\n",
    "org.apache.sanselan sanselan 0.97-incubator"
   ]
  },
  {
   "cell_type": "code",
   "execution_count": null,
   "metadata": {},
   "outputs": [],
   "source": [
    "%%classpath add mvn\n",
    "com.github.haifengl smile-scala_2.11 1.5.0"
   ]
  },
  {
   "cell_type": "markdown",
   "metadata": {},
   "source": [
    "# Scala _K_-Modes"
   ]
  },
  {
   "cell_type": "markdown",
   "metadata": {},
   "source": [
    "import scala.collection.mutable\n",
    "import smile.plot._\n",
    "import org.clustering4ever.clustering.kcenters.scala.KModes\n",
    "import org.clustering4ever.math.distances.binary.Hamming\n",
    "import org.clustering4ever.clusterizables.EasyClusterizable\n",
    "import org.clustering4ever.vectors.BinaryVector\n",
    "import scala.io.Source\n",
    "import smile.feature.Standardizer\n",
    "import smile.data.NumericAttribute\n",
    "import smile.data.Attribute.Type._\n",
    "import smile.plot._\n",
    "import smile.projection._\n",
    "import smile.manifold._\n",
    "import java.awt.Color\n",
    "import org.clustering4ever.vectorizables.Vectorizable\n",
    "import org.clustering4ever.clusterizables.EasyClusterizable\n",
    "import org.clustering4ever.vectors.ScalarVector"
   ]
  },
  {
   "cell_type": "markdown",
   "metadata": {},
   "source": [
    "## Download dataset Digits"
   ]
  },
  {
   "cell_type": "code",
   "execution_count": null,
   "metadata": {},
   "outputs": [],
   "source": [
    "%%bash\n",
    "wget -P /tmp/ http://www.clustering4ever.org/Datasets/Digits/digits.csv\n",
    "wget -P /tmp/ http://www.clustering4ever.org/Datasets/Digits/labels"
   ]
  },
  {
   "cell_type": "markdown",
   "metadata": {},
   "source": [
    "## Import and format data"
   ]
  },
  {
   "cell_type": "code",
   "execution_count": null,
   "metadata": {},
   "outputs": [],
   "source": [
    "val datasetSize = 50000\n",
    "val dim = 10\n",
    "val path = \"/tmp/digits.csv\"\n",
    "\n",
    "val rawData = Source.fromFile(path).getLines.map( x => Array(x.split(\",\").map(_.toDouble):_*) ).toArray\n",
    "\n",
    "val parData = rawData.zipWithIndex.par.map{ case (v, id) => EasyClusterizable(id.toLong, new ScalarVector(v)) }\n",
    "\n",
    "val groundTrueLabels = \"/tmp/labels\""
   ]
  },
  {
   "cell_type": "markdown",
   "metadata": {},
   "source": [
    "## Parameters "
   ]
  },
  {
   "cell_type": "code",
   "execution_count": null,
   "metadata": {},
   "outputs": [],
   "source": [
    "val k = 10\n",
    "val iterMax = 100\n",
    "val epsilon = 0.1\n",
    "val metric1 = new Hamming"
   ]
  },
  {
   "cell_type": "markdown",
   "metadata": {},
   "source": [
    "## Run the algorithm"
   ]
  },
  {
   "cell_type": "code",
   "execution_count": null,
   "metadata": {},
   "outputs": [],
   "source": [
    "val t1 = System.nanoTime\n",
    "\n",
    "val model = new KModes(k, metric1, epsilon, iterMax).fit(parData)\n",
    "\n",
    "val t2 = System.nanoTime\n",
    "\n",
    "(t2 - t1) / 1000000000D"
   ]
  },
  {
   "cell_type": "markdown",
   "metadata": {},
   "source": [
    "## Different ways to apply model to datasets"
   ]
  },
  {
   "cell_type": "code",
   "execution_count": null,
   "metadata": {},
   "outputs": [],
   "source": [
    "val clusterized11 = rawData.map( v => (model.centerPredict(v), v) )\n",
    "val clusterized12 = model.centerPredict(rawData)\n",
    "\n",
    "val clusterized21 = parData.map( cz => (model.centerPredict(cz.v), cz) )\n",
    "val clusterized22 = model.centerPredict(parData)"
   ]
  },
  {
   "cell_type": "markdown",
   "metadata": {},
   "source": [
    "### Transform binary data into a grid to visualize it. Here a 15 x 16 grid for digits data"
   ]
  },
  {
   "cell_type": "code",
   "execution_count": null,
   "metadata": {},
   "outputs": [],
   "source": [
    "val centroids = model.centers.toArray\n",
    "val formatedCentroids = centroids.map(_._2.vector.map(_.toDouble).grouped(15).map(_.toArray).toArray)"
   ]
  },
  {
   "cell_type": "markdown",
   "metadata": {},
   "source": [
    "### Visualize centroids"
   ]
  },
  {
   "cell_type": "code",
   "execution_count": null,
   "metadata": {},
   "outputs": [],
   "source": [
    "formatedCentroids.foreach( centroid => hexmap(centroid, Array(Palette.BLACK, Palette.LIGHT_GRAY)))"
   ]
  },
  {
   "cell_type": "markdown",
   "metadata": {},
   "source": [
    "## Standardize data and apply a PCA on it"
   ]
  },
  {
   "cell_type": "code",
   "execution_count": null,
   "metadata": {},
   "outputs": [],
   "source": [
    "val types = for( i <- (0 until parData.head.v.vector.size).toArray ) yield new NumericAttribute(i.toString)\n",
    "\n",
    "val standardize = new Standardizer\n",
    "\n",
    "val dataAsDouble = parData.map(_.v.vector.map(_.toDouble))\n",
    "\n",
    "standardize.learn(types.toArray, dataAsDouble.map(_.toArray).toArray)\n",
    "\n",
    "val standardizedData = clusterized22.map( cz => (cz.clusterIDs.last, cz.v.vector.map(_.toDouble).toArray) )"
   ]
  },
  {
   "cell_type": "code",
   "execution_count": null,
   "metadata": {},
   "outputs": [],
   "source": [
    "val readyToPca = standardizedData.map(_._2).toArray\n",
    "\n",
    "val pcaModel = pca(readyToPca)\n",
    "\n",
    "pcaModel.setProjection(3)\n",
    "\n",
    "val pcaizedData = standardizedData.map{ case (clusterID, v) => (clusterID, pcaModel.project(v)) }"
   ]
  },
  {
   "cell_type": "code",
   "execution_count": null,
   "metadata": {},
   "outputs": [],
   "source": [
    "val pureData = pcaizedData.map(_._2).toArray\n",
    "val labels = pcaizedData.map(_._1).toArray\n",
    "val pcizedCentroids = centroids.map{ case (_, centroid) =>  (Int.MaxValue, pcaModel.project(standardize.transform(centroid.vector.map(_.toDouble).toArray))) }"
   ]
  },
  {
   "cell_type": "code",
   "execution_count": null,
   "metadata": {},
   "outputs": [],
   "source": [
    "plot(pureData, labels, '.', Palette.COLORS)"
   ]
  },
  {
   "cell_type": "code",
   "execution_count": null,
   "metadata": {},
   "outputs": [],
   "source": [
    "val window = plot(pureData, labels, '.', Palette.COLORS)\n",
    "window.canvas.points(\"centroid\", pcizedCentroids.map(_._2), 'Q', Color.BLACK)"
   ]
  },
  {
   "cell_type": "markdown",
   "metadata": {},
   "source": [
    "## Visualization with t-sne"
   ]
  },
  {
   "cell_type": "code",
   "execution_count": null,
   "metadata": {},
   "outputs": [],
   "source": [
    "val sne = tsne(readyToPca, 3)"
   ]
  },
  {
   "cell_type": "code",
   "execution_count": null,
   "metadata": {},
   "outputs": [],
   "source": [
    "plot(sne.getCoordinates, labels, '.', Palette.COLORS)"
   ]
  },
  {
   "cell_type": "markdown",
   "metadata": {},
   "source": [
    "## Include centroids "
   ]
  },
  {
   "cell_type": "code",
   "execution_count": null,
   "metadata": {},
   "outputs": [],
   "source": [
    "val readyTsneCentroids = centroids.map{ case (_, centroid) =>  (Int.MaxValue, standardize.transform(centroid.vector.map(_.toDouble).toArray)) }\n",
    "\n",
    "val readyToTsne = readyToPca ++ readyTsneCentroids.map(_._2)"
   ]
  },
  {
   "cell_type": "code",
   "execution_count": null,
   "metadata": {},
   "outputs": [],
   "source": [
    "val sne2 = tsne(readyToTsne, 3)"
   ]
  },
  {
   "cell_type": "code",
   "execution_count": null,
   "metadata": {},
   "outputs": [],
   "source": [
    "val dataTsne = sne2.getCoordinates.take(parData.size)\n",
    "val dataCentroids = sne2.getCoordinates.takeRight(10)\n",
    "\n",
    "val window = plot(dataTsne, labels, '.', Palette.COLORS)\n",
    "window.canvas.points(\"centroid\", dataCentroids, 'Q', Color.BLACK)"
   ]
  }
 ],
 "metadata": {
  "kernelspec": {
   "display_name": "Scala",
   "language": "scala",
   "name": "scala"
  },
  "language_info": {
   "codemirror_mode": "text/x-scala",
   "file_extension": ".scala",
   "mimetype": "",
   "name": "Scala",
   "nbconverter_exporter": "",
   "version": "2.11.12"
  },
  "toc": {
   "base_numbering": 1,
   "nav_menu": {},
   "number_sections": false,
   "sideBar": false,
   "skip_h1_title": false,
   "title_cell": "Table of Contents",
   "title_sidebar": "Contents",
   "toc_cell": false,
   "toc_position": {},
   "toc_section_display": false,
   "toc_window_display": false
  }
 },
 "nbformat": 4,
 "nbformat_minor": 2
}
