{
 "cells": [
  {
   "cell_type": "markdown",
   "metadata": {},
   "source": [
    "# [Clustering4Ever](https://github.com/Clustering4Ever/Clustering4Ever) by [LIPN](https://lipn.univ-paris13.fr/) [A3](https://lipn.univ-paris13.fr/accueil/equipe/a3/) team"
   ]
  },
  {
   "cell_type": "code",
   "execution_count": null,
   "metadata": {},
   "outputs": [],
   "source": [
    "%%classpath add mvn\n",
    "org.clustering4ever clustering4ever_2.11 0.9.6"
   ]
  },
  {
   "cell_type": "code",
   "execution_count": null,
   "metadata": {},
   "outputs": [],
   "source": [
    "%%classpath add mvn\n",
    "org.apache.spark spark-core_2.11 2.4.3"
   ]
  },
  {
   "cell_type": "markdown",
   "metadata": {},
   "source": [
    "# Scala _K_-Means"
   ]
  },
  {
   "cell_type": "code",
   "execution_count": null,
   "metadata": {},
   "outputs": [],
   "source": [
    "import scala.io.Source\n",
    "import scala.collection.{immutable, mutable, parallel}\n",
    "import org.clustering4ever.clustering.kcenters.scala.KMeans\n",
    "import org.clustering4ever.math.distances.scalar.{Euclidean, Cosine, Minkowski}\n",
    "import org.clustering4ever.clustering.indices.MultiExternalIndicesLocal\n",
    "import org.clustering4ever.enums.NmiNormalizationNature._\n",
    "import org.clustering4ever.clusterizables.EasyClusterizable\n",
    "import org.clustering4ever.vectorizables.Vectorizable\n",
    "import org.clustering4ever.vectors.ScalarVector"
   ]
  },
  {
   "cell_type": "markdown",
   "metadata": {},
   "source": [
    "## Download dataset Aggregation"
   ]
  },
  {
   "cell_type": "code",
   "execution_count": null,
   "metadata": {},
   "outputs": [],
   "source": [
    "%%bash\n",
    "wget -P /tmp/ http://www.clustering4ever.org/Datasets/Aggregation/aggregation.csv\n",
    "wget -P /tmp/ http://www.clustering4ever.org/Datasets/Aggregation/labels"
   ]
  },
  {
   "cell_type": "markdown",
   "metadata": {},
   "source": [
    "## Import data as ParArray[Array[Double]]"
   ]
  },
  {
   "cell_type": "code",
   "execution_count": null,
   "metadata": {},
   "outputs": [],
   "source": [
    "val datasetSize = 100000\n",
    "val dim = 10\n",
    "val path = \"/tmp/aggregation.csv\"\n",
    "\n",
    "val rawData = Source.fromFile(path).getLines.map( x => Array(x.split(\",\").map(_.toDouble):_*) ).toArray\n",
    "\n",
    "val parData = rawData.zipWithIndex.par.map{ case (v, id) => EasyClusterizable(id.toLong, new ScalarVector(v)) }\n",
    "\n",
    "val groundTruePath = \"/tmp/labels\""
   ]
  },
  {
   "cell_type": "code",
   "execution_count": null,
   "metadata": {},
   "outputs": [],
   "source": [
    "val path = \"/tmp/aggregation.csv\"\n",
    "val data = scala.io.Source.fromFile(path).getLines.toSeq.par\n",
    "  .map( x => x.split(\",\").map(_.toDouble)).zipWithIndex\n",
    "  .map{ case (v, id) => EasyClusterizable(id.toLong, ScalarVector(v)) }\n",
    "val labelsPath = \"/tmp/labels\"\n",
    "val labels = scala.io.Source.fromFile(labelsPath).getLines.toSeq.map(_.toInt)"
   ]
  },
  {
   "cell_type": "markdown",
   "metadata": {},
   "source": [
    "## Parameters "
   ]
  },
  {
   "cell_type": "code",
   "execution_count": null,
   "metadata": {},
   "outputs": [],
   "source": [
    "val k = 7\n",
    "val iterMax = 50\n",
    "val epsilon = 0.001\n",
    "// True defines the true Euclidean with square root, set it to false to avoid the square\n",
    "// val metric0 = new Euclidean[Array[Double]](true)\n",
    "val metric1 = new Euclidean(false)\n",
    "// Minkowski(p) where p is the Minkowski parameter\n",
    "val metric2 = new Minkowski(4)"
   ]
  },
  {
   "cell_type": "markdown",
   "metadata": {},
   "source": [
    "## Run and measure the algorithm time"
   ]
  },
  {
   "cell_type": "code",
   "execution_count": null,
   "metadata": {},
   "outputs": [],
   "source": [
    "val t1 = System.nanoTime\n",
    "\n",
    "\n",
    "val model = new KMeans(k, metric1, epsilon, iterMax).fit(parData)\n",
    "\n",
    "val t2 = System.nanoTime\n",
    "\n",
    "(t2 - t1) / 1000000000D"
   ]
  },
  {
   "cell_type": "code",
   "execution_count": null,
   "metadata": {},
   "outputs": [],
   "source": [
    "val rawModel = new KMeans(k,metric1,epsilon, iterMax).fit(parData)\n",
    "\n",
    "rawModel.centerPredict(parData)"
   ]
  },
  {
   "cell_type": "markdown",
   "metadata": {},
   "source": [
    "# Compare algorithm between ParArray and Seq container"
   ]
  },
  {
   "cell_type": "code",
   "execution_count": null,
   "metadata": {},
   "outputs": [],
   "source": [
    "val t1 = System.nanoTime\n",
    "new KMeans(k,metric1,epsilon, iterMax).fit(parData)\n",
    "val t2 = System.nanoTime\n",
    "val seqData = parData.seq\n",
    "val t3 = System.nanoTime\n",
    "new KMeans(k,metric1,epsilon, iterMax).fit(rawData)\n",
    "val t4 = System.nanoTime\n",
    "\n",
    "\n",
    "\n",
    "(t4 - t3).toDouble / (t2 - t1)"
   ]
  },
  {
   "cell_type": "markdown",
   "metadata": {},
   "source": [
    "## Different ways to apply model to datasets"
   ]
  },
  {
   "cell_type": "code",
   "execution_count": null,
   "metadata": {},
   "outputs": [],
   "source": [
    "//val clusterized1 = model.centerPredict(data.map(_.v))\n",
    "//val clusterized2 = model.obtainClustering(data)\n",
    "val clusterized3 = model.centerPredict(data)"
   ]
  },
  {
   "cell_type": "markdown",
   "metadata": {},
   "source": [
    "## Plot clustering results"
   ]
  },
  {
   "cell_type": "code",
   "execution_count": null,
   "metadata": {},
   "outputs": [],
   "source": [
    "val rawd = clusterized3.map( cz => cz.v.vector.toArray ).toArray\n",
    "val labelsPred = clusterized3.map( cz => cz.clusterIDs(0) ).toArray\n",
    "val plot = new Plot()\n",
    "(rawd zip labelsPred).groupBy(_._2).values.foreach(x => {\n",
    "    val Array(xx, yy) = x.map(_._1).transpose\n",
    "    plot.add(new Points{x = xx\n",
    "                        y = yy})\n",
    "})\n",
    "plot"
   ]
  },
  {
   "cell_type": "markdown",
   "metadata": {},
   "source": [
    "## Inspect performance metrics"
   ]
  },
  {
   "cell_type": "code",
   "execution_count": null,
   "metadata": {},
   "outputs": [],
   "source": [
    "val labels = Source.fromFile(labelsPath).getLines.map(_.toInt).toBuffer.toParArray"
   ]
  },
  {
   "cell_type": "code",
   "execution_count": null,
   "metadata": {},
   "outputs": [],
   "source": [
    "val indices = MultiExternalIndicesLocal(labelsPred zip labels)\n",
    "val nmi = indices.nmiSQRT"
   ]
  },
  {
   "cell_type": "code",
   "execution_count": null,
   "metadata": {},
   "outputs": [],
   "source": [
    "val arand = indices.arand"
   ]
  }
 ],
 "metadata": {
  "kernelspec": {
   "display_name": "Scala",
   "language": "scala",
   "name": "scala"
  },
  "language_info": {
   "codemirror_mode": "text/x-scala",
   "file_extension": ".scala",
   "mimetype": "",
   "name": "Scala",
   "nbconverter_exporter": "",
   "version": "2.11.12"
  },
  "toc": {
   "base_numbering": 1,
   "nav_menu": {},
   "number_sections": false,
   "sideBar": false,
   "skip_h1_title": false,
   "title_cell": "Table of Contents",
   "title_sidebar": "Contents",
   "toc_cell": false,
   "toc_position": {},
   "toc_section_display": false,
   "toc_window_display": false
  }
 },
 "nbformat": 4,
 "nbformat_minor": 2
}
