{
  "metadata" : {
    "id" : "ea00358a-8db5-49e2-8b8f-cf8023b3c932",
    "name" : "C4E Scala Epsilon Proximity",
    "user_save_timestamp" : "2018-04-08T21:20:20.573Z",
    "auto_save_timestamp" : "1970-01-01T01:00:00.000Z",
    "language_info" : {
      "name" : "scala",
      "file_extension" : "scala",
      "codemirror_mode" : "text/x-scala"
    },
    "trusted" : true,
    "sparkNotebook" : null,
    "customLocalRepo" : null,
    "customRepos" : [
      "clustering4ever % default % http://dl.bintray.com/clustering4ever/C4E % maven"
    ],
    "customDeps" : [
      "com.github.haifengl:smile-scala_2.11:1.5.0",
      "org.clustering4ever % clustering4ever_2.11 % 0.9.3"
    ],
    "customImports" : null,
    "customArgs" : null,
    "customSparkConf" : null,
    "customVars" : null
  },
  "cells" : [
    {
      "metadata" : {
        "id" : "56E473B68DE547C884E92C173F0C2CC7"
      },
      "cell_type" : "markdown",
      "source" : "# [Clustering4Ever](https://github.com/Clustering4Ever/Clustering4Ever) on [SparkNotebook](http://spark-notebook.io/) by [LIPN](https://lipn.univ-paris13.fr/) [A3](https://lipn.univ-paris13.fr/accueil/equipe/a3/) team"
    },
    {
      "metadata" : {
        "id" : "9BE3CBFDDB324D29914085C97E53D087"
      },
      "cell_type" : "markdown",
      "source" : "# C4E Scala Epsilon Proximity"
    },
    {
      "metadata" : {
        "trusted" : true,
        "input_collapsed" : false,
        "collapsed" : false,
        "id" : "2723CA508CC84A868DB0D63A7DB41C03"
      },
      "cell_type" : "code",
      "source" : [
        "import org.clustering4ever.clustering.epsilonproximity.scala.EpsilonProximityScalar\n",
        "import org.clustering4ever.math.distances.scalar.Euclidean\n",
        "import org.clustering4ever.clusterizables.EasyClusterizable\n",
        "import org.clustering4ever.vectors.ScalarVector\n",
        "import org.clustering4ever.clustering.indices.ExternalIndicesLocal\n",
        "import scala.io.Source\n",
        "import smile.plot._\n",
        "import scala.collection.mutable\n",
        "import scala.collection.parallel"
      ],
      "outputs" : [
        {
          "name" : "stdout",
          "output_type" : "stream",
          "text" : "import org.clustering4ever.clustering.epsilonproximity.scala.EpsilonProximityScalar\nimport org.clustering4ever.math.distances.scalar.Euclidean\nimport org.clustering4ever.clusterizables.EasyClusterizable\nimport org.clustering4ever.vectors.ScalarVector\nimport org.clustering4ever.clustering.indices.ExternalIndicesLocal\nimport scala.io.Source\nimport smile.plot._\nimport scala.collection.mutable\nimport scala.collection.parallel\n"
        },
        {
          "metadata" : { },
          "data" : {
            "text/html" : ""
          },
          "output_type" : "execute_result",
          "execution_count" : 1,
          "time" : "Took: 1.270s, at 2019-02-14 10:14"
        }
      ]
    },
    {
      "metadata" : {
        "trusted" : true,
        "input_collapsed" : false,
        "collapsed" : false,
        "id" : "B37ABB29B50D4C41AE273A5C90473FE9"
      },
      "cell_type" : "code",
      "source" : [
        ":sh wget -P /tmp/ http://www.clustering4ever.org/Datasets/Aggregation/aggregation.csv\n",
        ":sh wget -P /tmp/ http://www.clustering4ever.org/Datasets/Aggregation/labels"
      ],
      "outputs" : [
        {
          "name" : "stdout",
          "output_type" : "stream",
          "text" : "--2019-02-14 10:15:03--  http://www.clustering4ever.org/Datasets/Aggregation/aggregation.csv\nResolving www.clustering4ever.org (www.clustering4ever.org)... 62.210.16.62\nConnecting to www.clustering4ever.org (www.clustering4ever.org)|62.210.16.62|:80... connected.\nHTTP request sent, awaiting response... 200 OK\nLength: 8063 (7.9K) [text/csv]\nSaving to: ‘/tmp/aggregation.csv’\n\n     0K .......                                               100% 3.83M=0.002s\n\n2019-02-14 10:15:03 (3.83 MB/s) - ‘/tmp/aggregation.csv’ saved [8063/8063]\n\n:sh: Scheme missing.\n--2019-02-14 10:15:03--  http://wget/\nResolving wget (wget)... failed: Name or service not known.\nwget: unable to resolve host address ‘wget’\n--2019-02-14 10:15:03--  http://www.clustering4ever.org/Datasets/Aggregation/labels\nReusing existing connection to www.clustering4ever.org:80.\nHTTP request sent, awaiting response... 200 OK\nLength: 1576 (1.5K)\nSaving to: ‘/tmp/labels’\n\n     0K .                                                     100% 75.0M=0s\n\n2019-02-14 10:15:03 (75.0 MB/s) - ‘/tmp/labels’ saved [1576/1576]\n\nFINISHED --2019-02-14 10:15:03--\nTotal wall clock time: 0.3s\nDownloaded: 2 files, 9.4K in 0.002s (4.53 MB/s)\njava.lang.RuntimeException: Nonzero exit value: 4\n  at scala.sys.package$.error(package.scala:27)\n  at scala.sys.process.ProcessBuilderImpl$AbstractBuilder.slurp(ProcessBuilderImpl.scala:132)\n  at scala.sys.process.ProcessBuilderImpl$AbstractBuilder.$bang$bang(ProcessBuilderImpl.scala:103)\n  ... 65 elided\n"
        }
      ]
    },
    {
      "metadata" : {
        "id" : "148D7566A4664B22B0D114E8DB768EEB"
      },
      "cell_type" : "markdown",
      "source" : "### Load data"
    },
    {
      "metadata" : {
        "trusted" : true,
        "input_collapsed" : false,
        "collapsed" : false,
        "id" : "8393E5206D754D9CB83C4CD1CB415394"
      },
      "cell_type" : "code",
      "source" : [
        "val path = \"/tmp/aggregation.csv\"\n",
        "val data = scala.io.Source.fromFile(path).getLines.toSeq.par\n",
        "  .map( x => mutable.ArrayBuffer(x.split(\",\").map(_.toDouble):_*) ).zipWithIndex\n",
        "  .map{ case (v, id) => EasyClusterizable(id.toLong, ScalarVector(v)) }\n",
        "val labelsPath = \"/tmp/labels\"\n",
        "val labels = scala.io.Source.fromFile(labelsPath).getLines.toSeq.map(_.toInt)"
      ],
      "outputs" : [
        {
          "name" : "stdout",
          "output_type" : "stream",
          "text" : "path: String = /tmp/aggregation.csv\ndata: scala.collection.parallel.ParSeq[org.clustering4ever.clusterizables.EasyClusterizable[None.type,org.clustering4ever.vectors.ScalarVector[scala.collection.mutable.ArrayBuffer[Double]]]] = ParVector(EasyClusterizable(0,Vectorizable(None),ScalarVector(ArrayBuffer(15.55, 28.65)),shapeless.HMap@40a695c0,Vector()), EasyClusterizable(1,Vectorizable(None),ScalarVector(ArrayBuffer(14.9, 27.55)),shapeless.HMap@6f3412b5,Vector()), EasyClusterizable(2,Vectorizable(None),ScalarVector(ArrayBuffer(14.45, 28.35)),shapeless.HMap@42b57777,Vector()), EasyClusterizable(3,Vectorizable(None),ScalarVector(ArrayBuffer(14.15, 28.8)),shapeless.HMap@497f2e34,Vector()), EasyClusterizable(4,Vectorizable(None),ScalarVector(ArrayBuffer(13.75, 28.05)),shapeless.HMap@3d03aa4e,V..."
        },
        {
          "metadata" : { },
          "data" : {
            "text/html" : ""
          },
          "output_type" : "execute_result",
          "execution_count" : 5,
          "time" : "Took: 1.354s, at 2019-02-14 10:15"
        }
      ]
    },
    {
      "metadata" : {
        "id" : "DB906BE4458347E98566175F44A41B25"
      },
      "cell_type" : "markdown",
      "source" : "## Parameters "
    },
    {
      "metadata" : {
        "trusted" : true,
        "input_collapsed" : false,
        "collapsed" : false,
        "id" : "7B7F65B92A1849639D25B8260E8FC13D"
      },
      "cell_type" : "code",
      "source" : [
        "type SeqType = mutable.ArrayBuffer[Double]\n",
        "val metric = Euclidean[SeqType](false)\n",
        "val eps = \"knn:25\"\n",
        "val eps2 = \"eps:1.5\""
      ],
      "outputs" : [
        {
          "name" : "stdout",
          "output_type" : "stream",
          "text" : "defined type alias SeqType\nmetric: org.clustering4ever.math.distances.scalar.Euclidean[SeqType] = Euclidean distance without squared root applied\neps: String = knn:25\neps2: String = eps:1.5\n"
        },
        {
          "metadata" : { },
          "data" : {
            "text/html" : ""
          },
          "output_type" : "execute_result",
          "execution_count" : 6,
          "time" : "Took: 0.583s, at 2019-02-14 10:15"
        }
      ]
    },
    {
      "metadata" : {
        "id" : "8BC0181DA16343709685C0FBEA9AD6E7"
      },
      "cell_type" : "markdown",
      "source" : "## Run Epsilon Proximity "
    },
    {
      "metadata" : {
        "trusted" : true,
        "input_collapsed" : false,
        "collapsed" : false,
        "id" : "ECCB16863A874756A253761215378F72"
      },
      "cell_type" : "code",
      "source" : [
        "val t1 = System.nanoTime\n",
        "val modelEps = EpsilonProximityScalar(eps, metric).run(data)\n",
        "val t2 = System.nanoTime\n",
        "(t2 - t1) / 1000000000D"
      ],
      "outputs" : [
        {
          "name" : "stdout",
          "output_type" : "stream",
          "text" : "t1: Long = 2337933131410\nmodelEps: org.clustering4ever.clustering.epsilonproximity.scala.EpsilonProximityModelScalar[SeqType,org.clustering4ever.math.distances.scalar.Euclidean] = EpsilonProximityModelScalar(ArrayBuffer((0,(ScalarVector(ArrayBuffer(15.55, 28.65)),0)), (1,(ScalarVector(ArrayBuffer(14.9, 27.55)),0)), (2,(ScalarVector(ArrayBuffer(14.45, 28.35)),0)), (3,(ScalarVector(ArrayBuffer(14.15, 28.8)),0)), (4,(ScalarVector(ArrayBuffer(13.75, 28.05)),0)), (5,(ScalarVector(ArrayBuffer(13.35, 28.45)),0)), (6,(ScalarVector(ArrayBuffer(13.0, 29.15)),0)), (7,(ScalarVector(ArrayBuffer(13.45, 27.5)),0)), (8,(ScalarVector(ArrayBuffer(13.6, 26.5)),0)), (9,(ScalarVector(ArrayBuffer(12.8, 27.35)),0)), (10,(ScalarVector(ArrayBuffer(12.4, 27.85)),0)), (11,(ScalarVector(ArrayBuffer(12.3, 28.4)),0)..."
        },
        {
          "metadata" : { },
          "data" : {
            "text/html" : "0.264331239"
          },
          "output_type" : "execute_result",
          "execution_count" : 7,
          "time" : "Took: 1.282s, at 2019-02-14 10:15"
        }
      ]
    },
    {
      "metadata" : {
        "trusted" : true,
        "input_collapsed" : false,
        "collapsed" : false,
        "id" : "E4081AD2FD3944CE8E8E3F2FB2BB8148"
      },
      "cell_type" : "code",
      "source" : [
        "val clusterizedd = modelEps.obtainInputDataClustering(data)\n",
        "val rawd = clusterizedd.map(_.v.vector.toArray).toArray\n",
        "val labelsPred = clusterizedd.map(_.clusterIDs.last).toArray"
      ],
      "outputs" : [
        {
          "name" : "stdout",
          "output_type" : "stream",
          "text" : "clusterizedd: scala.collection.parallel.ParSeq[org.clustering4ever.clusterizables.EasyClusterizable[None.type,org.clustering4ever.vectors.ScalarVector[SeqType]]] = ParVector(EasyClusterizable(0,Vectorizable(None),ScalarVector(ArrayBuffer(15.55, 28.65)),shapeless.HMap@40a695c0,Vector(0)), EasyClusterizable(1,Vectorizable(None),ScalarVector(ArrayBuffer(14.9, 27.55)),shapeless.HMap@6f3412b5,Vector(0)), EasyClusterizable(2,Vectorizable(None),ScalarVector(ArrayBuffer(14.45, 28.35)),shapeless.HMap@42b57777,Vector(0)), EasyClusterizable(3,Vectorizable(None),ScalarVector(ArrayBuffer(14.15, 28.8)),shapeless.HMap@497f2e34,Vector(0)), EasyClusterizable(4,Vectorizable(None),ScalarVector(ArrayBuffer(13.75, 28.05)),shapeless.HMap@3d03aa4e,Vector(0)), EasyClusterizable(5,Vectorizable(None),ScalarVecto..."
        },
        {
          "metadata" : { },
          "data" : {
            "text/html" : ""
          },
          "output_type" : "execute_result",
          "execution_count" : 9,
          "time" : "Took: 1.003s, at 2019-02-14 10:15"
        }
      ]
    },
    {
      "metadata" : {
        "trusted" : true,
        "input_collapsed" : false,
        "collapsed" : false,
        "id" : "C00EDA88C44242A088DF10E4EECB00C3"
      },
      "cell_type" : "code",
      "source" : [
        "plot(rawd, labelsPred, '*', Palette.COLORS)"
      ],
      "outputs" : [
        {
          "name" : "stdout",
          "output_type" : "stream",
          "text" : "res13: smile.plot.Window = Window(javax.swing.JFrame[frame0,460,37,1000x1000,invalid,layout=java.awt.BorderLayout,title=Smile Plot 1,resizable,normal,defaultCloseOperation=DISPOSE_ON_CLOSE,rootPane=javax.swing.JRootPane[,5,25,990x970,invalid,layout=javax.swing.JRootPane$RootLayout,alignmentX=0.0,alignmentY=0.0,border=,flags=16777673,maximumSize=,minimumSize=,preferredSize=],rootPaneCheckingEnabled=true],smile.plot.PlotCanvas[,0,0,0x0,invalid,layout=java.awt.BorderLayout,alignmentX=0.0,alignmentY=0.0,border=,flags=9,maximumSize=,minimumSize=,preferredSize=])\n"
        },
        {
          "metadata" : { },
          "data" : {
            "text/html" : "Window(javax.swing.JFrame[frame0,460,37,1000x1000,layout=java.awt.BorderLayout,title=Smile Plot 1,resizable,normal,defaultCloseOperation=DISPOSE_ON_CLOSE,rootPane=javax.swing.JRootPane[,0,37,1000x963,layout=javax.swing.JRootPane$RootLayout,alignmentX=0.0,alignmentY=0.0,border=,flags=16777675,maximumSize=,minimumSize=,preferredSize=],rootPaneCheckingEnabled=true],smile.plot.PlotCanvas[,0,0,1000x963,layout=java.awt.BorderLayout,alignmentX=0.0,alignmentY=0.0,border=,flags=11,maximumSize=,minimumSize=,preferredSize=])"
          },
          "output_type" : "execute_result",
          "execution_count" : 10,
          "time" : "Took: 1.497s, at 2019-02-14 10:15"
        }
      ]
    },
    {
      "metadata" : {
        "id" : "269E520F596C4EFEB1B1F806FF78FBE3"
      },
      "cell_type" : "markdown",
      "source" : "## Compute NMI with founded class"
    },
    {
      "metadata" : {
        "trusted" : true,
        "input_collapsed" : false,
        "output_stream_collapsed" : true,
        "collapsed" : false,
        "id" : "B569609A5AD7418684877A57B5AA1078"
      },
      "cell_type" : "code",
      "source" : [
        "val nmi = ExternalIndicesLocal.nmi(labelsPred, labels)\n",
        "nmi"
      ],
      "outputs" : [
        {
          "name" : "stdout",
          "output_type" : "stream",
          "text" : "nmi: Double = 0.8948951451606832\nres15: Double = 0.8948951451606832\n"
        },
        {
          "metadata" : { },
          "data" : {
            "text/html" : "0.8948951451606832"
          },
          "output_type" : "execute_result",
          "execution_count" : 11,
          "time" : "Took: 1.031s, at 2019-02-14 10:15"
        }
      ]
    }
  ],
  "nbformat" : 4
}