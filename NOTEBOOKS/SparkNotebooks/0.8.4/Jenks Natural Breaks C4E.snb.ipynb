{
  "metadata" : {
    "id" : "4b2bd907-5c2e-4930-bd49-a58d5a037535",
    "name" : "Jenks Natural Breaks",
    "user_save_timestamp" : "1970-01-01T01:00:00.000Z",
    "auto_save_timestamp" : "1970-01-01T01:00:00.000Z",
    "language_info" : {
      "name" : "scala",
      "file_extension" : "scala",
      "codemirror_mode" : "text/x-scala"
    },
    "trusted" : true,
    "sparkNotebook" : null,
    "customLocalRepo" : null,
    "customRepos" : [
      "clustering4ever % default % http://dl.bintray.com/clustering4ever/C4E % maven"
    ],
    "customDeps" : [
      "org.clustering4ever %% clustering4ever % 0.8.4"
    ],
    "customImports" : null,
    "customArgs" : null,
    "customSparkConf" : null,
    "customVars" : null
  },
  "cells" : [
    {
      "metadata" : {
        "id" : "BE172624139A4A01951B826AE7AF0CD3"
      },
      "cell_type" : "markdown",
      "source" : "# [Clustering4Ever](https://github.com/Clustering4Ever/Clustering4Ever) on [SparkNotebook](http://spark-notebook.io/) by [LIPN](https://lipn.univ-paris13.fr/) [A3](https://lipn.univ-paris13.fr/accueil/equipe/a3/) team"
    },
    {
      "metadata" : {
        "id" : "D84F486CFB7440A584CC263619A18662"
      },
      "cell_type" : "markdown",
      "source" : "# Jenks Natural Breaks"
    },
    {
      "metadata" : {
        "trusted" : true,
        "input_collapsed" : false,
        "collapsed" : false,
        "id" : "742D2962FB7D44B19D04F3A315F2BA3C"
      },
      "cell_type" : "code",
      "source" : [
        "import org.clustering4ever.scala.clustering.JenksNaturalBreaks\n",
        "import scala.collection.mutable"
      ],
      "outputs" : [
        {
          "name" : "stdout",
          "output_type" : "stream",
          "text" : "import org.clustering4ever.scala.clustering.JenksNaturalBreaks\nimport scala.collection.mutable\n"
        },
        {
          "metadata" : { },
          "data" : {
            "text/html" : ""
          },
          "output_type" : "execute_result",
          "execution_count" : 1,
          "time" : "Took: 1.304s, at 2019-01-26 21:37"
        }
      ]
    },
    {
      "metadata" : {
        "trusted" : true,
        "input_collapsed" : false,
        "collapsed" : false,
        "id" : "D4419D13D8884D118B394790BFF2325F"
      },
      "cell_type" : "code",
      "source" : [
        "val gs = Array.fill(1000)(scala.util.Random.nextDouble).sorted"
      ],
      "outputs" : [
        {
          "name" : "stdout",
          "output_type" : "stream",
          "text" : "gs: Array[Double] = Array(0.0020356141504110914, 0.0020646432819675375, 0.003993887481847258, 0.006613267740949724, 0.007254482756747893, 0.008098791473732048, 0.008969946262979644, 0.009051599095516782, 0.009192594665547671, 0.010542100084288353, 0.011567151163159761, 0.011743850316087823, 0.012220304275117222, 0.01256896426887244, 0.0136564222278871, 0.01405062870751339, 0.01493778396886003, 0.016445196871773482, 0.01827593938384431, 0.018643796815404512, 0.01881294039538628, 0.019247958323521552, 0.020247264463770787, 0.021097563342594272, 0.021176177727490586, 0.023981803813409863, 0.02480932280502257, 0.025278198140257446, 0.025659603337606307, 0.02735930206558146, 0.027717523918808107, 0.02779730901854527, 0.028694143031467334, 0.02968519993457175, 0.030218481230460115, 0.03202165..."
        },
        {
          "metadata" : { },
          "data" : {
            "text/html" : ""
          },
          "output_type" : "execute_result",
          "execution_count" : 2,
          "time" : "Took: 1.434s, at 2019-01-26 21:37"
        }
      ]
    },
    {
      "metadata" : {
        "trusted" : true,
        "input_collapsed" : false,
        "collapsed" : false,
        "presentation" : {
          "tabs_state" : "{\n  \"tab_id\": \"#tab1961620904-0\"\n}",
          "pivot_chart_state" : "{\n  \"hiddenAttributes\": [],\n  \"menuLimit\": 200,\n  \"cols\": [],\n  \"rows\": [],\n  \"vals\": [],\n  \"exclusions\": {},\n  \"inclusions\": {},\n  \"unusedAttrsVertical\": 85,\n  \"autoSortUnusedAttrs\": false,\n  \"inclusionsInfo\": {},\n  \"aggregatorName\": \"Count\",\n  \"rendererName\": \"Table\"\n}"
        },
        "id" : "1B0F3F60873A42959F2E58D499677814"
      },
      "cell_type" : "code",
      "source" : [
        "val breaks = 5\n",
        "\n",
        "val model = JenksNaturalBreaks.run(gs, breaks)"
      ],
      "outputs" : [
        {
          "name" : "stdout",
          "output_type" : "stream",
          "text" : "breaks: Int = 5\nmodel: org.clustering4ever.scala.clustering.JenksNaturalBreaksModel[Double] = org.clustering4ever.scala.clustering.JenksNaturalBreaksModel$mcD$sp@7ad3b12\n"
        },
        {
          "metadata" : { },
          "data" : {
            "text/html" : ""
          },
          "output_type" : "execute_result",
          "execution_count" : 3,
          "time" : "Took: 1.352s, at 2019-01-26 21:37"
        }
      ]
    },
    {
      "metadata" : {
        "id" : "2955FB64C45747EA8C9BB2A4B480BF16"
      },
      "cell_type" : "markdown",
      "source" : "# Fill clusters"
    },
    {
      "metadata" : {
        "trusted" : true,
        "input_collapsed" : false,
        "collapsed" : false,
        "id" : "AC7968B361D84B0F8AF459DB829F0CA4"
      },
      "cell_type" : "code",
      "source" : [
        "val values = Array.fill(breaks)(mutable.ArrayBuffer.empty[Double])\n",
        "\n",
        "gs.foreach( v => values(model.predict(v)) += v )"
      ],
      "outputs" : [
        {
          "name" : "stdout",
          "output_type" : "stream",
          "text" : "values: Array[scala.collection.mutable.ArrayBuffer[Double]] = Array(ArrayBuffer(0.0020356141504110914), ArrayBuffer(0.0020646432819675375, 0.003993887481847258, 0.006613267740949724, 0.007254482756747893, 0.008098791473732048, 0.008969946262979644, 0.009051599095516782, 0.009192594665547671, 0.010542100084288353, 0.011567151163159761, 0.011743850316087823, 0.012220304275117222, 0.01256896426887244, 0.0136564222278871, 0.01405062870751339, 0.01493778396886003, 0.016445196871773482, 0.01827593938384431, 0.018643796815404512, 0.01881294039538628, 0.019247958323521552, 0.020247264463770787, 0.021097563342594272, 0.021176177727490586, 0.023981803813409863, 0.02480932280502257, 0.025278198140257446, 0.025659603337606307, 0.02735930206558146, 0.027717523918808107, 0.02779730901854527, 0.028694..."
        },
        {
          "metadata" : { },
          "data" : {
            "text/html" : ""
          },
          "output_type" : "execute_result",
          "execution_count" : 4,
          "time" : "Took: 2.276s, at 2019-01-26 21:37"
        }
      ]
    },
    {
      "metadata" : {
        "trusted" : true,
        "input_collapsed" : false,
        "collapsed" : false,
        "presentation" : {
          "tabs_state" : "{\n  \"tab_id\": \"#tab1079337898-0\"\n}",
          "pivot_chart_state" : "{\n  \"hiddenAttributes\": [],\n  \"menuLimit\": 200,\n  \"cols\": [],\n  \"rows\": [],\n  \"vals\": [],\n  \"exclusions\": {},\n  \"inclusions\": {},\n  \"unusedAttrsVertical\": 85,\n  \"autoSortUnusedAttrs\": false,\n  \"inclusionsInfo\": {},\n  \"aggregatorName\": \"Count\",\n  \"rendererName\": \"Table\"\n}"
        },
        "id" : "A60646F4CC75485D819BEA37BAA88CB3"
      },
      "cell_type" : "code",
      "source" : [
        "values.map(_.size)"
      ],
      "outputs" : [
        {
          "name" : "stdout",
          "output_type" : "stream",
          "text" : "res6: Array[Int] = Array(1, 207, 280, 275, 237)\n"
        },
        {
          "metadata" : { },
          "data" : {
            "text/html" : "<div>\n      <script data-this=\"{&quot;dataId&quot;:&quot;anon4895e3a42a543fdf75ace92f4249e2f3&quot;,&quot;dataInit&quot;:[],&quot;genId&quot;:&quot;1079337898&quot;}\" type=\"text/x-scoped-javascript\">/*<![CDATA[*/req(['../javascripts/notebook/playground','../javascripts/notebook/magic/tabs'], \n      function(playground, _magictabs) {\n        // data ==> data-this (in observable.js's scopedEval) ==> this in JS => { dataId, dataInit, ... }\n        // this ==> scope (in observable.js's scopedEval) ==> this.parentElement ==> div.container below (toHtml)\n\n        playground.call(data,\n                        this\n                        ,\n                        {\n    \"f\": _magictabs,\n    \"o\": {}\n  }\n  \n                        \n                        \n                      );\n      }\n    );/*]]>*/</script>\n    <div>\n      <div>\n        <ul class=\"nav nav-tabs\" id=\"ul1079337898\"><li>\n              <a href=\"#tab1079337898-0\"><i class=\"fa fa-table\"/></a>\n            </li><li>\n              <a href=\"#tab1079337898-1\"><i class=\"fa fa-dot-circle-o\"/></a>\n            </li><li>\n              <a href=\"#tab1079337898-2\"><i class=\"fa fa-line-chart\"/></a>\n            </li><li>\n              <a href=\"#tab1079337898-3\"><i class=\"fa fa-bar-chart\"/></a>\n            </li><li>\n              <a href=\"#tab1079337898-4\"><i class=\"fa fa-cubes\"/></a>\n            </li></ul>\n\n        <div class=\"tab-content\" id=\"tab1079337898\"><div class=\"tab-pane\" id=\"tab1079337898-0\">\n            <div>\n      <script data-this=\"{&quot;dataId&quot;:&quot;anon83d695ea04206091060020a38ca66fba&quot;,&quot;dataInit&quot;:[{&quot;_1&quot;:0,&quot;_2&quot;:1},{&quot;_1&quot;:1,&quot;_2&quot;:207},{&quot;_1&quot;:2,&quot;_2&quot;:280},{&quot;_1&quot;:3,&quot;_2&quot;:275},{&quot;_1&quot;:4,&quot;_2&quot;:237}],&quot;genId&quot;:&quot;1385386994&quot;}\" type=\"text/x-scoped-javascript\">/*<![CDATA[*/req(['../javascripts/notebook/playground','../javascripts/notebook/magic/tableChart'], \n      function(playground, _magictableChart) {\n        // data ==> data-this (in observable.js's scopedEval) ==> this in JS => { dataId, dataInit, ... }\n        // this ==> scope (in observable.js's scopedEval) ==> this.parentElement ==> div.container below (toHtml)\n\n        playground.call(data,\n                        this\n                        ,\n                        {\n    \"f\": _magictableChart,\n    \"o\": {\"headers\":[\"_1\",\"_2\"],\"width\":600,\"height\":400}\n  }\n  \n                        \n                        \n                      );\n      }\n    );/*]]>*/</script>\n    <div>\n      <span class=\"chart-total-item-count\"><p data-bind=\"text: value\"><script data-this=\"{&quot;valueId&quot;:&quot;anoneb71f0a2698c57950a1babd96de0d431&quot;,&quot;initialValue&quot;:&quot;5&quot;}\" type=\"text/x-scoped-javascript\">/*<![CDATA[*/\nreq(\n['observable', 'knockout'],\nfunction (O, ko) {\n  ko.applyBindings({\n      value: O.makeObservable(valueId, initialValue)\n    },\n    this\n  );\n});\n        /*]]>*/</script></p> entries total</span>\n      <span class=\"chart-sampling-warning\"><p data-bind=\"text: value\"><script data-this=\"{&quot;valueId&quot;:&quot;anon6deb899edb3b2e5fac98b3e606d6a663&quot;,&quot;initialValue&quot;:&quot;&quot;}\" type=\"text/x-scoped-javascript\">/*<![CDATA[*/\nreq(\n['observable', 'knockout'],\nfunction (O, ko) {\n  ko.applyBindings({\n      value: O.makeObservable(valueId, initialValue)\n    },\n    this\n  );\n});\n        /*]]>*/</script></p></span>\n      <div>\n      </div>\n    </div></div>\n            </div><div class=\"tab-pane\" id=\"tab1079337898-1\">\n            <div>\n      <script data-this=\"{&quot;dataId&quot;:&quot;anon4a6b7e8f38a1db5046a3758db6f1636c&quot;,&quot;dataInit&quot;:[{&quot;_1&quot;:0,&quot;_2&quot;:1},{&quot;_1&quot;:1,&quot;_2&quot;:207},{&quot;_1&quot;:2,&quot;_2&quot;:280},{&quot;_1&quot;:3,&quot;_2&quot;:275},{&quot;_1&quot;:4,&quot;_2&quot;:237}],&quot;genId&quot;:&quot;1806032891&quot;}\" type=\"text/x-scoped-javascript\">/*<![CDATA[*/req(['../javascripts/notebook/playground','../javascripts/notebook/magic/scatterChart'], \n      function(playground, _magicscatterChart) {\n        // data ==> data-this (in observable.js's scopedEval) ==> this in JS => { dataId, dataInit, ... }\n        // this ==> scope (in observable.js's scopedEval) ==> this.parentElement ==> div.container below (toHtml)\n\n        playground.call(data,\n                        this\n                        ,\n                        {\n    \"f\": _magicscatterChart,\n    \"o\": {\"x\":\"_1\",\"y\":\"_2\",\"width\":600,\"height\":400}\n  }\n  \n                        \n                        \n                      );\n      }\n    );/*]]>*/</script>\n    <div>\n      <span class=\"chart-total-item-count\"><p data-bind=\"text: value\"><script data-this=\"{&quot;valueId&quot;:&quot;anon3cd01bd7ffa00dd6195164cbe12773a8&quot;,&quot;initialValue&quot;:&quot;5&quot;}\" type=\"text/x-scoped-javascript\">/*<![CDATA[*/\nreq(\n['observable', 'knockout'],\nfunction (O, ko) {\n  ko.applyBindings({\n      value: O.makeObservable(valueId, initialValue)\n    },\n    this\n  );\n});\n        /*]]>*/</script></p> entries total</span>\n      <span class=\"chart-sampling-warning\"><p data-bind=\"text: value\"><script data-this=\"{&quot;valueId&quot;:&quot;anone229e791a5eacf00d919081886a9898d&quot;,&quot;initialValue&quot;:&quot;&quot;}\" type=\"text/x-scoped-javascript\">/*<![CDATA[*/\nreq(\n['observable', 'knockout'],\nfunction (O, ko) {\n  ko.applyBindings({\n      value: O.makeObservable(valueId, initialValue)\n    },\n    this\n  );\n});\n        /*]]>*/</script></p></span>\n      <div>\n      </div>\n    </div></div>\n            </div><div class=\"tab-pane\" id=\"tab1079337898-2\">\n            <div>\n      <script data-this=\"{&quot;dataId&quot;:&quot;anonbcbe728e75b8dbd9085c9cbd77e26042&quot;,&quot;dataInit&quot;:[{&quot;_1&quot;:0,&quot;_2&quot;:1},{&quot;_1&quot;:1,&quot;_2&quot;:207},{&quot;_1&quot;:2,&quot;_2&quot;:280},{&quot;_1&quot;:3,&quot;_2&quot;:275},{&quot;_1&quot;:4,&quot;_2&quot;:237}],&quot;genId&quot;:&quot;833493182&quot;}\" type=\"text/x-scoped-javascript\">/*<![CDATA[*/req(['../javascripts/notebook/playground','../javascripts/notebook/magic/lineChart'], \n      function(playground, _magiclineChart) {\n        // data ==> data-this (in observable.js's scopedEval) ==> this in JS => { dataId, dataInit, ... }\n        // this ==> scope (in observable.js's scopedEval) ==> this.parentElement ==> div.container below (toHtml)\n\n        playground.call(data,\n                        this\n                        ,\n                        {\n    \"f\": _magiclineChart,\n    \"o\": {\"x\":\"_1\",\"y\":\"_2\",\"width\":600,\"height\":400}\n  }\n  \n                        \n                        \n                      );\n      }\n    );/*]]>*/</script>\n    <div>\n      <span class=\"chart-total-item-count\"><p data-bind=\"text: value\"><script data-this=\"{&quot;valueId&quot;:&quot;anon1e896ed5a65c5a2907746df41049bbb6&quot;,&quot;initialValue&quot;:&quot;5&quot;}\" type=\"text/x-scoped-javascript\">/*<![CDATA[*/\nreq(\n['observable', 'knockout'],\nfunction (O, ko) {\n  ko.applyBindings({\n      value: O.makeObservable(valueId, initialValue)\n    },\n    this\n  );\n});\n        /*]]>*/</script></p> entries total</span>\n      <span class=\"chart-sampling-warning\"><p data-bind=\"text: value\"><script data-this=\"{&quot;valueId&quot;:&quot;anondb76121185e49a94bfbf3daddcfd1d77&quot;,&quot;initialValue&quot;:&quot;&quot;}\" type=\"text/x-scoped-javascript\">/*<![CDATA[*/\nreq(\n['observable', 'knockout'],\nfunction (O, ko) {\n  ko.applyBindings({\n      value: O.makeObservable(valueId, initialValue)\n    },\n    this\n  );\n});\n        /*]]>*/</script></p></span>\n      <div>\n      </div>\n    </div></div>\n            </div><div class=\"tab-pane\" id=\"tab1079337898-3\">\n            <div>\n      <script data-this=\"{&quot;dataId&quot;:&quot;anon68656d4b7bff063bf5f7322e53e08cde&quot;,&quot;dataInit&quot;:[{&quot;_1&quot;:0,&quot;_2&quot;:1},{&quot;_1&quot;:1,&quot;_2&quot;:207},{&quot;_1&quot;:2,&quot;_2&quot;:280},{&quot;_1&quot;:3,&quot;_2&quot;:275},{&quot;_1&quot;:4,&quot;_2&quot;:237}],&quot;genId&quot;:&quot;46063562&quot;}\" type=\"text/x-scoped-javascript\">/*<![CDATA[*/req(['../javascripts/notebook/playground','../javascripts/notebook/magic/barChart'], \n      function(playground, _magicbarChart) {\n        // data ==> data-this (in observable.js's scopedEval) ==> this in JS => { dataId, dataInit, ... }\n        // this ==> scope (in observable.js's scopedEval) ==> this.parentElement ==> div.container below (toHtml)\n\n        playground.call(data,\n                        this\n                        ,\n                        {\n    \"f\": _magicbarChart,\n    \"o\": {\"x\":\"_1\",\"y\":\"_2\",\"width\":600,\"height\":400}\n  }\n  \n                        \n                        \n                      );\n      }\n    );/*]]>*/</script>\n    <div>\n      <span class=\"chart-total-item-count\"><p data-bind=\"text: value\"><script data-this=\"{&quot;valueId&quot;:&quot;anonae56a4195decc678ef7fb237d9826ef0&quot;,&quot;initialValue&quot;:&quot;5&quot;}\" type=\"text/x-scoped-javascript\">/*<![CDATA[*/\nreq(\n['observable', 'knockout'],\nfunction (O, ko) {\n  ko.applyBindings({\n      value: O.makeObservable(valueId, initialValue)\n    },\n    this\n  );\n});\n        /*]]>*/</script></p> entries total</span>\n      <span class=\"chart-sampling-warning\"><p data-bind=\"text: value\"><script data-this=\"{&quot;valueId&quot;:&quot;anoncf74ed292b242829ee6e8bd28dd6c864&quot;,&quot;initialValue&quot;:&quot;&quot;}\" type=\"text/x-scoped-javascript\">/*<![CDATA[*/\nreq(\n['observable', 'knockout'],\nfunction (O, ko) {\n  ko.applyBindings({\n      value: O.makeObservable(valueId, initialValue)\n    },\n    this\n  );\n});\n        /*]]>*/</script></p></span>\n      <div>\n      </div>\n    </div></div>\n            </div><div class=\"tab-pane\" id=\"tab1079337898-4\">\n            <div>\n      <script data-this=\"{&quot;dataId&quot;:&quot;anon45b4f11f1c078fcd9d34c43020d4f4f6&quot;,&quot;dataInit&quot;:[{&quot;_1&quot;:0,&quot;_2&quot;:1},{&quot;_1&quot;:1,&quot;_2&quot;:207},{&quot;_1&quot;:2,&quot;_2&quot;:280},{&quot;_1&quot;:3,&quot;_2&quot;:275},{&quot;_1&quot;:4,&quot;_2&quot;:237}],&quot;genId&quot;:&quot;1079817161&quot;}\" type=\"text/x-scoped-javascript\">/*<![CDATA[*/req(['../javascripts/notebook/playground','../javascripts/notebook/magic/pivotChart'], \n      function(playground, _magicpivotChart) {\n        // data ==> data-this (in observable.js's scopedEval) ==> this in JS => { dataId, dataInit, ... }\n        // this ==> scope (in observable.js's scopedEval) ==> this.parentElement ==> div.container below (toHtml)\n\n        playground.call(data,\n                        this\n                        ,\n                        {\n    \"f\": _magicpivotChart,\n    \"o\": {\"width\":600,\"height\":400,\"derivedAttributes\":{},\"extraOptions\":{}}\n  }\n  \n                        \n                        \n                      );\n      }\n    );/*]]>*/</script>\n    <div>\n      <span class=\"chart-total-item-count\"><p data-bind=\"text: value\"><script data-this=\"{&quot;valueId&quot;:&quot;anonc487ca979928dd1ef08febfba66623d9&quot;,&quot;initialValue&quot;:&quot;5&quot;}\" type=\"text/x-scoped-javascript\">/*<![CDATA[*/\nreq(\n['observable', 'knockout'],\nfunction (O, ko) {\n  ko.applyBindings({\n      value: O.makeObservable(valueId, initialValue)\n    },\n    this\n  );\n});\n        /*]]>*/</script></p> entries total</span>\n      <span class=\"chart-sampling-warning\"><p data-bind=\"text: value\"><script data-this=\"{&quot;valueId&quot;:&quot;anon7fa64bc994a4b4df2de194d93f387a8d&quot;,&quot;initialValue&quot;:&quot;&quot;}\" type=\"text/x-scoped-javascript\">/*<![CDATA[*/\nreq(\n['observable', 'knockout'],\nfunction (O, ko) {\n  ko.applyBindings({\n      value: O.makeObservable(valueId, initialValue)\n    },\n    this\n  );\n});\n        /*]]>*/</script></p></span>\n      <div>\n      </div>\n    </div></div>\n            </div></div>\n      </div>\n    </div></div>"
          },
          "output_type" : "execute_result",
          "execution_count" : 5,
          "time" : "Took: 2.285s, at 2019-01-26 21:37"
        }
      ]
    }
  ],
  "nbformat" : 4
}