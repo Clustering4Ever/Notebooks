{
  "metadata" : {
    "id" : "00b93ee8-b27c-430b-b2cb-09bc294c2b20",
    "name" : "Scala Gradient Ascent",
    "user_save_timestamp" : "2018-04-04T17:17:57.904Z",
    "auto_save_timestamp" : "1970-01-01T01:00:00.000Z",
    "language_info" : {
      "name" : "scala",
      "file_extension" : "scala",
      "codemirror_mode" : "text/x-scala"
    },
    "trusted" : true,
    "sparkNotebook" : null,
    "customLocalRepo" : null,
    "customRepos" : [
      "clustering4ever % default % http://dl.bintray.com/clustering4ever/C4E % maven"
    ],
    "customDeps" : [
      "com.github.haifengl:smile-scala_2.11:1.5.0",
      "org.apache.sanselan % sanselan % 0.97-incubator",
      "org.clustering4ever:clustering4ever_2.11:0.8.3-SNAPSHOT"
    ],
    "customImports" : null,
    "customArgs" : null,
    "customSparkConf" : null,
    "customVars" : null
  },
  "cells" : [
    {
      "metadata" : {
        "id" : "56E473B68DE547C884E92C173F0C2CC7"
      },
      "cell_type" : "markdown",
      "source" : "# [Clustering4Ever](https://github.com/Clustering4Ever/Clustering4Ever) on [SparkNotebook](http://spark-notebook.io/) by [LIPN](https://lipn.univ-paris13.fr/) [A3](https://lipn.univ-paris13.fr/accueil/equipe/a3/) team"
    },
    {
      "metadata" : {
        "id" : "9BE3CBFDDB324D29914085C97E53D087"
      },
      "cell_type" : "markdown",
      "source" : "# Scala Gradient Ascent"
    },
    {
      "metadata" : {
        "trusted" : true,
        "input_collapsed" : false,
        "collapsed" : false,
        "id" : "2723CA508CC84A868DB0D63A7DB41C03"
      },
      "cell_type" : "code",
      "source" : [
        "import smile.plot._\n",
        "import scala.io.Source\n",
        "import org.clustering4ever.math.distances.scalar.Euclidean\n",
        "import org.clustering4ever.clusterizables.EasyClusterizable\n",
        "import org.clustering4ever.vectorizables.Vectorizable\n",
        "import org.clustering4ever.vectors.ScalarVector\n",
        "import org.clustering4ever.scala.clustering.meanshift.{GradientAscent, GradientAscentArgs}\n",
        "import org.clustering4ever.enums.KernelNature\n",
        "import scala.collection.{immutable, mutable}\n",
        "import org.clustering4ever.kernels._\n",
        "import org.clustering4ever.shapeless.VMapping"
      ],
      "outputs" : [
        {
          "name" : "stdout",
          "output_type" : "stream",
          "text" : "import smile.plot._\nimport scala.io.Source\nimport org.clustering4ever.math.distances.scalar.Euclidean\nimport org.clustering4ever.clusterizables.EasyClusterizable\nimport org.clustering4ever.vectorizables.Vectorizable\nimport org.clustering4ever.vectors.ScalarVector\nimport org.clustering4ever.scala.clustering.meanshift.{GradientAscent, GradientAscentArgs}\nimport org.clustering4ever.enums.KernelNature\nimport scala.collection.{immutable, mutable}\nimport org.clustering4ever.kernels._\nimport org.clustering4ever.shapeless.VMapping\n"
        },
        {
          "metadata" : { },
          "data" : {
            "text/html" : ""
          },
          "output_type" : "execute_result",
          "execution_count" : 1,
          "time" : "Took: 0.665s, at 2019-01-18 00:15"
        }
      ]
    },
    {
      "metadata" : {
        "id" : "C001456FD09A4F8697712D9D1DF3EB17"
      },
      "cell_type" : "markdown",
      "source" : "## Download dataset Aggregation"
    },
    {
      "metadata" : {
        "trusted" : true,
        "input_collapsed" : false,
        "collapsed" : false,
        "id" : "ADF3A07D58F74656A91E11A1FF13920B"
      },
      "cell_type" : "code",
      "source" : [
        ":sh wget -P /tmp/ http://www.clustering4ever.org/Datasets/Aggregation/aggregation.csv\n",
        ":sh wget -P /tmp/ http://www.clustering4ever.org/Datasets/Aggregation/labels"
      ],
      "outputs" : [
        {
          "name" : "stdout",
          "output_type" : "stream",
          "text" : "--2019-01-17 23:56:38--  http://www.clustering4ever.org/Datasets/Aggregation/aggregation.csv\nResolving www.clustering4ever.org (www.clustering4ever.org)... 62.210.16.62\nConnecting to www.clustering4ever.org (www.clustering4ever.org)|62.210.16.62|:80... connected.\nHTTP request sent, awaiting response... 200 OK\nLength: 8063 (7.9K) [text/csv]\nSaving to: ‘/tmp/aggregation.csv.1’\n\n     0K .......                                               100%  101M=0s\n\n2019-01-17 23:56:38 (101 MB/s) - ‘/tmp/aggregation.csv.1’ saved [8063/8063]\n\n:sh: Scheme missing.\n--2019-01-17 23:56:38--  http://wget/\nResolving wget (wget)... failed: Name or service not known.\nwget: unable to resolve host address ‘wget’\n--2019-01-17 23:56:38--  http://www.clustering4ever.org/Datasets/Aggregation/labels\nReusing existing connection to www.clustering4ever.org:80.\nHTTP request sent, awaiting response... 200 OK\nLength: 1576 (1.5K)\nSaving to: ‘/tmp/labels.1’\n\n     0K .                                                     100%  258M=0s\n\n2019-01-17 23:56:38 (258 MB/s) - ‘/tmp/labels.1’ saved [1576/1576]\n\nFINISHED --2019-01-17 23:56:38--\nTotal wall clock time: 0.1s\nDownloaded: 2 files, 9.4K in 0s (112 MB/s)\njava.lang.RuntimeException: Nonzero exit value: 4\n  at scala.sys.package$.error(package.scala:27)\n  at scala.sys.process.ProcessBuilderImpl$AbstractBuilder.slurp(ProcessBuilderImpl.scala:132)\n  at scala.sys.process.ProcessBuilderImpl$AbstractBuilder.$bang$bang(ProcessBuilderImpl.scala:103)\n  ... 63 elided\n"
        }
      ]
    },
    {
      "metadata" : {
        "id" : "4BEB170294834C8B92F180754CF0F42F"
      },
      "cell_type" : "markdown",
      "source" : "## Import data as ParArray[ArrayBuffer[Double]]"
    },
    {
      "metadata" : {
        "trusted" : true,
        "input_collapsed" : false,
        "collapsed" : false,
        "id" : "063B66723A63401CBC2F0A23BE2C2E18"
      },
      "cell_type" : "code",
      "source" : [
        "val path = \"/tmp/aggregation.csv\"\n",
        "val data = Source.fromFile(path).getLines.toSeq.map( x => mutable.ArrayBuffer(x.split(\",\").map(_.toDouble):_*)).toParArray.zipWithIndex\n",
        "    .map{ case (v, id) => EasyClusterizable(id, ScalarVector(v)) }\n",
        "val labelsPath = \"/tmp/labels\""
      ],
      "outputs" : [
        {
          "name" : "stdout",
          "output_type" : "stream",
          "text" : "path: String = /tmp/aggregation.csv\ndata: scala.collection.parallel.mutable.ParArray[org.clustering4ever.clusterizables.EasyClusterizable[Int,org.clustering4ever.vectors.ScalarVector[scala.collection.mutable.ArrayBuffer[Double]],org.clustering4ever.vectors.ScalarVector[scala.collection.mutable.ArrayBuffer[Double]]]] = ParArray(EasyClusterizable(0,Vectorizable(ScalarVector(ArrayBuffer(15.55, 28.65))),ScalarVector(ArrayBuffer(15.55, 28.65)),shapeless.HMap@ffbe1d,Vector()), EasyClusterizable(1,Vectorizable(ScalarVector(ArrayBuffer(14.9, 27.55))),ScalarVector(ArrayBuffer(14.9, 27.55)),shapeless.HMap@1335e7ec,Vector()), EasyClusterizable(2,Vectorizable(ScalarVector(ArrayBuffer(14.45, 28.35))),ScalarVector(ArrayBuffer(14.45, 28.35)),shapeless.HMap@75e8cbc9,Vector()), EasyClusterizable(3,Vecto..."
        },
        {
          "metadata" : { },
          "data" : {
            "text/html" : ""
          },
          "output_type" : "execute_result",
          "execution_count" : 2,
          "time" : "Took: 1.400s, at 2019-01-18 00:15"
        }
      ]
    },
    {
      "metadata" : {
        "id" : "DB906BE4458347E98566175F44A41B25"
      },
      "cell_type" : "markdown",
      "source" : "## Parameters "
    },
    {
      "metadata" : {
        "trusted" : true,
        "input_collapsed" : false,
        "collapsed" : false,
        "id" : "7B7F65B92A1849639D25B8260E8FC13D"
      },
      "cell_type" : "code",
      "source" : [
        "val classicEuclidean = new Euclidean[mutable.ArrayBuffer[Double]](false)\n",
        "val k = 40\n",
        "val epsilon = 0.00001\n",
        "val maxNumberIter = 50"
      ],
      "outputs" : [
        {
          "name" : "stdout",
          "output_type" : "stream",
          "text" : "classicEuclidean: org.clustering4ever.math.distances.scalar.Euclidean[scala.collection.mutable.ArrayBuffer[Double]] = Euclidean distance without squared root applied\nk: Int = 40\nepsilon: Double = 1.0E-5\nmaxNumberIter: Int = 50\n"
        },
        {
          "metadata" : { },
          "data" : {
            "text/html" : ""
          },
          "output_type" : "execute_result",
          "execution_count" : 3,
          "time" : "Took: 0.836s, at 2019-01-18 00:15"
        }
      ]
    },
    {
      "metadata" : {
        "trusted" : true,
        "input_collapsed" : false,
        "collapsed" : false,
        "id" : "3ACC978A00A140DE898B02D95B00E214"
      },
      "cell_type" : "code",
      "source" : [
        "val knnRealKernel = KernelArgsKnnReal(k = 50, metric = classicEuclidean)\n",
        "val knnEuclideanKernel = KernelArgsEuclideanKnn(k = 100, metric = classicEuclidean)\n",
        "val gaussianArgs = KernelArgsGaussian(bandwidth = 0.001, metric = classicEuclidean)\n",
        "val flatArgs = KernelArgsFlat(bandwidth = 0.75, metric = classicEuclidean, lambda = 1D)\n",
        "val sigmoidArgs = KernelArgsSigmoid(a = 1D, b = 3D)"
      ],
      "outputs" : [
        {
          "name" : "stdout",
          "output_type" : "stream",
          "text" : "knnRealKernel: org.clustering4ever.kernels.KernelArgsKnnReal[scala.collection.mutable.ArrayBuffer[Double],org.clustering4ever.math.distances.scalar.Euclidean] = KernelArgsKnnReal(50,Euclidean distance without squared root applied)\nknnEuclideanKernel: org.clustering4ever.kernels.KernelArgsEuclideanKnn[scala.collection.mutable.ArrayBuffer[Double],org.clustering4ever.math.distances.scalar.Euclidean] = KernelArgsEuclideanKnn(100,Euclidean distance without squared root applied)\ngaussianArgs: org.clustering4ever.kernels.KernelArgsGaussian[scala.collection.mutable.ArrayBuffer[Double],org.clustering4ever.math.distances.scalar.Euclidean] = KernelArgsGaussian(0.001,Euclidean distance without squared root applied)\nflatArgs: org.clustering4ever.kernels.KernelArgsFlat[scala.collection.mutable.ArrayB..."
        },
        {
          "metadata" : { },
          "data" : {
            "text/html" : ""
          },
          "output_type" : "execute_result",
          "execution_count" : 4,
          "time" : "Took: 0.861s, at 2019-01-18 00:15"
        }
      ]
    },
    {
      "metadata" : {
        "trusted" : true,
        "input_collapsed" : false,
        "collapsed" : false,
        "id" : "6E2D7CB9F96D4C13854803E8CBD0DE39"
      },
      "cell_type" : "code",
      "source" : [
        "val gaussian = KernelGaussian(gaussianArgs)\n",
        "val flat = KernelFlat(flatArgs)\n",
        "val sigmoid = KernelSigmoid[mutable.ArrayBuffer[Double]](sigmoidArgs)\n",
        "val knnReal = KnnKernelReal(knnRealKernel)\n",
        "val knnEuc = KnnKernelEuclidean(knnEuclideanKernel)"
      ],
      "outputs" : [
        {
          "name" : "stdout",
          "output_type" : "stream",
          "text" : "gaussian: org.clustering4ever.kernels.KernelGaussian[scala.collection.mutable.ArrayBuffer[Double],org.clustering4ever.math.distances.scalar.Euclidean] = KernelGaussian(KernelArgsGaussian(0.001,Euclidean distance without squared root applied))\nflat: org.clustering4ever.kernels.KernelFlat[scala.collection.mutable.ArrayBuffer[Double],org.clustering4ever.math.distances.scalar.Euclidean] = KernelFlat(KernelArgsFlat(0.75,Euclidean distance without squared root applied,1.0))\nsigmoid: org.clustering4ever.kernels.KernelSigmoid[scala.collection.mutable.ArrayBuffer[Double]] = KernelSigmoid(KernelArgsSigmoid(1.0,3.0))\nknnReal: org.clustering4ever.kernels.KnnKernelReal[scala.collection.mutable.ArrayBuffer[Double],org.clustering4ever.math.distances.scalar.Euclidean,org.clustering4ever.kernels.KernelA..."
        },
        {
          "metadata" : { },
          "data" : {
            "text/html" : ""
          },
          "output_type" : "execute_result",
          "execution_count" : 5,
          "time" : "Took: 0.953s, at 2019-01-18 00:15"
        }
      ]
    },
    {
      "metadata" : {
        "id" : "351DECE0EB4B4DAE8395D89284DABB26"
      },
      "cell_type" : "markdown",
      "source" : "## Run the algorithm"
    },
    {
      "metadata" : {
        "trusted" : true,
        "input_collapsed" : false,
        "collapsed" : false,
        "id" : "4B5F70351A59459AB5A5DC7DBD18C7D7"
      },
      "cell_type" : "code",
      "source" : [
        "val idWhereKeepNewVectorization = 9\n",
        "\n",
        "val t1 = System.currentTimeMillis\n",
        "val convergedDS =  GradientAscent.run(data, epsilon, maxNumberIter, knnEuc, classicEuclidean, idWhereKeepNewVectorization)\n",
        "val t2 = System.currentTimeMillis\n",
        "\n",
        "(t2 - t1) / 1000D"
      ],
      "outputs" : [
        {
          "name" : "stdout",
          "output_type" : "stream",
          "text" : "idWhereKeepNewVectorization: Int = 9\nt1: Long = 1547766947857\nconvergedDS: scala.collection.parallel.mutable.ParArray[org.clustering4ever.clusterizables.EasyClusterizable[Int,org.clustering4ever.vectors.ScalarVector[scala.collection.mutable.ArrayBuffer[Double]],org.clustering4ever.vectors.ScalarVector[scala.collection.mutable.ArrayBuffer[Double]]]] = ParArray(EasyClusterizable(0,Vectorizable(ScalarVector(ArrayBuffer(15.55, 28.65))),ScalarVector(ArrayBuffer(15.55, 28.65)),shapeless.HMap@42657c53,Vector()), EasyClusterizable(1,Vectorizable(ScalarVector(ArrayBuffer(14.9, 27.55))),ScalarVector(ArrayBuffer(14.9, 27.55)),shapeless.HMap@163d8292,Vector()), EasyClusterizable(2,Vectorizable(ScalarVector(ArrayBuffer(14.45, 28.35))),ScalarVector(ArrayBuffer(14.45, 28.35)),shapeless.HMap@1f6c0351,V..."
        },
        {
          "metadata" : { },
          "data" : {
            "text/html" : "0.588"
          },
          "output_type" : "execute_result",
          "execution_count" : 6,
          "time" : "Took: 1.780s, at 2019-01-18 00:15"
        }
      ]
    },
    {
      "metadata" : {
        "id" : "770CC40C9DD74ABA8F3E84B4C92BF913"
      },
      "cell_type" : "markdown",
      "source" : "\n\n# Plot original and converged datsasets"
    },
    {
      "metadata" : {
        "trusted" : true,
        "input_collapsed" : false,
        "collapsed" : false,
        "id" : "0A0382CA6A1A46E08BA3BF495429959D"
      },
      "cell_type" : "code",
      "source" : [
        "val vMapping = VMapping[Int, ScalarVector[mutable.ArrayBuffer[Double]]]\n",
        "val res = convergedDS.map(_.vectorized.get(idWhereKeepNewVectorization)(vMapping).get.vector.toArray).toArray\n",
        "plot(res)"
      ],
      "outputs" : [
        {
          "name" : "stdout",
          "output_type" : "stream",
          "text" : "vMapping: org.clustering4ever.shapeless.VMapping[Int,org.clustering4ever.vectors.ScalarVector[scala.collection.mutable.ArrayBuffer[Double]]] = org.clustering4ever.shapeless.VMapping@65c7e3ad\nres: Array[Array[Double]] = Array(Array(8.8315, 24.303999999999995), Array(8.8315, 24.303999999999995), Array(8.8315, 24.303999999999995), Array(8.8315, 24.303999999999995), Array(8.8315, 24.303999999999995), Array(8.8315, 24.303999999999995), Array(8.8315, 24.303999999999995), Array(8.8315, 24.303999999999995), Array(8.8315, 24.303999999999995), Array(8.8315, 24.303999999999995), Array(8.8315, 24.303999999999995), Array(8.8315, 24.303999999999995), Array(8.8315, 24.303999999999995), Array(8.8315, 24.303999999999995), Array(8.8315, 24.303999999999995), Array(8.8315, 24.303999999999995), Array(8.8315..."
        },
        {
          "metadata" : { },
          "data" : {
            "text/html" : "Window(javax.swing.JFrame[frame1,460,37,1000x1000,layout=java.awt.BorderLayout,title=Smile Plot 2,resizable,normal,defaultCloseOperation=DISPOSE_ON_CLOSE,rootPane=javax.swing.JRootPane[,0,37,1000x963,layout=javax.swing.JRootPane$RootLayout,alignmentX=0.0,alignmentY=0.0,border=,flags=16777675,maximumSize=,minimumSize=,preferredSize=],rootPaneCheckingEnabled=true],smile.plot.PlotCanvas[,0,0,1000x963,layout=java.awt.BorderLayout,alignmentX=0.0,alignmentY=0.0,border=,flags=11,maximumSize=,minimumSize=,preferredSize=])"
          },
          "output_type" : "execute_result",
          "execution_count" : 7,
          "time" : "Took: 1.155s, at 2019-01-18 00:15"
        }
      ]
    }
  ],
  "nbformat" : 4
}