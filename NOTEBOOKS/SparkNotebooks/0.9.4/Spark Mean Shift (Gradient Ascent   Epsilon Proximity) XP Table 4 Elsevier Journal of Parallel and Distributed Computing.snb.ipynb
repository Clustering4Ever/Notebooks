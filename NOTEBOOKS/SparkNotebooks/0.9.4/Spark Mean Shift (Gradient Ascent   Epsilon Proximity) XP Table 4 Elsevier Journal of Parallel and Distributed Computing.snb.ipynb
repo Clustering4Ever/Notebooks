{
  "metadata" : {
    "id" : "2e34d554-7c5b-488d-aa26-d2a286286480",
    "name" : "Spark Mean Shift (Gradient Ascent   Epsilon Proximity) XP Table 4 Elsevier Journal of Parallel and Distributed Computing",
    "user_save_timestamp" : "1970-01-01T01:00:00.000Z",
    "auto_save_timestamp" : "1970-01-01T01:00:00.000Z",
    "language_info" : {
      "name" : "scala",
      "file_extension" : "scala",
      "codemirror_mode" : "text/x-scala"
    },
    "trusted" : true,
    "sparkNotebook" : null,
    "customLocalRepo" : "${HOME}/.ivy2",
    "customRepos" : null,
    "customDeps" : [
      "com.github.haifengl:smile-scala_2.11:1.5.0",
      "org.apache.sanselan % sanselan % 0.97-incubator",
      "org.clustering4ever %% clustering4ever % 0.9.4"
    ],
    "customImports" : null,
    "customArgs" : null,
    "customSparkConf" : {
      "spark.master" : "local[8]",
      "spark.executor.memory" : "20G"
    },
    "customVars" : null
  },
  "cells" : [
    {
      "metadata" : {
        "trusted" : true,
        "input_collapsed" : false,
        "collapsed" : false,
        "id" : "2913C6A4850E42208AF6EA72EDF85972"
      },
      "cell_type" : "code",
      "source" : [
        "import scala.collection.mutable\n",
        "import scala.math.{pow, sqrt}\n",
        "import smile.plot._\n",
        "import org.clustering4ever.math.distances.scalar.{Euclidean, Cosine, Minkowski}\n",
        "import org.clustering4ever.math.distances.ContinuousDistance\n",
        "import org.clustering4ever.clustering.epsilonproximity.rdd.EpsilonProximityScalar\n",
        "import org.clustering4ever.vectorizables.Vectorizable\n",
        "import org.clustering4ever.clusterizables.EasyClusterizable\n",
        "import org.apache.spark.storage.StorageLevel\n",
        "import org.clustering4ever.vectors.ScalarVector\n",
        "import org.clustering4ever.hashing.LDLSH\n",
        "import org.clustering4ever.spark.clustering.GradientAscent\n",
        "import org.clustering4ever.shapeless.{VMapping, VectorizationMapping}\n",
        "import org.clustering4ever.clustering.indices.MultiExternalIndicesLocal"
      ],
      "outputs" : [
        {
          "name" : "stdout",
          "output_type" : "stream",
          "text" : "import scala.collection.mutable\nimport scala.math.{pow, sqrt}\nimport smile.plot._\nimport org.clustering4ever.math.distances.scalar.{Euclidean, Cosine, Minkowski}\nimport org.clustering4ever.math.distances.ContinuousDistance\nimport org.clustering4ever.clustering.epsilonproximity.rdd.EpsilonProximityScalar\nimport org.clustering4ever.vectorizables.Vectorizable\nimport org.clustering4ever.clusterizables.EasyClusterizable\nimport org.apache.spark.storage.StorageLevel\nimport org.clustering4ever.vectors.ScalarVector\nimport org.clustering4ever.hashing.LDLSH\nimport org.clustering4ever.spark.clustering.GradientAscent\nimport org.clustering4ever.shapeless.{VMapping, VectorizationMapping}\nimport org.clustering4ever.clustering.indices.MultiExternalIndicesLocal\n"
        },
        {
          "metadata" : { },
          "data" : {
            "text/html" : ""
          },
          "output_type" : "execute_result",
          "execution_count" : 1,
          "time" : "Took: 0.779s, at 2019-05-09 17:21"
        }
      ]
    },
    {
      "metadata" : {
        "id" : "456D45C45FBE4580973689E4AEF875EE"
      },
      "cell_type" : "markdown",
      "source" : "## Download dataset Aggregation"
    },
    {
      "metadata" : {
        "trusted" : true,
        "input_collapsed" : false,
        "collapsed" : false,
        "id" : "2B9DAA1A1D6E4BD59907AC8CDD3FA54D"
      },
      "cell_type" : "code",
      "source" : [
        ":sh wget -P /tmp/ http://www.clustering4ever.org/Datasets/DS1/DS1.csv\n",
        ":sh wget -P /tmp/ http://www.clustering4ever.org/Datasets/DS1/DS1-labels.csv"
      ],
      "outputs" : [
        {
          "name" : "stdout",
          "output_type" : "stream",
          "text" : "--2019-05-09 18:17:11--  http://www.clustering4ever.org/Datasets/DS1/DS1.csv\nResolving www.clustering4ever.org (www.clustering4ever.org)... 62.210.16.62\nConnecting to www.clustering4ever.org (www.clustering4ever.org)|62.210.16.62|:80... connected.\nHTTP request sent, awaiting response... 200 OK\nLength: 73786 (72K) [text/csv]\nSaving to: ‘/tmp/DS1.csv.19’\n\n     0K .......... .......... .......... .......... .......... 69% 9.29M 0s\n    50K .......... .......... ..                              100% 11.3M=0.007s\n\n2019-05-09 18:17:11 (9.82 MB/s) - ‘/tmp/DS1.csv.19’ saved [73786/73786]\n\n:sh: Scheme missing.\n--2019-05-09 18:17:11--  http://wget/\nResolving wget (wget)... failed: Name or service not known.\nwget: unable to resolve host address ‘wget’\n--2019-05-09 18:17:11--  http://www.clustering4ever.org/Datasets/DS1/DS1-labels.csv\nReusing existing connection to www.clustering4ever.org:80.\nHTTP request sent, awaiting response... 200 OK\nLength: 19315 (19K) [text/csv]\nSaving to: ‘/tmp/DS1-labels.csv.19’\n\n     0K .......... ........                                   100%  220M=0s\n\n2019-05-09 18:17:11 (220 MB/s) - ‘/tmp/DS1-labels.csv.19’ saved [19315/19315]\n\nFINISHED --2019-05-09 18:17:11--\nTotal wall clock time: 0.2s\nDownloaded: 2 files, 91K in 0.007s (12.2 MB/s)\njava.lang.RuntimeException: Nonzero exit value: 4\n  at scala.sys.package$.error(package.scala:27)\n  at scala.sys.process.ProcessBuilderImpl$AbstractBuilder.slurp(ProcessBuilderImpl.scala:132)\n  at scala.sys.process.ProcessBuilderImpl$AbstractBuilder.$bang$bang(ProcessBuilderImpl.scala:103)\n  ... 65 elided\n"
        }
      ]
    },
    {
      "metadata" : {
        "trusted" : true,
        "input_collapsed" : false,
        "collapsed" : false,
        "id" : "C68942FAAFED44D48EABB57163AFEB46"
      },
      "cell_type" : "code",
      "source" : [
        "type SeqType = mutable.ArrayBuffer[Double]\n",
        "val path = \"/tmp/DS1.csv\"\n",
        "val data = scala.io.Source.fromFile(path).getLines.map( x => mutable.ArrayBuffer(x.split(\",\").map(_.toDouble):_*) ).zipWithIndex\n",
        "  .map{ case (v, id) => EasyClusterizable(id.toLong, ScalarVector(v)) }.toSeq\n",
        "val rdd = sc.parallelize(data)\n",
        "val labelsPath = \"/tmp/DS1-labels.csv\""
      ],
      "outputs" : [
        {
          "name" : "stdout",
          "output_type" : "stream",
          "text" : "defined type alias SeqType\npath: String = /tmp/DS1.csv\ndata: Seq[org.clustering4ever.clusterizables.EasyClusterizable[None.type,org.clustering4ever.vectors.ScalarVector[scala.collection.mutable.ArrayBuffer[Double]]]] = Stream(EasyClusterizable(0,Vectorizable(None),ScalarVector(ArrayBuffer(122.0, 199.0)),shapeless.HMap@393972e3,Vector()), ?)\nrdd: org.apache.spark.rdd.RDD[org.clustering4ever.clusterizables.EasyClusterizable[None.type,org.clustering4ever.vectors.ScalarVector[scala.collection.mutable.ArrayBuffer[Double]]]] = ParallelCollectionRDD[0] at parallelize at <console>:87\nlabelsPath: String = /tmp/DS1-labels.csv\n"
        },
        {
          "metadata" : { },
          "data" : {
            "text/html" : ""
          },
          "output_type" : "execute_result",
          "execution_count" : 3,
          "time" : "Took: 1.037s, at 2019-05-09 17:21"
        }
      ]
    },
    {
      "metadata" : {
        "id" : "5D24F43335DF4E7D9147D7B3141CCE57"
      },
      "cell_type" : "markdown",
      "source" : "## Gradient Ascent & Epsilon Proximity commons parameters"
    },
    {
      "metadata" : {
        "trusted" : true,
        "input_collapsed" : false,
        "collapsed" : false,
        "id" : "2EB5B548E5E84E919101037B0B86AC19"
      },
      "cell_type" : "code",
      "source" : [
        "val bucketNumber = 12 // Approximatively DS_Size / 1000 for decent performance, the large buckets are the slower it becomes\n",
        "val bucketLayers = 1 // Neighbor bucket layer take into account during Gradient Ascent, at least 1 is recommended for decent k values, the bigger it is the slower it become\n",
        "\n",
        "val persistanceLVL: StorageLevel = StorageLevel.MEMORY_ONLY // Persistance Spark level \n",
        "val dim = 2 // Dim of your dataset\n",
        "val w = 1D // Don't observe any change by changing this value, let it to whatever you want\n",
        "val lsh = LDLSH[SeqType](dim, w)\n",
        "val trialsNumber = 10"
      ],
      "outputs" : [
        {
          "name" : "stdout",
          "output_type" : "stream",
          "text" : "bucketNumber: Int = 12\nbucketLayers: Int = 1\npersistanceLVL: org.apache.spark.storage.StorageLevel = StorageLevel(memory, deserialized, 1 replicas)\ndim: Int = 2\nw: Double = 1.0\nlsh: org.clustering4ever.hashing.LDLSH[SeqType] = LDLSH(2,1.0)\ntrialsNumber: Int = 10\n"
        },
        {
          "metadata" : { },
          "data" : {
            "text/html" : ""
          },
          "output_type" : "execute_result",
          "execution_count" : 4,
          "time" : "Took: 0.642s, at 2019-05-09 17:21"
        }
      ]
    },
    {
      "metadata" : {
        "id" : "2AC6EC51B13340A1BA88C605AC6CB7BA"
      },
      "cell_type" : "markdown",
      "source" : "## Gradient Ascent parameters"
    },
    {
      "metadata" : {
        "trusted" : true,
        "input_collapsed" : false,
        "collapsed" : false,
        "id" : "9A338904F8B8409E8550F6B3D8875667"
      },
      "cell_type" : "code",
      "source" : [
        "val k = 30 // Main Gradient Ascent parameter, the k of knn gradient ascent\n",
        "val k2 = 1 // Optional parameter which determine if studied point has to switch to its knn majority vote neighbor bucket // STAY FIX OVER XP\n",
        "val epsilon = 0.01 // Stopping criteria for Gradient Ascent, every point have to moove less than epsilon in order to stop iteration // STAY FIX OVER XP\n",
        "val maxNumberIter = 20 // STAY FIX OVER XP\n",
        "val propConvStopIter = 1D // Supplementary stopping criteria, stop if propConvStopIter % of data have converged // STAY FIX OVER XP\n",
        "val memoryExpensive = true // Choose for fast or slow computation at some memory cost\n",
        "// (building of similarity matrix per bucket per iter or on the fly (more calculus)) // STAY FIX OVER XP"
      ],
      "outputs" : [
        {
          "name" : "stdout",
          "output_type" : "stream",
          "text" : "k: Int = 30\nk2: Int = 1\nepsilon: Double = 0.01\nmaxNumberIter: Int = 20\npropConvStopIter: Double = 1.0\nmemoryExpensive: Boolean = true\n"
        },
        {
          "metadata" : { },
          "data" : {
            "text/html" : ""
          },
          "output_type" : "execute_result",
          "execution_count" : 5,
          "time" : "Took: 0.526s, at 2019-05-09 17:21"
        }
      ]
    },
    {
      "metadata" : {
        "id" : "F3826FA03FC741D7BA6A10E736817F15"
      },
      "cell_type" : "markdown",
      "source" : "## Epsilon proximity parameters"
    },
    {
      "metadata" : {
        "trusted" : true,
        "input_collapsed" : false,
        "collapsed" : false,
        "id" : "D1ACA7CD189D47AA958D57A94ECF8B60"
      },
      "cell_type" : "code",
      "source" : [
        "// Main parameter epsilon can be approximate with average distance knn => \"knn:88\" or be expressed directly as a double \"eps:3.67\"\n",
        "val epsilonEpsProx = \"knn:100\"\n",
        "// val epsilonEpsProx = \"eps:2.56\"\n",
        "val classicalMetric = Euclidean[SeqType](false) // STAY FIX OVER XP\n",
        "val methodChoice = \"bydot:1\" // Fusionning cluster methods, at least X dot have to satisfy fusionning condition with \"bydot:X\", X=1 is greatly recommended // STAY FIX OVER XP\n",
        "val divisionFactor = 1 // Experimental, let it to 1, it is supposed to speedup process on large datasets with bigger values but doesn't affect results // STAY FIX OVER XP\n",
        "val cmin = 0 // Fusion clusters that have less than X elements with their closest cluster, it is in O(c²) with c number of clusters. // STAY FIX OVER XP"
      ],
      "outputs" : [
        {
          "name" : "stdout",
          "output_type" : "stream",
          "text" : "epsilonEpsProx: String = knn:100\nclassicalMetric: org.clustering4ever.math.distances.scalar.Euclidean[SeqType] = Euclidean distance without squared root applied\nmethodChoice: String = bydot:1\ndivisionFactor: Int = 1\ncmin: Int = 0\n"
        },
        {
          "metadata" : { },
          "data" : {
            "text/html" : ""
          },
          "output_type" : "execute_result",
          "execution_count" : 6,
          "time" : "Took: 0.548s, at 2019-05-09 17:21"
        }
      ]
    },
    {
      "metadata" : {
        "trusted" : true,
        "input_collapsed" : false,
        "collapsed" : false,
        "id" : "D3CBF92FF6804C938589ECA9BC5C0D29"
      },
      "cell_type" : "code",
      "source" : [
        "// Theses 3 params have to be here else there is some bugs..., it works more properly on full programm versions\n",
        "val idOriginalVector = 8\n",
        "val idToStoreGAVector = 0\n",
        "val vm = VMapping[Int, ScalarVector[SeqType]]\n",
        "\n",
        "val trials = (0 until trialsNumber).map{ _ =>\n",
        "  val t0 = System.currentTimeMillis\n",
        "\n",
        "  val ascended = GradientAscent.train(rdd, k, epsilon, maxNumberIter, bucketNumber, bucketLayers, k2, propConvStopIter, memoryExpensive,\n",
        "    persistanceLVL, idToStoreGAVector, true)\n",
        "\n",
        "\n",
        "  val updatedData = ascended.map( cz => cz.addAlternativeVector(idOriginalVector, cz.v).switchForExistingVectorization(idToStoreGAVector, vm) )\n",
        "\n",
        "  val model = EpsilonProximityScalar(\n",
        "    epsilonEpsProx,\n",
        "    methodChoice,\n",
        "    classicalMetric,\n",
        "    bucketNumber,\n",
        "    lsh,\n",
        "    cmin,\n",
        "    bucketLayers,\n",
        "    StorageLevel.MEMORY_ONLY,\n",
        "    divisionFactor\n",
        "  ).fit(updatedData)\n",
        "\n",
        "  val clusterizedRDD = model.obtainInputDataClustering(updatedData)\n",
        "\n",
        "  val predLabels = clusterizedRDD.map(_.clusterIDs.head).collect\n",
        "\n",
        "  val t1 = System.currentTimeMillis\n",
        "\n",
        "  val trueLabels = scala.io.Source.fromFile(labelsPath).getLines.map(_.toInt).toSeq.toArray\n",
        "  val targetAndPred = trueLabels.zip(predLabels)\n",
        "\n",
        "  val mei = new MultiExternalIndicesLocal(targetAndPred)\n",
        "\n",
        "  val nmi = mei.nmiSQRT\n",
        "  val rand = mei.rand\n",
        "\n",
        "  val duration = (t1 - t0) / 1000D\n",
        "  (nmi, rand, duration)\n",
        "}\n",
        "\n"
      ],
      "outputs" : [
        {
          "name" : "stdout",
          "output_type" : "stream",
          "text" : "idOriginalVector: Int = 8\nidToStoreGAVector: Int = 0\nvm: org.clustering4ever.shapeless.VMapping[Int,org.clustering4ever.vectors.ScalarVector[SeqType]] = org.clustering4ever.shapeless.VMapping@72deca56\ntrials: scala.collection.immutable.IndexedSeq[(Double, Double, Double)] = Vector((0.0032867822618504483,0.7073869127703936,70.38), (0.0034345907801531313,0.7076585192366903,74.256), (0.0033763581551431326,0.7076375088911963,76.841), (0.003816431146950281,0.7089513239955718,76.932), (0.0032865836524378607,0.7073788428876925,76.421), (0.0035237955893258044,0.7086001647211086,78.33), (0.003286583652438072,0.7073788428876925,74.371), (0.003286583652438072,0.7073788428876925,79.59), (0.003487155587370376,0.7086311549807125,80.319), (0.002865570363003344,0.7070291161367858,77.376))\n"
        },
        {
          "metadata" : { },
          "data" : {
            "text/html" : ""
          },
          "output_type" : "execute_result",
          "execution_count" : 7,
          "time" : "Took: 12m45.919s, at 2019-05-09 17:33"
        }
      ]
    },
    {
      "metadata" : {
        "trusted" : true,
        "input_collapsed" : false,
        "collapsed" : false,
        "presentation" : {
          "tabs_state" : "{\n  \"tab_id\": \"#tab1672371587-0\"\n}",
          "pivot_chart_state" : "{\n  \"hiddenAttributes\": [],\n  \"menuLimit\": 200,\n  \"cols\": [],\n  \"rows\": [],\n  \"vals\": [],\n  \"exclusions\": {},\n  \"inclusions\": {},\n  \"unusedAttrsVertical\": 85,\n  \"autoSortUnusedAttrs\": false,\n  \"inclusionsInfo\": {},\n  \"aggregatorName\": \"Count\",\n  \"rendererName\": \"Table\"\n}"
        },
        "id" : "09C533A74AD74B339B2727876A374F58"
      },
      "cell_type" : "code",
      "source" : [
        "val (nmiSum, randSum, durationSum) = trials.reduce{ (a, b) => (a._1 + b._1, a._2 + b._2, a._3 + b._3) }\n",
        "val nmiMean = nmiSum / trials.size\n",
        "val randMean = randSum / trials.size\n",
        "val durationMean = durationSum / trials.size\n",
        "\n",
        "val (nmiSDnoSqrtnoDivided, randSDnoSqrtnoDivided, durationSDnoSqrtnoDivided) = trials\n",
        "  .map{ case (nmi, rand, duration) => (pow(nmi - nmiMean, 2), pow(rand - randMean, 2), pow(duration - durationMean, 2)) }\n",
        "  .reduce{ (a, b) => (a._1 + b._1, a._2 + b._2, a._3 + b._3) }\n",
        "\n",
        "val nmiSD = sqrt(nmiSDnoSqrtnoDivided / trials.size)\n",
        "val randSD = sqrt(randSDnoSqrtnoDivided / trials.size)\n",
        "val durationSD = sqrt(durationSDnoSqrtnoDivided / trials.size)"
      ],
      "outputs" : [
        {
          "name" : "stdout",
          "output_type" : "stream",
          "text" : "nmiSum: Double = 0.03365043484111052\nrandSum: Double = 7.078031229395536\ndurationSum: Double = 764.8159999999999\nnmiMean: Double = 0.0033650434841110523\nrandMean: Double = 0.7078031229395536\ndurationMean: Double = 76.48159999999999\nnmiSDnoSqrtnoDivided: Double = 5.228953201806108E-7\nrandSDnoSqrtnoDivided: Double = 3.999974694531574E-6\ndurationSDnoSqrtnoDivided: Double = 75.57747440000011\nnmiSD: Double = 2.286690447307223E-4\nrandSD: Double = 6.324535314575747E-4\ndurationSD: Double = 2.7491357623806087\n"
        },
        {
          "metadata" : { },
          "data" : {
            "text/html" : ""
          },
          "output_type" : "execute_result",
          "execution_count" : 8,
          "time" : "Took: 0.939s, at 2019-05-09 17:33"
        }
      ]
    },
    {
      "metadata" : {
        "trusted" : true,
        "input_collapsed" : false,
        "collapsed" : false,
        "id" : "A9FBE068F1E94645B1F128888F80FDD5"
      },
      "cell_type" : "code",
      "source" : [
        "println(\n",
        "  \"nmi : \" + nmiMean + \" +- \" + nmiSD + \"\\n\" +\n",
        "  \"rand : \" + randMean + \" +- \" + randSD + \"\\n\" +\n",
        "  \"duration : \" + durationMean + \" +- \" + durationSD\n",
        ")"
      ],
      "outputs" : [
        {
          "name" : "stdout",
          "output_type" : "stream",
          "text" : "nmi : 0.0033650434841110523 +- 2.286690447307223E-4\nrand : 0.7078031229395536 +- 6.324535314575747E-4\nduration : 76.48159999999999 +- 2.7491357623806087\n"
        },
        {
          "metadata" : { },
          "data" : {
            "text/html" : ""
          },
          "output_type" : "execute_result",
          "execution_count" : 9,
          "time" : "Took: 0.844s, at 2019-05-09 17:33"
        }
      ]
    }
  ],
  "nbformat" : 4
}